{
 "cells": [
  {
   "cell_type": "code",
   "execution_count": 7,
   "metadata": {
    "collapsed": true
   },
   "outputs": [],
   "source": [
    "import pandas as pd"
   ]
  },
  {
   "cell_type": "code",
   "execution_count": 8,
   "outputs": [],
   "source": [
    "with open('./data/sample_submission.csv') as file:\n",
    "    df_sub = pd.read_csv(file)\n",
    "with open('./data/test.csv') as file:\n",
    "    df_test = pd.read_csv(file)"
   ],
   "metadata": {
    "collapsed": false,
    "pycharm": {
     "name": "#%%\n"
    }
   }
  },
  {
   "cell_type": "code",
   "execution_count": 15,
   "outputs": [
    {
     "data": {
      "text/plain": "        id  target\n928   3063       0\n1948  6574       0\n507   1659       0\n1413  4652       0\n1726  5823       0\n2237  7455       0\n194    627       0\n2814  9354       0\n2131  7127       0\n924   3040       0",
      "text/html": "<div>\n<style scoped>\n    .dataframe tbody tr th:only-of-type {\n        vertical-align: middle;\n    }\n\n    .dataframe tbody tr th {\n        vertical-align: top;\n    }\n\n    .dataframe thead th {\n        text-align: right;\n    }\n</style>\n<table border=\"1\" class=\"dataframe\">\n  <thead>\n    <tr style=\"text-align: right;\">\n      <th></th>\n      <th>id</th>\n      <th>target</th>\n    </tr>\n  </thead>\n  <tbody>\n    <tr>\n      <th>928</th>\n      <td>3063</td>\n      <td>0</td>\n    </tr>\n    <tr>\n      <th>1948</th>\n      <td>6574</td>\n      <td>0</td>\n    </tr>\n    <tr>\n      <th>507</th>\n      <td>1659</td>\n      <td>0</td>\n    </tr>\n    <tr>\n      <th>1413</th>\n      <td>4652</td>\n      <td>0</td>\n    </tr>\n    <tr>\n      <th>1726</th>\n      <td>5823</td>\n      <td>0</td>\n    </tr>\n    <tr>\n      <th>2237</th>\n      <td>7455</td>\n      <td>0</td>\n    </tr>\n    <tr>\n      <th>194</th>\n      <td>627</td>\n      <td>0</td>\n    </tr>\n    <tr>\n      <th>2814</th>\n      <td>9354</td>\n      <td>0</td>\n    </tr>\n    <tr>\n      <th>2131</th>\n      <td>7127</td>\n      <td>0</td>\n    </tr>\n    <tr>\n      <th>924</th>\n      <td>3040</td>\n      <td>0</td>\n    </tr>\n  </tbody>\n</table>\n</div>"
     },
     "execution_count": 15,
     "metadata": {},
     "output_type": "execute_result"
    }
   ],
   "source": [
    "df_sub.sample(n=10, random_state=2)"
   ],
   "metadata": {
    "collapsed": false,
    "pycharm": {
     "name": "#%%df_sub.head()\n"
    }
   }
  },
  {
   "cell_type": "code",
   "execution_count": 17,
   "outputs": [
    {
     "data": {
      "text/plain": "         id         keyword                location  \\\n2092   7020          mayhem       The Woodlands, TX   \n2708   9017       stretcher               Lakerland   \n2836   9413       survivors      Bangkok, Thailand.   \n2527   8427       sandstorm                     USA   \n96      324     annihilated                     NaN   \n1499   4994       explosion                     NaN   \n1051   3449          derail  w/ @_ridabot, probably   \n1708   5768  forest%20fires       Kruibeke, BelgiÌÇ   \n261     850       bioterror  Washington, D.C., area   \n3140  10425       whirlwind         Springfield, MO   \n\n                                                   text  \n2092  Slayer at Rockstar Mayhem Festival #slayer #me...  \n2708                He's about to leave on a stretcher.  \n2836  As Anniversary Nears Atomic Bomb Survivors Spe...  \n2527  Watch This Airport Get Swallowed Up By A Sands...  \n96    @NinaHoag - 'if you shred my Psych work our fr...  \n1499  I liked a @YouTube video from @shawlarmedeai h...  \n1051  @PumpkinMari_Bot lemme just derail this real q...  \n1708  'People come and go. Some are cigarette breaks...  \n261   Latest fallout from biolab safety lapses: FedE...  \n3140  {{ whirlwind romance dress | in-store &amp; on...  ",
      "text/html": "<div>\n<style scoped>\n    .dataframe tbody tr th:only-of-type {\n        vertical-align: middle;\n    }\n\n    .dataframe tbody tr th {\n        vertical-align: top;\n    }\n\n    .dataframe thead th {\n        text-align: right;\n    }\n</style>\n<table border=\"1\" class=\"dataframe\">\n  <thead>\n    <tr style=\"text-align: right;\">\n      <th></th>\n      <th>id</th>\n      <th>keyword</th>\n      <th>location</th>\n      <th>text</th>\n    </tr>\n  </thead>\n  <tbody>\n    <tr>\n      <th>2092</th>\n      <td>7020</td>\n      <td>mayhem</td>\n      <td>The Woodlands, TX</td>\n      <td>Slayer at Rockstar Mayhem Festival #slayer #me...</td>\n    </tr>\n    <tr>\n      <th>2708</th>\n      <td>9017</td>\n      <td>stretcher</td>\n      <td>Lakerland</td>\n      <td>He's about to leave on a stretcher.</td>\n    </tr>\n    <tr>\n      <th>2836</th>\n      <td>9413</td>\n      <td>survivors</td>\n      <td>Bangkok, Thailand.</td>\n      <td>As Anniversary Nears Atomic Bomb Survivors Spe...</td>\n    </tr>\n    <tr>\n      <th>2527</th>\n      <td>8427</td>\n      <td>sandstorm</td>\n      <td>USA</td>\n      <td>Watch This Airport Get Swallowed Up By A Sands...</td>\n    </tr>\n    <tr>\n      <th>96</th>\n      <td>324</td>\n      <td>annihilated</td>\n      <td>NaN</td>\n      <td>@NinaHoag - 'if you shred my Psych work our fr...</td>\n    </tr>\n    <tr>\n      <th>1499</th>\n      <td>4994</td>\n      <td>explosion</td>\n      <td>NaN</td>\n      <td>I liked a @YouTube video from @shawlarmedeai h...</td>\n    </tr>\n    <tr>\n      <th>1051</th>\n      <td>3449</td>\n      <td>derail</td>\n      <td>w/ @_ridabot, probably</td>\n      <td>@PumpkinMari_Bot lemme just derail this real q...</td>\n    </tr>\n    <tr>\n      <th>1708</th>\n      <td>5768</td>\n      <td>forest%20fires</td>\n      <td>Kruibeke, BelgiÌÇ</td>\n      <td>'People come and go. Some are cigarette breaks...</td>\n    </tr>\n    <tr>\n      <th>261</th>\n      <td>850</td>\n      <td>bioterror</td>\n      <td>Washington, D.C., area</td>\n      <td>Latest fallout from biolab safety lapses: FedE...</td>\n    </tr>\n    <tr>\n      <th>3140</th>\n      <td>10425</td>\n      <td>whirlwind</td>\n      <td>Springfield, MO</td>\n      <td>{{ whirlwind romance dress | in-store &amp;amp; on...</td>\n    </tr>\n  </tbody>\n</table>\n</div>"
     },
     "execution_count": 17,
     "metadata": {},
     "output_type": "execute_result"
    }
   ],
   "source": [
    "df_test.sample(10, random_state=32)"
   ],
   "metadata": {
    "collapsed": false,
    "pycharm": {
     "name": "#%%\n"
    }
   }
  }
 ],
 "metadata": {
  "kernelspec": {
   "display_name": "Python 3",
   "language": "python",
   "name": "python3"
  },
  "language_info": {
   "codemirror_mode": {
    "name": "ipython",
    "version": 2
   },
   "file_extension": ".py",
   "mimetype": "text/x-python",
   "name": "python",
   "nbconvert_exporter": "python",
   "pygments_lexer": "ipython2",
   "version": "2.7.6"
  }
 },
 "nbformat": 4,
 "nbformat_minor": 0
}