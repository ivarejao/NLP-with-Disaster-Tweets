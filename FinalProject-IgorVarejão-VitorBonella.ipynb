{
 "cells": [
  {
   "cell_type": "markdown",
   "source": [
    "# Instala dependências"
   ],
   "metadata": {
    "collapsed": false,
    "pycharm": {
     "name": "#%% md\n"
    }
   }
  },
  {
   "cell_type": "code",
   "execution_count": 42,
   "outputs": [
    {
     "name": "stdout",
     "output_type": "stream",
     "text": [
      "Requirement already satisfied: graphviz in c:\\users\\vitor\\appdata\\local\\programs\\python\\python38\\lib\\site-packages (0.14.1)\n",
      "Note: you may need to restart the kernel to use updated packages.\n"
     ]
    },
    {
     "name": "stderr",
     "output_type": "stream",
     "text": [
      "WARNING: Ignoring invalid distribution -illow (c:\\users\\vitor\\appdata\\local\\programs\\python\\python38\\lib\\site-packages)\n",
      "WARNING: Ignoring invalid distribution -illow (c:\\users\\vitor\\appdata\\local\\programs\\python\\python38\\lib\\site-packages)\n",
      "WARNING: Ignoring invalid distribution -illow (c:\\users\\vitor\\appdata\\local\\programs\\python\\python38\\lib\\site-packages)\n",
      "WARNING: Ignoring invalid distribution -illow (c:\\users\\vitor\\appdata\\local\\programs\\python\\python38\\lib\\site-packages)\n",
      "WARNING: Ignoring invalid distribution -illow (c:\\users\\vitor\\appdata\\local\\programs\\python\\python38\\lib\\site-packages)\n",
      "WARNING: Ignoring invalid distribution -illow (c:\\users\\vitor\\appdata\\local\\programs\\python\\python38\\lib\\site-packages)\n",
      "WARNING: You are using pip version 22.0.3; however, version 22.0.4 is available.\n",
      "You should consider upgrading via the 'c:\\users\\vitor\\appdata\\local\\programs\\python\\python38\\python.exe -m pip install --upgrade pip' command.\n"
     ]
    },
    {
     "name": "stdout",
     "output_type": "stream",
     "text": [
      "Requirement already satisfied: pydotplus in c:\\users\\vitor\\appdata\\local\\programs\\python\\python38\\lib\\site-packages (2.0.2)Note: you may need to restart the kernel to use updated packages.\n",
      "\n",
      "Requirement already satisfied: pyparsing>=2.0.1 in c:\\users\\vitor\\appdata\\local\\programs\\python\\python38\\lib\\site-packages (from pydotplus) (2.4.7)\n"
     ]
    },
    {
     "name": "stderr",
     "output_type": "stream",
     "text": [
      "WARNING: Ignoring invalid distribution -illow (c:\\users\\vitor\\appdata\\local\\programs\\python\\python38\\lib\\site-packages)\n",
      "WARNING: Ignoring invalid distribution -illow (c:\\users\\vitor\\appdata\\local\\programs\\python\\python38\\lib\\site-packages)\n",
      "WARNING: Ignoring invalid distribution -illow (c:\\users\\vitor\\appdata\\local\\programs\\python\\python38\\lib\\site-packages)\n",
      "WARNING: Ignoring invalid distribution -illow (c:\\users\\vitor\\appdata\\local\\programs\\python\\python38\\lib\\site-packages)\n",
      "WARNING: Ignoring invalid distribution -illow (c:\\users\\vitor\\appdata\\local\\programs\\python\\python38\\lib\\site-packages)\n",
      "WARNING: Ignoring invalid distribution -illow (c:\\users\\vitor\\appdata\\local\\programs\\python\\python38\\lib\\site-packages)\n",
      "WARNING: You are using pip version 22.0.3; however, version 22.0.4 is available.\n",
      "You should consider upgrading via the 'c:\\users\\vitor\\appdata\\local\\programs\\python\\python38\\python.exe -m pip install --upgrade pip' command.\n"
     ]
    }
   ],
   "source": [
    "%pip install graphviz\n",
    "%pip install pydotplus"
   ],
   "metadata": {
    "collapsed": false,
    "pycharm": {
     "name": "#%%\n"
    }
   }
  },
  {
   "cell_type": "code",
   "execution_count": 43,
   "outputs": [],
   "source": [
    "#basics\n",
    "import pandas as pd\n",
    "import numpy as np\n",
    "import seaborn as sns\n",
    "import matplotlib.pyplot as plt\n",
    "\n",
    "#text process\n",
    "import nltk\n",
    "import unidecode\n",
    "import string\n",
    "from nltk import word_tokenize\n",
    "from nltk.corpus import stopwords\n",
    "from nltk.stem.porter import PorterStemmer\n",
    "from nltk.stem import WordNetLemmatizer\n",
    "\n",
    "# Classification\n",
    "from sklearn.model_selection import GridSearchCV\n",
    "from sklearn.metrics import classification_report\n",
    "from sklearn.metrics import ConfusionMatrixDisplay\n",
    "from sklearn.neighbors import KNeighborsClassifier\n",
    "from sklearn.tree import DecisionTreeClassifier\n",
    "\n",
    "# Decision tree\n",
    "import graphviz\n",
    "import pydotplus\n",
    "from sklearn.tree import DecisionTreeClassifier,export_graphviz"
   ],
   "metadata": {
    "collapsed": false,
    "pycharm": {
     "name": "#%%\n"
    }
   }
  },
  {
   "cell_type": "markdown",
   "source": [
    "Estudantes\n",
    "<ul>\n",
    "<li>Igor Mattos dos Santos Varejão - 2019107535 - igor.varejao@edu.ufes.br</li>\n",
    "<li>Vitor Berger Bonella - 2019107617 - vitor.bonella@edu.ufes.br</li>\n",
    "</ul>\n",
    "\n",
    "# Introdução\n",
    "\n",
    "Atualmente com o advento das redes sociais diversos desastres da humanidade são narrados em redes sociais\n",
    "porém nem sempre os fatos aprensentados nas redes sociais são verídicos e condizem com a realizade. Uma rede social,\n",
    "com alto nível de disseminação de informações, é o Twitter, nele as pessoas conseguem passar informações sem nenhuma regra\n",
    "(a não ser a limitação de caracteres) e fazendo posts na hora que quiserem, no qual, publicações normalmente são chamados\n",
    "de tweets. Neste contexto, tweets podem conter informações úteis para serviços de emergência, assim como alertar pessoas.\n",
    "Dessa forma, este trabalho tem como objetivo descobrir se um tweet é sobre um desastre, por meio de uma análise textual."
   ],
   "metadata": {
    "collapsed": false
   }
  },
  {
   "cell_type": "markdown",
   "source": [
    "# Definição do problema\n",
    "\n",
    "O problema a ser resolvido é uma classificação binária de um tweet sobre um desastre que ocorreu, a tarefa é analisar o\n",
    "texto e tentar diferenciar se é sobre um desastre ou não. Podemos ver um exemplo de tweet abaixo.\n",
    "\n",
    "<img src=\"https://storage.googleapis.com/kaggle-media/competitions/tweet_screenshot.png\"  width=250 height=500>\n"
   ],
   "metadata": {
    "collapsed": false
   }
  },
  {
   "cell_type": "markdown",
   "source": [
    "# Descrição do conjunto de dados\n",
    "\n",
    "O conjunto de dados foi extraido de uma competição da plataforma kaggle e pode ser encontrado nesse dominio :\n",
    "https://www.kaggle.com/c/nlp-getting-started/overview\n",
    "\n",
    "O dataset é composto por 5 colunas sendo elas:\n",
    "\n",
    "<ul>\n",
    "<li><b>Id</b> - Linha do tweet no data set</li>\n",
    "\n",
    "<li><b>Keyword</b> - Palavra principal do texto do tweet, a maioria é vazia, então não usaremos como feature</li>\n",
    "\n",
    "<li><b>Location</b> - Local onde o tweet foi realizado, tambem tem a maioria das entradas vazia então não usaremos como features</li>\n",
    "\n",
    "<li><b>Text</b> - Texto do tweet de desastre, focaremos nele pois durante o curso aprendemos metodos para fazer analise textual</li>\n",
    "\n",
    "<li><b>Target</b> - Target é a classe do tweet, 0 significa que não é sobre um desastre real e 1 significa que se trata\n",
    "de um desastre real.</li>\n",
    "\n",
    "</ul>\n",
    "\n",
    "# Metodologia"
   ],
   "metadata": {
    "collapsed": false
   }
  },
  {
   "cell_type": "markdown",
   "metadata": {
    "pycharm": {
     "name": "#%% md\n"
    }
   },
   "source": [
    "## Processamento dos dados\n",
    "\n",
    "Para realizar uma metodologia que faz sentido precisamos seguir alguns passos padrões tanto como a separação do dataset,\n",
    "como gerar uma analise textual atraves da matriz TF-IDF e redução da dimensionalidade com PCA.\n"
   ]
  },
  {
   "cell_type": "code",
   "execution_count": 44,
   "metadata": {},
   "outputs": [
    {
     "data": {
      "text/plain": "   id keyword location                                               text  \\\n0   0     NaN      NaN                 Just happened a terrible car crash   \n1   1     NaN      NaN  Our Deeds are the Reason of this #earthquake M...   \n2   2     NaN      NaN  Heard about #earthquake is different cities, s...   \n3   3     NaN      NaN  there is a forest fire at spot pond, geese are...   \n4   4     NaN      NaN             Forest fire near La Ronge Sask. Canada   \n\n   target  \n0       0  \n1       1  \n2       0  \n3       0  \n4       1  ",
      "text/html": "<div>\n<style scoped>\n    .dataframe tbody tr th:only-of-type {\n        vertical-align: middle;\n    }\n\n    .dataframe tbody tr th {\n        vertical-align: top;\n    }\n\n    .dataframe thead th {\n        text-align: right;\n    }\n</style>\n<table border=\"1\" class=\"dataframe\">\n  <thead>\n    <tr style=\"text-align: right;\">\n      <th></th>\n      <th>id</th>\n      <th>keyword</th>\n      <th>location</th>\n      <th>text</th>\n      <th>target</th>\n    </tr>\n  </thead>\n  <tbody>\n    <tr>\n      <th>0</th>\n      <td>0</td>\n      <td>NaN</td>\n      <td>NaN</td>\n      <td>Just happened a terrible car crash</td>\n      <td>0</td>\n    </tr>\n    <tr>\n      <th>1</th>\n      <td>1</td>\n      <td>NaN</td>\n      <td>NaN</td>\n      <td>Our Deeds are the Reason of this #earthquake M...</td>\n      <td>1</td>\n    </tr>\n    <tr>\n      <th>2</th>\n      <td>2</td>\n      <td>NaN</td>\n      <td>NaN</td>\n      <td>Heard about #earthquake is different cities, s...</td>\n      <td>0</td>\n    </tr>\n    <tr>\n      <th>3</th>\n      <td>3</td>\n      <td>NaN</td>\n      <td>NaN</td>\n      <td>there is a forest fire at spot pond, geese are...</td>\n      <td>0</td>\n    </tr>\n    <tr>\n      <th>4</th>\n      <td>4</td>\n      <td>NaN</td>\n      <td>NaN</td>\n      <td>Forest fire near La Ronge Sask. Canada</td>\n      <td>1</td>\n    </tr>\n  </tbody>\n</table>\n</div>"
     },
     "execution_count": 44,
     "metadata": {},
     "output_type": "execute_result"
    }
   ],
   "source": [
    "with open('./data/dataset.csv', encoding=\"utf8\") as file:\n",
    "    df = pd.read_csv(file)\n",
    "    \n",
    "df.head()\n",
    "\n"
   ]
  },
  {
   "cell_type": "code",
   "execution_count": 45,
   "outputs": [],
   "source": [
    "df.text = [c.lower() for c in df.text]\n"
   ],
   "metadata": {
    "collapsed": false,
    "pycharm": {
     "name": "#%%\n"
    }
   }
  },
  {
   "cell_type": "markdown",
   "metadata": {},
   "source": [
    "## Separação treino e teste"
   ]
  },
  {
   "cell_type": "markdown",
   "source": [
    "Ocorre a separação do dataset em treino em teste na proporção 80% pra 20%, respectivamente, além disso, a criação dos mesmo é feito de forma aleatória para não criarmos dataset enviesados, além de estar estratificado com o dataset."
   ],
   "metadata": {
    "collapsed": false,
    "pycharm": {
     "name": "#%% md\n"
    }
   }
  },
  {
   "cell_type": "code",
   "execution_count": 46,
   "metadata": {},
   "outputs": [],
   "source": [
    "from sklearn.model_selection import train_test_split\n",
    "\n",
    "df_train_raw, df_test_raw = train_test_split(df, test_size=0.2, shuffle=True, random_state=42, stratify=df['target'])\n",
    "\n",
    "df_train_raw = df_train_raw.sort_values(by=['id']).reset_index(drop=True)\n",
    "df_test_raw = df_test_raw.sort_values(by=['id']).reset_index(drop=True)\n",
    "\n",
    "df_train_raw = df_train_raw"
   ]
  },
  {
   "cell_type": "markdown",
   "source": [
    "## Trainset"
   ],
   "metadata": {
    "collapsed": false,
    "pycharm": {
     "name": "#%% md\n"
    }
   }
  },
  {
   "cell_type": "code",
   "execution_count": 47,
   "metadata": {},
   "outputs": [
    {
     "name": "stdout",
     "output_type": "stream",
     "text": [
      "(8700, 5)\n"
     ]
    },
    {
     "data": {
      "text/plain": "   id keyword location                                               text  \\\n0   0     NaN      NaN                 just happened a terrible car crash   \n1   1     NaN      NaN  our deeds are the reason of this #earthquake m...   \n2   2     NaN      NaN  heard about #earthquake is different cities, s...   \n3   3     NaN      NaN  there is a forest fire at spot pond, geese are...   \n4   4     NaN      NaN             forest fire near la ronge sask. canada   \n\n   target  \n0       0  \n1       1  \n2       0  \n3       0  \n4       1  ",
      "text/html": "<div>\n<style scoped>\n    .dataframe tbody tr th:only-of-type {\n        vertical-align: middle;\n    }\n\n    .dataframe tbody tr th {\n        vertical-align: top;\n    }\n\n    .dataframe thead th {\n        text-align: right;\n    }\n</style>\n<table border=\"1\" class=\"dataframe\">\n  <thead>\n    <tr style=\"text-align: right;\">\n      <th></th>\n      <th>id</th>\n      <th>keyword</th>\n      <th>location</th>\n      <th>text</th>\n      <th>target</th>\n    </tr>\n  </thead>\n  <tbody>\n    <tr>\n      <th>0</th>\n      <td>0</td>\n      <td>NaN</td>\n      <td>NaN</td>\n      <td>just happened a terrible car crash</td>\n      <td>0</td>\n    </tr>\n    <tr>\n      <th>1</th>\n      <td>1</td>\n      <td>NaN</td>\n      <td>NaN</td>\n      <td>our deeds are the reason of this #earthquake m...</td>\n      <td>1</td>\n    </tr>\n    <tr>\n      <th>2</th>\n      <td>2</td>\n      <td>NaN</td>\n      <td>NaN</td>\n      <td>heard about #earthquake is different cities, s...</td>\n      <td>0</td>\n    </tr>\n    <tr>\n      <th>3</th>\n      <td>3</td>\n      <td>NaN</td>\n      <td>NaN</td>\n      <td>there is a forest fire at spot pond, geese are...</td>\n      <td>0</td>\n    </tr>\n    <tr>\n      <th>4</th>\n      <td>4</td>\n      <td>NaN</td>\n      <td>NaN</td>\n      <td>forest fire near la ronge sask. canada</td>\n      <td>1</td>\n    </tr>\n  </tbody>\n</table>\n</div>"
     },
     "execution_count": 47,
     "metadata": {},
     "output_type": "execute_result"
    }
   ],
   "source": [
    "print(df_train_raw.shape)\n",
    "df_train_raw.head()"
   ]
  },
  {
   "cell_type": "code",
   "execution_count": 48,
   "outputs": [
    {
     "data": {
      "text/plain": "[Text(0, 0, 'Non Desaster'), Text(1, 0, 'Desaster')]"
     },
     "execution_count": 48,
     "metadata": {},
     "output_type": "execute_result"
    },
    {
     "data": {
      "text/plain": "<Figure size 432x288 with 1 Axes>",
      "image/png": "[encoded data removed]"
     },
     "metadata": {
      "needs_background": "light"
     },
     "output_type": "display_data"
    }
   ],
   "source": [
    "ax = sns.barplot(x='target', y='target',data = df_train_raw, estimator=lambda  x: len(x)/len(df_train_raw)*100)\n",
    "\n",
    "ax.set_title('Trainset Distribution')\n",
    "ax.set_ylabel('Percentage (%)')\n",
    "ax.set_xlabel('Class')\n",
    "ax.set_xticklabels([\"Non Desaster\",\"Desaster\"])"
   ],
   "metadata": {
    "collapsed": false,
    "pycharm": {
     "name": "#%%\n"
    }
   }
  },
  {
   "cell_type": "markdown",
   "source": [
    "## Testset"
   ],
   "metadata": {
    "collapsed": false,
    "pycharm": {
     "name": "#%% md\n"
    }
   }
  },
  {
   "cell_type": "code",
   "execution_count": 49,
   "metadata": {},
   "outputs": [
    {
     "name": "stdout",
     "output_type": "stream",
     "text": [
      "(2176, 5)\n"
     ]
    },
    {
     "data": {
      "text/plain": "   id keyword location                                           text  target\n0   9     NaN      NaN       apocalypse lighting. #spokane #wildfires       0\n1  11     NaN      NaN  typhoon soudelor kills 28 in china and taiwan       0\n2  12     NaN      NaN             we're shaking...it's an earthquake       0\n3  24     NaN      NaN                                  i love fruits       0\n4  31     NaN      NaN                         this is ridiculous....       0",
      "text/html": "<div>\n<style scoped>\n    .dataframe tbody tr th:only-of-type {\n        vertical-align: middle;\n    }\n\n    .dataframe tbody tr th {\n        vertical-align: top;\n    }\n\n    .dataframe thead th {\n        text-align: right;\n    }\n</style>\n<table border=\"1\" class=\"dataframe\">\n  <thead>\n    <tr style=\"text-align: right;\">\n      <th></th>\n      <th>id</th>\n      <th>keyword</th>\n      <th>location</th>\n      <th>text</th>\n      <th>target</th>\n    </tr>\n  </thead>\n  <tbody>\n    <tr>\n      <th>0</th>\n      <td>9</td>\n      <td>NaN</td>\n      <td>NaN</td>\n      <td>apocalypse lighting. #spokane #wildfires</td>\n      <td>0</td>\n    </tr>\n    <tr>\n      <th>1</th>\n      <td>11</td>\n      <td>NaN</td>\n      <td>NaN</td>\n      <td>typhoon soudelor kills 28 in china and taiwan</td>\n      <td>0</td>\n    </tr>\n    <tr>\n      <th>2</th>\n      <td>12</td>\n      <td>NaN</td>\n      <td>NaN</td>\n      <td>we're shaking...it's an earthquake</td>\n      <td>0</td>\n    </tr>\n    <tr>\n      <th>3</th>\n      <td>24</td>\n      <td>NaN</td>\n      <td>NaN</td>\n      <td>i love fruits</td>\n      <td>0</td>\n    </tr>\n    <tr>\n      <th>4</th>\n      <td>31</td>\n      <td>NaN</td>\n      <td>NaN</td>\n      <td>this is ridiculous....</td>\n      <td>0</td>\n    </tr>\n  </tbody>\n</table>\n</div>"
     },
     "execution_count": 49,
     "metadata": {},
     "output_type": "execute_result"
    }
   ],
   "source": [
    "print(df_test_raw.shape)\n",
    "df_test_raw.head()"
   ]
  },
  {
   "cell_type": "code",
   "execution_count": 50,
   "outputs": [
    {
     "data": {
      "text/plain": "[Text(0, 0, 'Non Desaster'), Text(1, 0, 'Desaster')]"
     },
     "execution_count": 50,
     "metadata": {},
     "output_type": "execute_result"
    },
    {
     "data": {
      "text/plain": "<Figure size 432x288 with 1 Axes>",
      "image/png": "[encoded data removed]"
     },
     "metadata": {
      "needs_background": "light"
     },
     "output_type": "display_data"
    }
   ],
   "source": [
    "ax = sns.barplot(x='target', y='target',data = df_test_raw, estimator=lambda  x: len(x)/len(df_test_raw)*100)\n",
    "\n",
    "ax.set_title('Testset Distribution')\n",
    "ax.set_ylabel('Percentage (%)')\n",
    "ax.set_xlabel('Class')\n",
    "ax.set_xticklabels([\"Non Desaster\",\"Desaster\"])\n"
   ],
   "metadata": {
    "collapsed": false,
    "pycharm": {
     "name": "#%%\n"
    }
   }
  },
  {
   "cell_type": "markdown",
   "source": [
    "## Limpeza dos textos dos tweets"
   ],
   "metadata": {
    "collapsed": false
   }
  },
  {
   "cell_type": "markdown",
   "source": [
    "Como qualquer texto, os tweets podem ser carregados de operadores especiais, pontuação, stop words entre outras coisas\n",
    "que não tem grande peso quando se trata da anáise textual. Então eles precisam ser processados e tokenizados de forma\n",
    "a serem retirados."
   ],
   "metadata": {
    "collapsed": false
   }
  },
  {
   "cell_type": "code",
   "execution_count": 51,
   "outputs": [
    {
     "name": "stderr",
     "output_type": "stream",
     "text": [
      "[nltk_data] Downloading package punkt to\n",
      "[nltk_data]     C:\\Users\\vitor\\AppData\\Roaming\\nltk_data...\n",
      "[nltk_data]   Package punkt is already up-to-date!\n",
      "[nltk_data] Downloading package stopwords to\n",
      "[nltk_data]     C:\\Users\\vitor\\AppData\\Roaming\\nltk_data...\n",
      "[nltk_data]   Package stopwords is already up-to-date!\n",
      "[nltk_data] Downloading package wordnet to\n",
      "[nltk_data]     C:\\Users\\vitor\\AppData\\Roaming\\nltk_data...\n",
      "[nltk_data]   Package wordnet is already up-to-date!\n",
      "[nltk_data] Downloading package omw-1.4 to\n",
      "[nltk_data]     C:\\Users\\vitor\\AppData\\Roaming\\nltk_data...\n",
      "[nltk_data]   Package omw-1.4 is already up-to-date!\n"
     ]
    },
    {
     "data": {
      "text/plain": "True"
     },
     "execution_count": 51,
     "metadata": {},
     "output_type": "execute_result"
    }
   ],
   "source": [
    "nltk.download('punkt')\n",
    "nltk.download('stopwords')\n",
    "nltk.download('wordnet')\n",
    "nltk.download('omw-1.4')"
   ],
   "metadata": {
    "collapsed": false,
    "pycharm": {
     "name": "#%%\n"
    }
   }
  },
  {
   "cell_type": "code",
   "execution_count": 52,
   "metadata": {},
   "outputs": [],
   "source": [
    "def remove_specials(tokens):\n",
    "    return [unidecode.unidecode(word) for word in tokens]\n",
    "\n",
    "def remove_punctuation(tokens):\n",
    "    table = str.maketrans(\"\",\"\",string.punctuation)\n",
    "    return [w.translate(table) for w in tokens]\n",
    "\n",
    "def array_lower(tokens):\n",
    "    return [w.lower() for w in tokens]\n",
    "\n",
    "def remove_no_words(tokens):\n",
    "    return [word for word in tokens if word.isalpha()]\n",
    "\n",
    "def remove_stop_words(tokens):\n",
    "    stop_words = set(stopwords.words('english'))\n",
    "    return [w for w in tokens if not w in stop_words]\n",
    "\n",
    "\n",
    "def text_cleaner(string):\n",
    "   \n",
    "    # Dividindo texto em tokens\n",
    "    string = word_tokenize(string)\n",
    "    #df_text_column = df_text_column.apply(word_tokenize)\n",
    "    \n",
    "    # Convertendo texto para minusculo\n",
    "    string = array_lower(string)\n",
    "    #df_text_column = df_text_column.apply(array_lower)\n",
    "\n",
    "    # Removendo pontuação\n",
    "    string = remove_punctuation(string)\n",
    "    #df_text_column = df_text_column.apply(remove_punctuation)\n",
    "    \n",
    "    # Removendo caracteres especiais\n",
    "    string = remove_specials(string)\n",
    "    #df_text_column = df_text_column.apply(remove_specials)\n",
    "\n",
    "    # Removendo tokens que não sao palavras\n",
    "    string = remove_no_words(string)\n",
    "    #df_text_column = df_text_column.apply(remove_no_words)\n",
    "\n",
    "    # Removendo tokens que são stop words\n",
    "    string = remove_stop_words(string)\n",
    "    #df_text_column = df_text_column.apply(remove_stop_words)\n",
    "    \n",
    "    return string"
   ]
  },
  {
   "cell_type": "markdown",
   "metadata": {
    "pycharm": {
     "name": "#%% md\n"
    }
   },
   "source": [
    "Para seguir a metodologia científica, foi criado um pipeline para fazer a transformação dos dados textuais\n",
    "com matriz <b>TF-IDF</b> e logo após o PCA, esse Pipeline foi treinado com o conjunto de treino, e depois apenas aplicado\n",
    "ao conjunto de teste.\n",
    "\n",
    "Para o <b>PCA</b> foram escolhidas 1000 features para manter 90% da variância explicada, assim reduzindo quase\n",
    "metade das features mantendo boa parte das informações contidas nos textos.\n"
   ]
  },
  {
   "cell_type": "code",
   "execution_count": 53,
   "outputs": [],
   "source": [
    "from sklearn.pipeline import Pipeline\n",
    "from sklearn.decomposition import TruncatedSVD\n",
    "from sklearn.feature_extraction.text import TfidfVectorizer\n",
    "\n",
    "#do_nothing = lambda x: x\n",
    "N_COMPONENTS = 1000 #Vimos com o PCA diminuindo metade das featues tinha uma variancia explicada alta\n",
    "\n",
    "wordnet_lemmatizer = WordNetLemmatizer()\n",
    "lemmazation = lambda words: [wordnet_lemmatizer.lemmatize(tk) for tk in words]\n",
    "\n",
    "\n",
    "tfidf = TfidfVectorizer(tokenizer = lemmazation,lowercase=False, preprocessor=text_cleaner, ngram_range=(1, 2),min_df=10,max_df=0.95)\n",
    "\n",
    "text_process_pipe = Pipeline([\n",
    "                             (\"tfidf\",tfidf),\n",
    "                             (\"pca\", TruncatedSVD(n_components=N_COMPONENTS))\n",
    "                             ])\n"
   ],
   "metadata": {
    "collapsed": false,
    "pycharm": {
     "name": "#%%\n"
    }
   }
  },
  {
   "cell_type": "code",
   "execution_count": 54,
   "metadata": {},
   "outputs": [],
   "source": [
    "X_train = text_process_pipe.fit_transform(df_train_raw['text'])\n",
    "y_train = df_train_raw['target']"
   ]
  },
  {
   "cell_type": "code",
   "execution_count": 55,
   "metadata": {},
   "outputs": [],
   "source": [
    "X_test = text_process_pipe.transform(df_test_raw['text'])\n",
    "y_test = df_test_raw['target']"
   ]
  },
  {
   "cell_type": "code",
   "execution_count": 56,
   "metadata": {},
   "outputs": [
    {
     "name": "stdout",
     "output_type": "stream",
     "text": [
      "Total variance explained: 89.70%\n"
     ]
    }
   ],
   "source": [
    "print(f\"Total variance explained: {text_process_pipe['pca'].explained_variance_ratio_.sum()*100:.2f}%\")"
   ]
  },
  {
   "cell_type": "code",
   "execution_count": 57,
   "outputs": [
    {
     "data": {
      "text/plain": "(2176, 1000)"
     },
     "execution_count": 57,
     "metadata": {},
     "output_type": "execute_result"
    }
   ],
   "source": [
    "X_test.shape"
   ],
   "metadata": {
    "collapsed": false,
    "pycharm": {
     "name": "#%%\n"
    }
   }
  },
  {
   "cell_type": "code",
   "execution_count": 58,
   "metadata": {},
   "outputs": [
    {
     "data": {
      "text/plain": "        0         1         2         3         4         5         6    \\\n0  0.027389  0.023884  0.002444  0.018444  0.009593  0.002070  0.011601   \n1  0.058016  0.073551  0.002261  0.034070 -0.019065 -0.016369 -0.122046   \n2  0.024883  0.030208  0.006755  0.017865 -0.003076 -0.001520 -0.010396   \n3  0.048726  0.081896  0.290821 -0.111858 -0.012932  0.017581 -0.046255   \n4  0.051358  0.079297  0.313714 -0.122388 -0.017218  0.021087 -0.070999   \n\n        7         8         9    ...       990       991       992       993  \\\n0  0.017625 -0.020172 -0.002026  ... -0.035490 -0.062176  0.015535  0.050535   \n1 -0.037951 -0.083589 -0.011425  ...  0.000572  0.004966 -0.017273 -0.005389   \n2 -0.001097 -0.018971  0.014374  ... -0.047396 -0.025523 -0.021695 -0.016341   \n3 -0.055929  0.054285 -0.128578  ...  0.051317 -0.017633  0.000656 -0.006307   \n4 -0.055730  0.075089 -0.147684  ... -0.025576  0.015526  0.005503 -0.027310   \n\n        994       995       996       997       998       999  \n0 -0.029188  0.023359 -0.011845 -0.008776  0.046322 -0.043668  \n1  0.018424 -0.007176 -0.009770 -0.006340 -0.008448 -0.004090  \n2  0.005759  0.046085  0.000250  0.005388  0.041510 -0.030231  \n3 -0.020414  0.007521  0.013725 -0.012242  0.008378  0.016015  \n4  0.015956  0.003559  0.003432  0.008439  0.001644 -0.006011  \n\n[5 rows x 1000 columns]",
      "text/html": "<div>\n<style scoped>\n    .dataframe tbody tr th:only-of-type {\n        vertical-align: middle;\n    }\n\n    .dataframe tbody tr th {\n        vertical-align: top;\n    }\n\n    .dataframe thead th {\n        text-align: right;\n    }\n</style>\n<table border=\"1\" class=\"dataframe\">\n  <thead>\n    <tr style=\"text-align: right;\">\n      <th></th>\n      <th>0</th>\n      <th>1</th>\n      <th>2</th>\n      <th>3</th>\n      <th>4</th>\n      <th>5</th>\n      <th>6</th>\n      <th>7</th>\n      <th>8</th>\n      <th>9</th>\n      <th>...</th>\n      <th>990</th>\n      <th>991</th>\n      <th>992</th>\n      <th>993</th>\n      <th>994</th>\n      <th>995</th>\n      <th>996</th>\n      <th>997</th>\n      <th>998</th>\n      <th>999</th>\n    </tr>\n  </thead>\n  <tbody>\n    <tr>\n      <th>0</th>\n      <td>0.027389</td>\n      <td>0.023884</td>\n      <td>0.002444</td>\n      <td>0.018444</td>\n      <td>0.009593</td>\n      <td>0.002070</td>\n      <td>0.011601</td>\n      <td>0.017625</td>\n      <td>-0.020172</td>\n      <td>-0.002026</td>\n      <td>...</td>\n      <td>-0.035490</td>\n      <td>-0.062176</td>\n      <td>0.015535</td>\n      <td>0.050535</td>\n      <td>-0.029188</td>\n      <td>0.023359</td>\n      <td>-0.011845</td>\n      <td>-0.008776</td>\n      <td>0.046322</td>\n      <td>-0.043668</td>\n    </tr>\n    <tr>\n      <th>1</th>\n      <td>0.058016</td>\n      <td>0.073551</td>\n      <td>0.002261</td>\n      <td>0.034070</td>\n      <td>-0.019065</td>\n      <td>-0.016369</td>\n      <td>-0.122046</td>\n      <td>-0.037951</td>\n      <td>-0.083589</td>\n      <td>-0.011425</td>\n      <td>...</td>\n      <td>0.000572</td>\n      <td>0.004966</td>\n      <td>-0.017273</td>\n      <td>-0.005389</td>\n      <td>0.018424</td>\n      <td>-0.007176</td>\n      <td>-0.009770</td>\n      <td>-0.006340</td>\n      <td>-0.008448</td>\n      <td>-0.004090</td>\n    </tr>\n    <tr>\n      <th>2</th>\n      <td>0.024883</td>\n      <td>0.030208</td>\n      <td>0.006755</td>\n      <td>0.017865</td>\n      <td>-0.003076</td>\n      <td>-0.001520</td>\n      <td>-0.010396</td>\n      <td>-0.001097</td>\n      <td>-0.018971</td>\n      <td>0.014374</td>\n      <td>...</td>\n      <td>-0.047396</td>\n      <td>-0.025523</td>\n      <td>-0.021695</td>\n      <td>-0.016341</td>\n      <td>0.005759</td>\n      <td>0.046085</td>\n      <td>0.000250</td>\n      <td>0.005388</td>\n      <td>0.041510</td>\n      <td>-0.030231</td>\n    </tr>\n    <tr>\n      <th>3</th>\n      <td>0.048726</td>\n      <td>0.081896</td>\n      <td>0.290821</td>\n      <td>-0.111858</td>\n      <td>-0.012932</td>\n      <td>0.017581</td>\n      <td>-0.046255</td>\n      <td>-0.055929</td>\n      <td>0.054285</td>\n      <td>-0.128578</td>\n      <td>...</td>\n      <td>0.051317</td>\n      <td>-0.017633</td>\n      <td>0.000656</td>\n      <td>-0.006307</td>\n      <td>-0.020414</td>\n      <td>0.007521</td>\n      <td>0.013725</td>\n      <td>-0.012242</td>\n      <td>0.008378</td>\n      <td>0.016015</td>\n    </tr>\n    <tr>\n      <th>4</th>\n      <td>0.051358</td>\n      <td>0.079297</td>\n      <td>0.313714</td>\n      <td>-0.122388</td>\n      <td>-0.017218</td>\n      <td>0.021087</td>\n      <td>-0.070999</td>\n      <td>-0.055730</td>\n      <td>0.075089</td>\n      <td>-0.147684</td>\n      <td>...</td>\n      <td>-0.025576</td>\n      <td>0.015526</td>\n      <td>0.005503</td>\n      <td>-0.027310</td>\n      <td>0.015956</td>\n      <td>0.003559</td>\n      <td>0.003432</td>\n      <td>0.008439</td>\n      <td>0.001644</td>\n      <td>-0.006011</td>\n    </tr>\n  </tbody>\n</table>\n<p>5 rows × 1000 columns</p>\n</div>"
     },
     "execution_count": 58,
     "metadata": {},
     "output_type": "execute_result"
    }
   ],
   "source": [
    "#Transforma as features em um Dataframe\n",
    "X_train_view = pd.DataFrame(data=X_train, columns=list(range(N_COMPONENTS)))\n",
    "X_train_view.head()"
   ]
  },
  {
   "cell_type": "code",
   "execution_count": 59,
   "metadata": {},
   "outputs": [
    {
     "data": {
      "text/plain": "Text(0, 0.5, 'Variancia explicada')"
     },
     "execution_count": 59,
     "metadata": {},
     "output_type": "execute_result"
    },
    {
     "data": {
      "text/plain": "<Figure size 432x288 with 1 Axes>",
      "image/png": "[encoded data removed]"
     },
     "metadata": {
      "needs_background": "light"
     },
     "output_type": "display_data"
    }
   ],
   "source": [
    "plt.plot(np.cumsum(text_process_pipe['pca'].explained_variance_ratio_))\n",
    "plt.xlabel('Numero de componentes')\n",
    "plt.ylabel('Variancia explicada')"
   ]
  },
  {
   "cell_type": "markdown",
   "metadata": {},
   "source": [
    "## Analise exploratória de cada classe"
   ]
  },
  {
   "cell_type": "markdown",
   "metadata": {},
   "source": [
    "Os dados possuem 2 classes são elas:\n",
    "\n",
    "<ul>\n",
    "\n",
    "<li>0 - Tweets sobre desastres que são falsos (Não Desastre)</li>\n",
    "\n",
    "<li>1 - Tweets sobre desastres que são reais (Desastre)</li>\n",
    "\n",
    "</ul>"
   ]
  },
  {
   "cell_type": "code",
   "execution_count": 60,
   "metadata": {},
   "outputs": [
    {
     "data": {
      "text/plain": "[Text(0, 0, 'Não Desastre'), Text(1, 0, 'Desastre')]"
     },
     "execution_count": 60,
     "metadata": {},
     "output_type": "execute_result"
    },
    {
     "data": {
      "text/plain": "<Figure size 432x288 with 1 Axes>",
      "image/png": "[encoded data removed]"
     },
     "metadata": {
      "needs_background": "light"
     },
     "output_type": "display_data"
    }
   ],
   "source": [
    "ax = sns.countplot(x='target',data = df)\n",
    "\n",
    "ax.set_title('Distribuição por classe de Todos Dados')\n",
    "ax.set_ylabel('Quantidade')\n",
    "ax.set_xlabel('Classe')\n",
    "ax.set_xticklabels([\"Não Desastre\",\"Desastre\"])"
   ]
  },
  {
   "cell_type": "markdown",
   "metadata": {},
   "source": [
    "Podemos comparar a quantidade de caracteres do tweet dependendo da classe."
   ]
  },
  {
   "cell_type": "code",
   "execution_count": 61,
   "metadata": {},
   "outputs": [
    {
     "data": {
      "text/plain": "Text(0.5, 1.05, 'Distribuição da quantidade de caracteres do tweet por classe')"
     },
     "execution_count": 61,
     "metadata": {},
     "output_type": "execute_result"
    },
    {
     "data": {
      "text/plain": "<Figure size 762.375x360 with 2 Axes>",
      "image/png": "[encoded data removed]"
     },
     "metadata": {
      "needs_background": "light"
     },
     "output_type": "display_data"
    }
   ],
   "source": [
    "ax = sns.displot(x=df['text'].str.len(),data = df,col='target',hue='target',kde=True)\n",
    "\n",
    "ax.fig.suptitle('Distribuição da quantidade de caracteres do tweet por classe',y=1.05)"
   ]
  },
  {
   "cell_type": "markdown",
   "source": [
    "Podemos observar que tweets de não desastre costumam possuir um tamanho maior, porém não achamos importante colocar isso\n",
    "como feature uma vez que um desastre real teria mais posições nulas em relação ao não real assim sendo percepítivel\n",
    "aos classificadores."
   ],
   "metadata": {
    "collapsed": false
   }
  },
  {
   "cell_type": "markdown",
   "metadata": {},
   "source": [
    "## Classificadores\n",
    "\n",
    "Vamos testar os principais classificadores aprendidos durante a disciplina usando a validação cruzada com 5 folds para fazer\n",
    "a busca de hiperparâmetros e utilizando como métrica de busca o melhor <b>F1 Macro</b>. Podemos ver o esquema a partir\n",
    "deste seguinte fluxograma:\n",
    "\n",
    "<img src=\"https://scikit-learn.org/stable/_images/grid_search_workflow.png\"  width=600 height=300>"
   ]
  },
  {
   "cell_type": "code",
   "execution_count": 62,
   "metadata": {},
   "outputs": [],
   "source": [
    "def test_classifier(classifier,params, X_train,y_train,X_test,y_test):\n",
    "    if params:\n",
    "        clf = GridSearchCV(classifier, params, scoring = 'f1_macro',n_jobs = -1,cv=5, verbose=2)\n",
    "    else:\n",
    "        clf = classifier\n",
    "\n",
    "    clf.fit(X_train, y_train)\n",
    "    \n",
    "    print(clf.best_params_) if params else print(\"Done\")\n",
    "    \n",
    "    y_predicted = clf.predict(X_test)\n",
    "    \n",
    "    print(classification_report(y_test, y_predicted))\n",
    "    ConfusionMatrixDisplay.from_predictions(y_test, y_predicted);\n",
    "    \n",
    "    return clf"
   ]
  },
  {
   "cell_type": "markdown",
   "source": [
    "# Resultados\n",
    "\n",
    "As seguir são apresentados os resultados para cada classificador escolhido avaliado no conjunto de teste,\n",
    "mostrando a matriz confusão e as metricas de avaliação de um classificador.\n"
   ],
   "metadata": {
    "collapsed": false
   }
  },
  {
   "cell_type": "markdown",
   "metadata": {},
   "source": [
    "### Knn"
   ]
  },
  {
   "cell_type": "code",
   "execution_count": 63,
   "metadata": {},
   "outputs": [
    {
     "name": "stdout",
     "output_type": "stream",
     "text": [
      "Fitting 5 folds for each of 5 candidates, totalling 25 fits\n",
      "{'n_neighbors': 3}\n",
      "              precision    recall  f1-score   support\n",
      "\n",
      "           0       0.76      0.89      0.82      1522\n",
      "           1       0.58      0.35      0.43       654\n",
      "\n",
      "    accuracy                           0.73      2176\n",
      "   macro avg       0.67      0.62      0.63      2176\n",
      "weighted avg       0.71      0.73      0.70      2176\n",
      "\n"
     ]
    },
    {
     "data": {
      "text/plain": "<Figure size 432x288 with 2 Axes>",
      "image/png": "[encoded data removed]"
     },
     "metadata": {
      "needs_background": "light"
     },
     "output_type": "display_data"
    }
   ],
   "source": [
    "params = {'n_neighbors': [3,5,7,11,13]}\n",
    "\n",
    "knn = test_classifier(KNeighborsClassifier(),params,X_train,y_train,X_test,y_test)\n"
   ]
  },
  {
   "cell_type": "markdown",
   "metadata": {
    "pycharm": {
     "name": "#%% md\n"
    }
   },
   "source": [
    "### Decision Tree"
   ]
  },
  {
   "cell_type": "code",
   "execution_count": 64,
   "metadata": {},
   "outputs": [
    {
     "name": "stdout",
     "output_type": "stream",
     "text": [
      "Fitting 5 folds for each of 30 candidates, totalling 150 fits\n",
      "{'criterion': 'entropy', 'max_depth': 10, 'max_features': 'sqrt'}\n",
      "              precision    recall  f1-score   support\n",
      "\n",
      "           0       0.74      0.87      0.80      1522\n",
      "           1       0.49      0.29      0.36       654\n",
      "\n",
      "    accuracy                           0.70      2176\n",
      "   macro avg       0.61      0.58      0.58      2176\n",
      "weighted avg       0.66      0.70      0.67      2176\n",
      "\n"
     ]
    },
    {
     "data": {
      "text/plain": "<Figure size 432x288 with 2 Axes>",
      "image/png": "[encoded data removed]"
     },
     "metadata": {
      "needs_background": "light"
     },
     "output_type": "display_data"
    }
   ],
   "source": [
    "params = {'criterion':['gini','entropy'],\n",
    "          'max_depth':[None,5,10,50,100],\n",
    "          'max_features':[\"auto\", \"sqrt\", \"log2\"]}\n",
    "\n",
    "dt = test_classifier(DecisionTreeClassifier(),params,X_train,y_train,X_test,y_test)"
   ]
  },
  {
   "cell_type": "code",
   "execution_count": 65,
   "metadata": {},
   "outputs": [],
   "source": [
    "dot_data = export_graphviz(dt.best_estimator_, out_file=None,\n",
    "                     filled=True, rounded=True,  \n",
    "                     special_characters=True)\n",
    "\n",
    "graph = graphviz.Source(dot_data)  \n",
    "#graph.render(\"dt-vis\",view = True)\n",
    "#graph"
   ]
  },
  {
   "cell_type": "markdown",
   "source": [
    "### SVM"
   ],
   "metadata": {
    "collapsed": false
   }
  },
  {
   "cell_type": "code",
   "execution_count": 66,
   "outputs": [
    {
     "name": "stdout",
     "output_type": "stream",
     "text": [
      "Fitting 5 folds for each of 1 candidates, totalling 5 fits\n",
      "{'C': 100, 'gamma': 0.01, 'kernel': 'rbf', 'probability': True}\n",
      "              precision    recall  f1-score   support\n",
      "\n",
      "           0       0.79      0.86      0.82      1522\n",
      "           1       0.59      0.45      0.51       654\n",
      "\n",
      "    accuracy                           0.74      2176\n",
      "   macro avg       0.69      0.66      0.67      2176\n",
      "weighted avg       0.73      0.74      0.73      2176\n",
      "\n"
     ]
    },
    {
     "data": {
      "text/plain": "<Figure size 432x288 with 2 Axes>",
      "image/png": "[encoded data removed]"
     },
     "metadata": {
      "needs_background": "light"
     },
     "output_type": "display_data"
    }
   ],
   "source": [
    "from sklearn.svm import SVC\n",
    "'''\n",
    "param_svm = {'C': [0.1,1, 10, 100],\n",
    "             'gamma': [1,0.1,0.01,0.001],\n",
    "             'kernel': ['rbf']}\n",
    "'''\n",
    "#Foi feita a busca com os parametros acima, para não ficar demorando muito oq deu melhor coloquei aqui\n",
    "param_svm = {'C': [100],\n",
    "             'gamma': [0.01],\n",
    "             'kernel': ['rbf'],\n",
    "             'probability': [True]}\n",
    "svm = test_classifier(SVC(),param_svm, X_train,y_train,X_test,y_test)"
   ],
   "metadata": {
    "collapsed": false,
    "pycharm": {
     "name": "#%%\n"
    }
   }
  },
  {
   "cell_type": "markdown",
   "source": [
    "## Junções de classificadores\n",
    "É importante dizer que os melhores hiperparâmtros encontrados nos classificadores individuais foram utilizados\n",
    "como parâmetros dos componentes das junções."
   ],
   "metadata": {
    "collapsed": false,
    "pycharm": {
     "name": "#%% md\n"
    }
   }
  },
  {
   "cell_type": "markdown",
   "source": [
    "### Random Forest"
   ],
   "metadata": {
    "collapsed": false
   }
  },
  {
   "cell_type": "code",
   "execution_count": 67,
   "metadata": {},
   "outputs": [
    {
     "name": "stdout",
     "output_type": "stream",
     "text": [
      "Fitting 5 folds for each of 18 candidates, totalling 90 fits\n",
      "{'criterion': 'gini', 'max_features': 'sqrt', 'n_estimators': 10}\n",
      "              precision    recall  f1-score   support\n",
      "\n",
      "           0       0.75      0.91      0.82      1522\n",
      "           1       0.58      0.30      0.39       654\n",
      "\n",
      "    accuracy                           0.72      2176\n",
      "   macro avg       0.66      0.60      0.61      2176\n",
      "weighted avg       0.70      0.72      0.69      2176\n",
      "\n"
     ]
    },
    {
     "data": {
      "text/plain": "<Figure size 432x288 with 2 Axes>",
      "image/png": "[encoded data removed]"
     },
     "metadata": {
      "needs_background": "light"
     },
     "output_type": "display_data"
    }
   ],
   "source": [
    "from sklearn.ensemble import RandomForestClassifier\n",
    "\n",
    "params = {\n",
    "    'n_estimators': [10, 100,1000],\n",
    "    'max_features': ['auto', 'sqrt', 'log2'],\n",
    "    'criterion' :['gini', 'entropy']\n",
    "}\n",
    "\n",
    "rf = test_classifier(RandomForestClassifier(),params,X_train,y_train,X_test,y_test)"
   ]
  },
  {
   "cell_type": "markdown",
   "source": [
    "### Boosting"
   ],
   "metadata": {
    "collapsed": false,
    "pycharm": {
     "name": "#%% md\n"
    }
   }
  },
  {
   "cell_type": "code",
   "execution_count": 68,
   "outputs": [
    {
     "name": "stdout",
     "output_type": "stream",
     "text": [
      "Done\n",
      "              precision    recall  f1-score   support\n",
      "\n",
      "           0       0.74      0.81      0.77      1522\n",
      "           1       0.42      0.33      0.37       654\n",
      "\n",
      "    accuracy                           0.66      2176\n",
      "   macro avg       0.58      0.57      0.57      2176\n",
      "weighted avg       0.64      0.66      0.65      2176\n",
      "\n"
     ]
    },
    {
     "data": {
      "text/plain": "<Figure size 432x288 with 2 Axes>",
      "image/png": "[encoded data removed]"
     },
     "metadata": {
      "needs_background": "light"
     },
     "output_type": "display_data"
    }
   ],
   "source": [
    "from sklearn.ensemble import AdaBoostClassifier\n",
    "\n",
    "params_boost_dt = dt.best_params_\n",
    "dt_b=DecisionTreeClassifier(criterion=params_boost_dt['criterion'],max_depth=params_boost_dt['max_depth'],max_features=params_boost_dt['max_features'])\n",
    "boost = test_classifier(AdaBoostClassifier(base_estimator=dt_b, n_estimators=50, learning_rate=1), None,X_train,y_train,X_test,y_test)"
   ],
   "metadata": {
    "collapsed": false,
    "pycharm": {
     "name": "#%%\n"
    }
   }
  },
  {
   "cell_type": "markdown",
   "source": [
    "### Bagging"
   ],
   "metadata": {
    "collapsed": false
   }
  },
  {
   "cell_type": "code",
   "execution_count": 69,
   "outputs": [
    {
     "name": "stderr",
     "output_type": "stream",
     "text": [
      "[Parallel(n_jobs=6)]: Using backend LokyBackend with 6 concurrent workers.\n",
      "[Parallel(n_jobs=6)]: Done   2 out of   6 | elapsed:    3.7s remaining:    7.6s\n",
      "[Parallel(n_jobs=6)]: Done   3 out of   6 | elapsed:    4.1s remaining:    4.1s\n",
      "[Parallel(n_jobs=6)]: Done   4 out of   6 | elapsed:    4.4s remaining:    2.1s\n",
      "[Parallel(n_jobs=6)]: Done   6 out of   6 | elapsed:    5.2s remaining:    0.0s\n",
      "[Parallel(n_jobs=6)]: Done   6 out of   6 | elapsed:    5.2s finished\n",
      "[Parallel(n_jobs=6)]: Using backend LokyBackend with 6 concurrent workers.\n"
     ]
    },
    {
     "name": "stdout",
     "output_type": "stream",
     "text": [
      "Done\n"
     ]
    },
    {
     "name": "stderr",
     "output_type": "stream",
     "text": [
      "[Parallel(n_jobs=6)]: Done   2 out of   6 | elapsed:   17.4s remaining:   34.9s\n",
      "[Parallel(n_jobs=6)]: Done   3 out of   6 | elapsed:   18.1s remaining:   18.1s\n",
      "[Parallel(n_jobs=6)]: Done   4 out of   6 | elapsed:   22.0s remaining:   10.9s\n",
      "[Parallel(n_jobs=6)]: Done   6 out of   6 | elapsed:   33.9s remaining:    0.0s\n",
      "[Parallel(n_jobs=6)]: Done   6 out of   6 | elapsed:   33.9s finished\n"
     ]
    },
    {
     "name": "stdout",
     "output_type": "stream",
     "text": [
      "              precision    recall  f1-score   support\n",
      "\n",
      "           0       0.76      0.90      0.83      1522\n",
      "           1       0.60      0.34      0.43       654\n",
      "\n",
      "    accuracy                           0.73      2176\n",
      "   macro avg       0.68      0.62      0.63      2176\n",
      "weighted avg       0.71      0.73      0.71      2176\n",
      "\n"
     ]
    },
    {
     "data": {
      "text/plain": "<Figure size 432x288 with 2 Axes>",
      "image/png": "[encoded data removed]"
     },
     "metadata": {
      "needs_background": "light"
     },
     "output_type": "display_data"
    }
   ],
   "source": [
    "from sklearn.ensemble import BaggingClassifier\n",
    "\n",
    "knn_bag = KNeighborsClassifier(n_neighbors=knn.best_params_['n_neighbors'])\n",
    "bag = test_classifier(BaggingClassifier(base_estimator=knn_bag, n_estimators=20, verbose=10, n_jobs=6), None, X_train,y_train,X_test,y_test)\n"
   ],
   "metadata": {
    "collapsed": false,
    "pycharm": {
     "name": "#%%\n"
    }
   }
  },
  {
   "cell_type": "markdown",
   "source": [
    "## Comparando os classificadores binários com a curva ROC"
   ],
   "metadata": {
    "collapsed": false
   }
  },
  {
   "cell_type": "code",
   "source": [
    "from sklearn.metrics import roc_curve\n",
    "from sklearn.metrics import roc_auc_score\n",
    "\n",
    "eq_probs = [0 for _ in range(len(y_test))] #Classificador equiprovavel , classifica com 50% de chance\n",
    "eq_fpr , eq_tpr , _ = roc_curve(y_test,eq_probs)\n",
    "plt.plot(eq_fpr,eq_tpr,linestyle='--',label = \"Random Classifier\")\n",
    "\n",
    "classifiers = [knn,dt,svm,rf,boost,bag]\n",
    "label = [\"KNN\",\"Decision Tree\",\"SVM\",\"Random Forest\",\"AdaBoost DT\",\"Bagging KNN\"]\n",
    "for classifier,label in zip(classifiers,label):\n",
    "    class_probs = classifier.predict_proba(X_test)\n",
    "    class_probs = class_probs[:,1] #apenas a chance de classificar a classe positiva\n",
    "\n",
    "    class_fpr , class_tpr , _ = roc_curve(y_test,class_probs)\n",
    "    plt.plot(class_fpr,class_tpr,label = label)\n",
    "\n",
    "\n",
    "\n",
    "plt.xlabel('False Positive Rate')\n",
    "plt.ylabel('True Positive Rate')\n",
    "\n",
    "plt.legend()\n",
    "\n",
    "plt.show()\n",
    "\n"
   ],
   "metadata": {
    "collapsed": false,
    "pycharm": {
     "name": "#%%\n"
    }
   },
   "execution_count": 70,
   "outputs": [
    {
     "name": "stderr",
     "output_type": "stream",
     "text": [
      "[Parallel(n_jobs=6)]: Using backend LokyBackend with 6 concurrent workers.\n",
      "[Parallel(n_jobs=6)]: Done   2 out of   6 | elapsed:   13.6s remaining:   27.2s\n",
      "[Parallel(n_jobs=6)]: Done   3 out of   6 | elapsed:   14.8s remaining:   14.8s\n",
      "[Parallel(n_jobs=6)]: Done   4 out of   6 | elapsed:   17.7s remaining:    8.8s\n",
      "[Parallel(n_jobs=6)]: Done   6 out of   6 | elapsed:   22.9s remaining:    0.0s\n",
      "[Parallel(n_jobs=6)]: Done   6 out of   6 | elapsed:   22.9s finished\n"
     ]
    },
    {
     "data": {
      "text/plain": "<Figure size 432x288 with 1 Axes>",
      "image/png": "[encoded data removed]"
     },
     "metadata": {
      "needs_background": "light"
     },
     "output_type": "display_data"
    }
   ]
  },
  {
   "cell_type": "markdown",
   "source": [
    "# Conclusões e discussões\n",
    "Diferentemente da hipótese inicial, a tarefa de classificação binária de um tweet se provou ser mais complicada utilizando\n",
    "as metodologias adotadas. Podemos observar nos resultado que a maior acuracia foi obtida pelo classificador SVM de ~75%,\n",
    "apesar disso quando vemos as metricas para cada classe é possivel ver que a classe 1 (desastre) é dificilmente detectada\n",
    "sendo a classe 0 mais facil de ser detectada, seguindo assim um viés da distribuição dos dados onde existem mais tweets\n",
    "que não sao relacionados a desastres do que a relacionado a desastres. Além disso, para classe 1 vemos um recall muito baixo\n",
    "o que significa que boa parte da \"verdade\" não está sendo dita, ou seja, da maioria dos tweets com desastre os\n",
    "classificadores não foram capazes de acertar a classificação. Logo, em futuros trabalhos, pode vir a ser interessante\n",
    "a manipulação das distribuições do train/testset, como por exemplo, balanceá-las, para blindar os classificadores desse\n",
    "comportamento.\n",
    "\n",
    "É importante ressaltar que houve a tentativa de um processamento dos dados mais específico, por se tratar da análise de tweets,\n",
    "como por exemplo, criar um feature com respeito aos hashtags do tweet, assim como, de sites que estivessem contidos no tweet.\n",
    "Entretanto, tais implementações não se mostraram frutíferas e, por isso, foram abandonadas.\n",
    "\n",
    "Outro ponto interessante é que o SVM conseguiu se sobresair sobre os outros algoritmos, isso pode ser claramente observado\n",
    "por meio do gráfico da curva ROC, onde a maioria dos algoritmos seguem uma tendência e estão bem próximos, já o SVM\n",
    "está distante deles. O SVM está mais próximo do classificador perfeito que os demais, em contra partida a árvore\n",
    "de decisão se mostrou inferior abaixo das demais.\n",
    "\n",
    "Contudo, para futuros trabalhos, podem ser implementadas abordagens mais sofisticadas no processamento de dados, assim\n",
    "como na classificação, como por exemplo, a implementação de aprendizado profundo, modelos como BERT."
   ],
   "metadata": {
    "collapsed": false,
    "pycharm": {
     "name": "#%% md\n"
    }
   }
  }
 ],
 "metadata": {
  "kernelspec": {
   "display_name": "Python 3",
   "language": "python",
   "name": "python3"
  },
  "language_info": {
   "codemirror_mode": {
    "name": "ipython",
    "version": 3
   },
   "file_extension": ".py",
   "mimetype": "text/x-python",
   "name": "python",
   "nbconvert_exporter": "python",
   "pygments_lexer": "ipython3",
   "version": "3.8.5"
  }
 },
 "nbformat": 4,
 "nbformat_minor": 1
}