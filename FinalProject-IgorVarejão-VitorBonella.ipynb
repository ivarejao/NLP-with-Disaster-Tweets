{
 "cells": [
  {
   "cell_type": "code",
   "execution_count": 9,
   "metadata": {
    "pycharm": {
     "name": "#%%\n"
    }
   },
   "outputs": [],
   "source": [
    "#basics\n",
    "import pandas as pd\n",
    "import numpy as np\n",
    "import seaborn as sns\n",
    "import matplotlib.pyplot as plt\n",
    "\n",
    "#text process\n",
    "import nltk\n",
    "import unidecode\n",
    "import string\n",
    "from nltk import word_tokenize\n",
    "from nltk.corpus import stopwords\n",
    "from nltk.stem.porter import PorterStemmer\n",
    "from nltk.stem import WordNetLemmatizer"
   ]
  },
  {
   "cell_type": "markdown",
   "metadata": {
    "pycharm": {
     "name": "#%% md\n"
    }
   },
   "source": [
    "# Processamento dos dados\n",
    "\n",
    "Como existem dados textuais podemos usar as funções já utilizadas no trabalho anterior\n",
    "\n",
    "\n"
   ]
  },
  {
   "cell_type": "code",
   "execution_count": 10,
   "metadata": {},
   "outputs": [
    {
     "data": {
      "text/html": [
       "<div>\n",
       "<style scoped>\n",
       "    .dataframe tbody tr th:only-of-type {\n",
       "        vertical-align: middle;\n",
       "    }\n",
       "\n",
       "    .dataframe tbody tr th {\n",
       "        vertical-align: top;\n",
       "    }\n",
       "\n",
       "    .dataframe thead th {\n",
       "        text-align: right;\n",
       "    }\n",
       "</style>\n",
       "<table border=\"1\" class=\"dataframe\">\n",
       "  <thead>\n",
       "    <tr style=\"text-align: right;\">\n",
       "      <th></th>\n",
       "      <th>id</th>\n",
       "      <th>keyword</th>\n",
       "      <th>location</th>\n",
       "      <th>text</th>\n",
       "      <th>target</th>\n",
       "    </tr>\n",
       "  </thead>\n",
       "  <tbody>\n",
       "    <tr>\n",
       "      <th>0</th>\n",
       "      <td>0</td>\n",
       "      <td>NaN</td>\n",
       "      <td>NaN</td>\n",
       "      <td>Just happened a terrible car crash</td>\n",
       "      <td>0</td>\n",
       "    </tr>\n",
       "    <tr>\n",
       "      <th>1</th>\n",
       "      <td>1</td>\n",
       "      <td>NaN</td>\n",
       "      <td>NaN</td>\n",
       "      <td>Our Deeds are the Reason of this #earthquake M...</td>\n",
       "      <td>1</td>\n",
       "    </tr>\n",
       "    <tr>\n",
       "      <th>2</th>\n",
       "      <td>2</td>\n",
       "      <td>NaN</td>\n",
       "      <td>NaN</td>\n",
       "      <td>Heard about #earthquake is different cities, s...</td>\n",
       "      <td>0</td>\n",
       "    </tr>\n",
       "    <tr>\n",
       "      <th>3</th>\n",
       "      <td>3</td>\n",
       "      <td>NaN</td>\n",
       "      <td>NaN</td>\n",
       "      <td>there is a forest fire at spot pond, geese are...</td>\n",
       "      <td>0</td>\n",
       "    </tr>\n",
       "    <tr>\n",
       "      <th>4</th>\n",
       "      <td>4</td>\n",
       "      <td>NaN</td>\n",
       "      <td>NaN</td>\n",
       "      <td>Forest fire near La Ronge Sask. Canada</td>\n",
       "      <td>1</td>\n",
       "    </tr>\n",
       "  </tbody>\n",
       "</table>\n",
       "</div>"
      ],
      "text/plain": [
       "   id keyword location                                               text  \\\n",
       "0   0     NaN      NaN                 Just happened a terrible car crash   \n",
       "1   1     NaN      NaN  Our Deeds are the Reason of this #earthquake M...   \n",
       "2   2     NaN      NaN  Heard about #earthquake is different cities, s...   \n",
       "3   3     NaN      NaN  there is a forest fire at spot pond, geese are...   \n",
       "4   4     NaN      NaN             Forest fire near La Ronge Sask. Canada   \n",
       "\n",
       "   target  \n",
       "0       0  \n",
       "1       1  \n",
       "2       0  \n",
       "3       0  \n",
       "4       1  "
      ]
     },
     "execution_count": 10,
     "metadata": {},
     "output_type": "execute_result"
    }
   ],
   "source": [
    "with open('./data/dataset.csv', encoding=\"utf8\") as file:\n",
    "    df = pd.read_csv(file)\n",
    "    \n",
    "df.head()"
   ]
  },
  {
   "cell_type": "markdown",
   "metadata": {},
   "source": [
    "## Separação treino e teste"
   ]
  },
  {
   "cell_type": "code",
   "execution_count": 11,
   "metadata": {},
   "outputs": [],
   "source": [
    "from sklearn.model_selection import train_test_split\n",
    "\n",
    "df_train_raw, df_test_raw = train_test_split(df, test_size=0.2)"
   ]
  },
  {
   "cell_type": "code",
   "execution_count": 12,
   "metadata": {},
   "outputs": [
    {
     "name": "stdout",
     "output_type": "stream",
     "text": [
      "(8700, 5)\n"
     ]
    },
    {
     "data": {
      "text/html": [
       "<div>\n",
       "<style scoped>\n",
       "    .dataframe tbody tr th:only-of-type {\n",
       "        vertical-align: middle;\n",
       "    }\n",
       "\n",
       "    .dataframe tbody tr th {\n",
       "        vertical-align: top;\n",
       "    }\n",
       "\n",
       "    .dataframe thead th {\n",
       "        text-align: right;\n",
       "    }\n",
       "</style>\n",
       "<table border=\"1\" class=\"dataframe\">\n",
       "  <thead>\n",
       "    <tr style=\"text-align: right;\">\n",
       "      <th></th>\n",
       "      <th>id</th>\n",
       "      <th>keyword</th>\n",
       "      <th>location</th>\n",
       "      <th>text</th>\n",
       "      <th>target</th>\n",
       "    </tr>\n",
       "  </thead>\n",
       "  <tbody>\n",
       "    <tr>\n",
       "      <th>5425</th>\n",
       "      <td>5425</td>\n",
       "      <td>first%20responders</td>\n",
       "      <td>NaN</td>\n",
       "      <td>Carmike Cinemas on Antioch Shooting: 'We Are G...</td>\n",
       "      <td>1</td>\n",
       "    </tr>\n",
       "    <tr>\n",
       "      <th>6562</th>\n",
       "      <td>6562</td>\n",
       "      <td>injury</td>\n",
       "      <td>NaN</td>\n",
       "      <td>nflweek1picks: Michael Floyd's hand injury sho...</td>\n",
       "      <td>0</td>\n",
       "    </tr>\n",
       "    <tr>\n",
       "      <th>9148</th>\n",
       "      <td>9148</td>\n",
       "      <td>suicide%20bomber</td>\n",
       "      <td>NaN</td>\n",
       "      <td>#ISIS claims responsibility for Saudi suicide ...</td>\n",
       "      <td>1</td>\n",
       "    </tr>\n",
       "    <tr>\n",
       "      <th>6332</th>\n",
       "      <td>6332</td>\n",
       "      <td>hostage</td>\n",
       "      <td>NaN</td>\n",
       "      <td>@gideonstrumpet Have you been held hostage?</td>\n",
       "      <td>0</td>\n",
       "    </tr>\n",
       "    <tr>\n",
       "      <th>3631</th>\n",
       "      <td>3631</td>\n",
       "      <td>desolation</td>\n",
       "      <td>Prehistoric Earth</td>\n",
       "      <td>I REALLY liked the first Hobbit movie. I saw i...</td>\n",
       "      <td>0</td>\n",
       "    </tr>\n",
       "  </tbody>\n",
       "</table>\n",
       "</div>"
      ],
      "text/plain": [
       "        id             keyword           location  \\\n",
       "5425  5425  first%20responders                NaN   \n",
       "6562  6562              injury                NaN   \n",
       "9148  9148    suicide%20bomber                NaN   \n",
       "6332  6332             hostage                NaN   \n",
       "3631  3631          desolation  Prehistoric Earth   \n",
       "\n",
       "                                                   text  target  \n",
       "5425  Carmike Cinemas on Antioch Shooting: 'We Are G...       1  \n",
       "6562  nflweek1picks: Michael Floyd's hand injury sho...       0  \n",
       "9148  #ISIS claims responsibility for Saudi suicide ...       1  \n",
       "6332        @gideonstrumpet Have you been held hostage?       0  \n",
       "3631  I REALLY liked the first Hobbit movie. I saw i...       0  "
      ]
     },
     "execution_count": 12,
     "metadata": {},
     "output_type": "execute_result"
    }
   ],
   "source": [
    "print(df_train_raw.shape)\n",
    "df_train_raw.head()"
   ]
  },
  {
   "cell_type": "code",
   "execution_count": 13,
   "metadata": {},
   "outputs": [
    {
     "name": "stdout",
     "output_type": "stream",
     "text": [
      "(2176, 5)\n"
     ]
    },
    {
     "data": {
      "text/html": [
       "<div>\n",
       "<style scoped>\n",
       "    .dataframe tbody tr th:only-of-type {\n",
       "        vertical-align: middle;\n",
       "    }\n",
       "\n",
       "    .dataframe tbody tr th {\n",
       "        vertical-align: top;\n",
       "    }\n",
       "\n",
       "    .dataframe thead th {\n",
       "        text-align: right;\n",
       "    }\n",
       "</style>\n",
       "<table border=\"1\" class=\"dataframe\">\n",
       "  <thead>\n",
       "    <tr style=\"text-align: right;\">\n",
       "      <th></th>\n",
       "      <th>id</th>\n",
       "      <th>keyword</th>\n",
       "      <th>location</th>\n",
       "      <th>text</th>\n",
       "      <th>target</th>\n",
       "    </tr>\n",
       "  </thead>\n",
       "  <tbody>\n",
       "    <tr>\n",
       "      <th>8619</th>\n",
       "      <td>8619</td>\n",
       "      <td>seismic</td>\n",
       "      <td>NaN</td>\n",
       "      <td>#Sismo DETECTADO #JapÌ_n [Report 6] 01:02:42 O...</td>\n",
       "      <td>0</td>\n",
       "    </tr>\n",
       "    <tr>\n",
       "      <th>8801</th>\n",
       "      <td>8801</td>\n",
       "      <td>sirens</td>\n",
       "      <td>Nomad, USA</td>\n",
       "      <td>Fuck Sleeping With Sirens.</td>\n",
       "      <td>0</td>\n",
       "    </tr>\n",
       "    <tr>\n",
       "      <th>8951</th>\n",
       "      <td>8951</td>\n",
       "      <td>storm</td>\n",
       "      <td>NaN</td>\n",
       "      <td>Well this storm hit out of no where! ??</td>\n",
       "      <td>0</td>\n",
       "    </tr>\n",
       "    <tr>\n",
       "      <th>3791</th>\n",
       "      <td>3791</td>\n",
       "      <td>destruction</td>\n",
       "      <td>NaN</td>\n",
       "      <td>New RAN report from the frontlines of human ri...</td>\n",
       "      <td>0</td>\n",
       "    </tr>\n",
       "    <tr>\n",
       "      <th>7461</th>\n",
       "      <td>7461</td>\n",
       "      <td>obliteration</td>\n",
       "      <td>kissimmee,fl.</td>\n",
       "      <td>Why did God order obliteration of ancient Cana...</td>\n",
       "      <td>0</td>\n",
       "    </tr>\n",
       "  </tbody>\n",
       "</table>\n",
       "</div>"
      ],
      "text/plain": [
       "        id       keyword       location  \\\n",
       "8619  8619       seismic            NaN   \n",
       "8801  8801        sirens     Nomad, USA   \n",
       "8951  8951         storm            NaN   \n",
       "3791  3791   destruction            NaN   \n",
       "7461  7461  obliteration  kissimmee,fl.   \n",
       "\n",
       "                                                   text  target  \n",
       "8619  #Sismo DETECTADO #JapÌ_n [Report 6] 01:02:42 O...       0  \n",
       "8801                         Fuck Sleeping With Sirens.       0  \n",
       "8951            Well this storm hit out of no where! ??       0  \n",
       "3791  New RAN report from the frontlines of human ri...       0  \n",
       "7461  Why did God order obliteration of ancient Cana...       0  "
      ]
     },
     "execution_count": 13,
     "metadata": {},
     "output_type": "execute_result"
    }
   ],
   "source": [
    "print(df_test_raw.shape)\n",
    "df_test_raw.head()"
   ]
  },
  {
   "cell_type": "markdown",
   "metadata": {},
   "source": [
    "## Limpeza dos textos dos tweets"
   ]
  },
  {
   "cell_type": "markdown",
   "metadata": {},
   "source": [
    "Um coisa interessante de se pensar é que os dados textuais se dão através de textos escritos por pessoas em sua rede social tweeter e podem existir erros de digitação assim é importante tentar corrigir as palavras mal escritas. Para isso podemos usar a biblioteca spell checker."
   ]
  },
  {
   "cell_type": "code",
   "execution_count": 14,
   "metadata": {},
   "outputs": [
    {
     "name": "stderr",
     "output_type": "stream",
     "text": [
      "[nltk_data] Downloading package punkt to\n",
      "[nltk_data]     C:\\Users\\vitor\\AppData\\Roaming\\nltk_data...\n",
      "[nltk_data]   Package punkt is already up-to-date!\n",
      "[nltk_data] Downloading package stopwords to\n",
      "[nltk_data]     C:\\Users\\vitor\\AppData\\Roaming\\nltk_data...\n",
      "[nltk_data]   Package stopwords is already up-to-date!\n",
      "[nltk_data] Downloading package wordnet to\n",
      "[nltk_data]     C:\\Users\\vitor\\AppData\\Roaming\\nltk_data...\n",
      "[nltk_data]   Package wordnet is already up-to-date!\n",
      "[nltk_data] Downloading package omw-1.4 to\n",
      "[nltk_data]     C:\\Users\\vitor\\AppData\\Roaming\\nltk_data...\n",
      "[nltk_data]   Package omw-1.4 is already up-to-date!\n"
     ]
    },
    {
     "data": {
      "text/plain": [
       "True"
      ]
     },
     "execution_count": 14,
     "metadata": {},
     "output_type": "execute_result"
    }
   ],
   "source": [
    "nltk.download('punkt')\n",
    "nltk.download('stopwords')\n",
    "nltk.download('wordnet')\n",
    "nltk.download('omw-1.4')"
   ]
  },
  {
   "cell_type": "markdown",
   "metadata": {},
   "source": [
    "Reutilizando funções do trabalho prático"
   ]
  },
  {
   "cell_type": "code",
   "execution_count": 16,
   "metadata": {},
   "outputs": [],
   "source": [
    "def remove_specials(tokens):\n",
    "    return [unidecode.unidecode(word) for word in tokens]\n",
    "\n",
    "def remove_punctuation(tokens):\n",
    "    table = str.maketrans(\"\",\"\",string.punctuation)\n",
    "    return [w.translate(table) for w in tokens]\n",
    "\n",
    "def array_lower(tokens):\n",
    "    return [w.lower() for w in tokens]\n",
    "\n",
    "def remove_no_words(tokens):\n",
    "    return [word for word in tokens if word.isalpha()]\n",
    "\n",
    "def remove_stop_words(tokens):\n",
    "    stop_words = set(stopwords.words('english'))\n",
    "    return [w for w in tokens if not w in stop_words]\n",
    "\n",
    "\n",
    "def text_cleaner(string):\n",
    "   \n",
    "    # Dividindo texto em tokens\n",
    "    string = word_tokenize(string)\n",
    "    #df_text_column = df_text_column.apply(word_tokenize)\n",
    "    \n",
    "    # Convertendo texto para minusculo\n",
    "    string = array_lower(string)\n",
    "    #df_text_column = df_text_column.apply(array_lower)\n",
    "\n",
    "    # Removendo pontuação\n",
    "    string = remove_punctuation(string)\n",
    "    #df_text_column = df_text_column.apply(remove_punctuation)\n",
    "    \n",
    "    # Removendo caracteres especiais\n",
    "    string = remove_specials(string)\n",
    "    #df_text_column = df_text_column.apply(remove_specials)\n",
    "\n",
    "    # Removendo tokens que não sao palavras\n",
    "    string = remove_no_words(string)\n",
    "    #df_text_column = df_text_column.apply(remove_no_words)\n",
    "\n",
    "    # Removendo tokens que são stop words\n",
    "    string = remove_stop_words(string)\n",
    "    #df_text_column = df_text_column.apply(remove_stop_words)\n",
    "    \n",
    "    return string"
   ]
  },
  {
   "cell_type": "code",
   "execution_count": 17,
   "metadata": {},
   "outputs": [],
   "source": [
    "from sklearn.pipeline import Pipeline\n",
    "from sklearn.decomposition import TruncatedSVD\n",
    "from sklearn.feature_extraction.text import TfidfVectorizer\n",
    "\n",
    "#do_nothing = lambda x: x\n",
    "N_COMPONENTS = 1000 #Vimos com o PCA diminuindo metade das featues tinha uma variancia explicada alta\n",
    "\n",
    "wordnet_lemmatizer = WordNetLemmatizer()\n",
    "lemmazation = lambda words: [wordnet_lemmatizer.lemmatize(tk) for tk in words]\n",
    "\n",
    "\n",
    "tfidf = TfidfVectorizer(tokenizer = lemmazation,lowercase=False, preprocessor=text_cleaner, ngram_range=(1, 2),min_df=10,max_df=0.95)\n",
    "\n",
    "text_process_pipe = Pipeline([\n",
    "                             (\"tfidf\",tfidf),\n",
    "                             (\"pca\", TruncatedSVD(n_components=N_COMPONENTS))\n",
    "                             ])\n"
   ]
  },
  {
   "cell_type": "code",
   "execution_count": 19,
   "metadata": {},
   "outputs": [],
   "source": [
    "X_train = text_process_pipe.fit_transform(df_train_raw['text'])\n",
    "y_train = df_train_raw['target']"
   ]
  },
  {
   "cell_type": "code",
   "execution_count": 21,
   "metadata": {},
   "outputs": [],
   "source": [
    "X_test = text_process_pipe.transform(df_test_raw['text'])\n",
    "y_test = df_test_raw['target']"
   ]
  },
  {
   "cell_type": "code",
   "execution_count": 22,
   "metadata": {},
   "outputs": [
    {
     "name": "stdout",
     "output_type": "stream",
     "text": [
      "Total variance explained: 89.47%\n"
     ]
    }
   ],
   "source": [
    "print(f\"Total variance explained: {text_process_pipe['pca'].explained_variance_ratio_.sum()*100:.2f}%\")"
   ]
  },
  {
   "cell_type": "code",
   "execution_count": 23,
   "metadata": {},
   "outputs": [
    {
     "data": {
      "text/html": [
       "<div>\n",
       "<style scoped>\n",
       "    .dataframe tbody tr th:only-of-type {\n",
       "        vertical-align: middle;\n",
       "    }\n",
       "\n",
       "    .dataframe tbody tr th {\n",
       "        vertical-align: top;\n",
       "    }\n",
       "\n",
       "    .dataframe thead th {\n",
       "        text-align: right;\n",
       "    }\n",
       "</style>\n",
       "<table border=\"1\" class=\"dataframe\">\n",
       "  <thead>\n",
       "    <tr style=\"text-align: right;\">\n",
       "      <th></th>\n",
       "      <th>0</th>\n",
       "      <th>1</th>\n",
       "      <th>2</th>\n",
       "      <th>3</th>\n",
       "      <th>4</th>\n",
       "      <th>5</th>\n",
       "      <th>6</th>\n",
       "      <th>7</th>\n",
       "      <th>8</th>\n",
       "      <th>9</th>\n",
       "      <th>...</th>\n",
       "      <th>990</th>\n",
       "      <th>991</th>\n",
       "      <th>992</th>\n",
       "      <th>993</th>\n",
       "      <th>994</th>\n",
       "      <th>995</th>\n",
       "      <th>996</th>\n",
       "      <th>997</th>\n",
       "      <th>998</th>\n",
       "      <th>999</th>\n",
       "    </tr>\n",
       "  </thead>\n",
       "  <tbody>\n",
       "    <tr>\n",
       "      <th>0</th>\n",
       "      <td>0.115898</td>\n",
       "      <td>-0.001880</td>\n",
       "      <td>0.002272</td>\n",
       "      <td>0.012009</td>\n",
       "      <td>0.023756</td>\n",
       "      <td>-0.007636</td>\n",
       "      <td>0.003651</td>\n",
       "      <td>0.015139</td>\n",
       "      <td>0.006964</td>\n",
       "      <td>-0.011094</td>\n",
       "      <td>...</td>\n",
       "      <td>0.002930</td>\n",
       "      <td>-0.004744</td>\n",
       "      <td>-0.004019</td>\n",
       "      <td>0.017230</td>\n",
       "      <td>0.017403</td>\n",
       "      <td>-0.005102</td>\n",
       "      <td>-0.009917</td>\n",
       "      <td>-0.016734</td>\n",
       "      <td>-0.004147</td>\n",
       "      <td>-0.018803</td>\n",
       "    </tr>\n",
       "    <tr>\n",
       "      <th>1</th>\n",
       "      <td>0.042272</td>\n",
       "      <td>0.145112</td>\n",
       "      <td>-0.060910</td>\n",
       "      <td>-0.090645</td>\n",
       "      <td>0.021908</td>\n",
       "      <td>-0.023347</td>\n",
       "      <td>0.015435</td>\n",
       "      <td>0.037259</td>\n",
       "      <td>-0.081981</td>\n",
       "      <td>0.105411</td>\n",
       "      <td>...</td>\n",
       "      <td>0.015797</td>\n",
       "      <td>0.020255</td>\n",
       "      <td>0.019941</td>\n",
       "      <td>-0.001038</td>\n",
       "      <td>-0.004289</td>\n",
       "      <td>0.005013</td>\n",
       "      <td>-0.031911</td>\n",
       "      <td>0.004592</td>\n",
       "      <td>-0.018539</td>\n",
       "      <td>-0.010418</td>\n",
       "    </tr>\n",
       "    <tr>\n",
       "      <th>2</th>\n",
       "      <td>0.113825</td>\n",
       "      <td>-0.016492</td>\n",
       "      <td>-0.029402</td>\n",
       "      <td>0.037878</td>\n",
       "      <td>0.175976</td>\n",
       "      <td>0.280902</td>\n",
       "      <td>0.041580</td>\n",
       "      <td>-0.023413</td>\n",
       "      <td>-0.033963</td>\n",
       "      <td>-0.018041</td>\n",
       "      <td>...</td>\n",
       "      <td>0.000799</td>\n",
       "      <td>0.004370</td>\n",
       "      <td>0.002282</td>\n",
       "      <td>0.006571</td>\n",
       "      <td>-0.001327</td>\n",
       "      <td>-0.017468</td>\n",
       "      <td>0.006362</td>\n",
       "      <td>-0.020501</td>\n",
       "      <td>0.003040</td>\n",
       "      <td>-0.019724</td>\n",
       "    </tr>\n",
       "    <tr>\n",
       "      <th>3</th>\n",
       "      <td>0.015160</td>\n",
       "      <td>0.008240</td>\n",
       "      <td>-0.006807</td>\n",
       "      <td>0.008288</td>\n",
       "      <td>0.013175</td>\n",
       "      <td>-0.001028</td>\n",
       "      <td>0.005241</td>\n",
       "      <td>0.016037</td>\n",
       "      <td>-0.012115</td>\n",
       "      <td>-0.008127</td>\n",
       "      <td>...</td>\n",
       "      <td>-0.006238</td>\n",
       "      <td>-0.006503</td>\n",
       "      <td>-0.035822</td>\n",
       "      <td>-0.021211</td>\n",
       "      <td>-0.031507</td>\n",
       "      <td>-0.010962</td>\n",
       "      <td>0.002960</td>\n",
       "      <td>-0.025728</td>\n",
       "      <td>-0.010376</td>\n",
       "      <td>0.031070</td>\n",
       "    </tr>\n",
       "    <tr>\n",
       "      <th>4</th>\n",
       "      <td>0.033475</td>\n",
       "      <td>0.041977</td>\n",
       "      <td>-0.000954</td>\n",
       "      <td>0.030974</td>\n",
       "      <td>0.030319</td>\n",
       "      <td>-0.014712</td>\n",
       "      <td>-0.011335</td>\n",
       "      <td>0.000185</td>\n",
       "      <td>0.005610</td>\n",
       "      <td>-0.018142</td>\n",
       "      <td>...</td>\n",
       "      <td>0.009914</td>\n",
       "      <td>-0.005846</td>\n",
       "      <td>-0.003197</td>\n",
       "      <td>0.004188</td>\n",
       "      <td>0.007878</td>\n",
       "      <td>0.019110</td>\n",
       "      <td>-0.009269</td>\n",
       "      <td>-0.016263</td>\n",
       "      <td>-0.002314</td>\n",
       "      <td>0.002820</td>\n",
       "    </tr>\n",
       "  </tbody>\n",
       "</table>\n",
       "<p>5 rows × 1000 columns</p>\n",
       "</div>"
      ],
      "text/plain": [
       "        0         1         2         3         4         5         6    \\\n",
       "0  0.115898 -0.001880  0.002272  0.012009  0.023756 -0.007636  0.003651   \n",
       "1  0.042272  0.145112 -0.060910 -0.090645  0.021908 -0.023347  0.015435   \n",
       "2  0.113825 -0.016492 -0.029402  0.037878  0.175976  0.280902  0.041580   \n",
       "3  0.015160  0.008240 -0.006807  0.008288  0.013175 -0.001028  0.005241   \n",
       "4  0.033475  0.041977 -0.000954  0.030974  0.030319 -0.014712 -0.011335   \n",
       "\n",
       "        7         8         9    ...       990       991       992       993  \\\n",
       "0  0.015139  0.006964 -0.011094  ...  0.002930 -0.004744 -0.004019  0.017230   \n",
       "1  0.037259 -0.081981  0.105411  ...  0.015797  0.020255  0.019941 -0.001038   \n",
       "2 -0.023413 -0.033963 -0.018041  ...  0.000799  0.004370  0.002282  0.006571   \n",
       "3  0.016037 -0.012115 -0.008127  ... -0.006238 -0.006503 -0.035822 -0.021211   \n",
       "4  0.000185  0.005610 -0.018142  ...  0.009914 -0.005846 -0.003197  0.004188   \n",
       "\n",
       "        994       995       996       997       998       999  \n",
       "0  0.017403 -0.005102 -0.009917 -0.016734 -0.004147 -0.018803  \n",
       "1 -0.004289  0.005013 -0.031911  0.004592 -0.018539 -0.010418  \n",
       "2 -0.001327 -0.017468  0.006362 -0.020501  0.003040 -0.019724  \n",
       "3 -0.031507 -0.010962  0.002960 -0.025728 -0.010376  0.031070  \n",
       "4  0.007878  0.019110 -0.009269 -0.016263 -0.002314  0.002820  \n",
       "\n",
       "[5 rows x 1000 columns]"
      ]
     },
     "execution_count": 23,
     "metadata": {},
     "output_type": "execute_result"
    }
   ],
   "source": [
    "#Transforma as features em um Dataframe\n",
    "X_train_view = pd.DataFrame(data=X_train, columns=list(range(N_COMPONENTS)))\n",
    "X_train_view.head()"
   ]
  },
  {
   "cell_type": "code",
   "execution_count": 24,
   "metadata": {},
   "outputs": [
    {
     "data": {
      "text/plain": [
       "Text(0, 0.5, 'Variancia explicada')"
      ]
     },
     "execution_count": 24,
     "metadata": {},
     "output_type": "execute_result"
    },
    {
     "data": {
      "image/png": "[encoded data removed]",
      "text/plain": [
       "<Figure size 432x288 with 1 Axes>"
      ]
     },
     "metadata": {
      "needs_background": "light"
     },
     "output_type": "display_data"
    }
   ],
   "source": [
    "plt.plot(np.cumsum(text_process_pipe['pca'].explained_variance_ratio_))\n",
    "plt.xlabel('Numero de componentes')\n",
    "plt.ylabel('Variancia explicada')"
   ]
  },
  {
   "cell_type": "markdown",
   "metadata": {},
   "source": [
    "# Analise exploratoria de cada classe"
   ]
  },
  {
   "cell_type": "markdown",
   "metadata": {},
   "source": [
    "Os dados possuem 2 classes são elas:\n",
    "\n",
    "0 - Tweets sobre desastres que são fake (Não Desastre)\n",
    "\n",
    "1 - Tweets sobre desastres que são reais (Desastre)"
   ]
  },
  {
   "cell_type": "code",
   "execution_count": 25,
   "metadata": {},
   "outputs": [
    {
     "data": {
      "text/plain": [
       "[Text(0, 0, 'Não Desastre'), Text(1, 0, 'Desastre')]"
      ]
     },
     "execution_count": 25,
     "metadata": {},
     "output_type": "execute_result"
    },
    {
     "data": {
      "image/png": "[encoded data removed]",
      "text/plain": [
       "<Figure size 432x288 with 1 Axes>"
      ]
     },
     "metadata": {
      "needs_background": "light"
     },
     "output_type": "display_data"
    }
   ],
   "source": [
    "ax = sns.countplot(x='target',data = df)\n",
    "\n",
    "ax.set_title('Distribuição por classe de Todos Dados')\n",
    "ax.set_ylabel('Quantidade')\n",
    "ax.set_xlabel('Classe')\n",
    "ax.set_xticklabels([\"Não Desastre\",\"Desastre\"])"
   ]
  },
  {
   "cell_type": "markdown",
   "metadata": {},
   "source": [
    "Podemos comparar algumas caracteristicas do texto, como tamanho do texto e a quantidade de tokens geradas por cada."
   ]
  },
  {
   "cell_type": "code",
   "execution_count": 26,
   "metadata": {},
   "outputs": [
    {
     "data": {
      "text/plain": [
       "Text(0.5, 1.05, 'Distribuição da quantidade de caracteres do tweet por classe')"
      ]
     },
     "execution_count": 26,
     "metadata": {},
     "output_type": "execute_result"
    },
    {
     "data": {
      "image/png": "[encoded data removed]",
      "text/plain": [
       "<Figure size 762.375x360 with 2 Axes>"
      ]
     },
     "metadata": {
      "needs_background": "light"
     },
     "output_type": "display_data"
    }
   ],
   "source": [
    "ax = sns.displot(x=df['text'].str.len(),data = df,col='target',hue='target',kde=True)\n",
    "\n",
    "ax.fig.suptitle('Distribuição da quantidade de caracteres do tweet por classe',y=1.05)"
   ]
  },
  {
   "cell_type": "markdown",
   "metadata": {},
   "source": [
    "# Classificadores"
   ]
  },
  {
   "cell_type": "code",
   "execution_count": 41,
   "metadata": {},
   "outputs": [],
   "source": [
    "from sklearn.model_selection import GridSearchCV\n",
    "from sklearn.metrics import classification_report\n",
    "from sklearn.metrics import ConfusionMatrixDisplay\n",
    "\n",
    "def test_classifier(classifier,params,X_train,y_train,X_test,y_test):\n",
    "    params = params\n",
    "    clf = GridSearchCV(classifier, params, n_jobs = -1,cv=5)\n",
    "    clf.fit(X_train, y_train)\n",
    "    \n",
    "    print(clf.best_params_)\n",
    "    \n",
    "    y_predicted = clf.predict(X_test)\n",
    "    \n",
    "    print(classification_report(y_test, y_predicted))\n",
    "    ConfusionMatrixDisplay.from_predictions(y_test, y_predicted);\n",
    "    \n",
    "    return clf"
   ]
  },
  {
   "cell_type": "markdown",
   "metadata": {},
   "source": [
    "## Knn"
   ]
  },
  {
   "cell_type": "code",
   "execution_count": 42,
   "metadata": {},
   "outputs": [
    {
     "name": "stdout",
     "output_type": "stream",
     "text": [
      "{'n_neighbors': 5}\n",
      "              precision    recall  f1-score   support\n",
      "\n",
      "           0       0.76      0.91      0.83      1525\n",
      "           1       0.60      0.31      0.41       651\n",
      "\n",
      "    accuracy                           0.73      2176\n",
      "   macro avg       0.68      0.61      0.62      2176\n",
      "weighted avg       0.71      0.73      0.70      2176\n",
      "\n"
     ]
    },
    {
     "data": {
      "image/png": "[encoded data removed]",
      "text/plain": [
       "<Figure size 432x288 with 2 Axes>"
      ]
     },
     "metadata": {
      "needs_background": "light"
     },
     "output_type": "display_data"
    }
   ],
   "source": [
    "from sklearn.neighbors import KNeighborsClassifier\n",
    "\n",
    "params = {'n_neighbors': [3,5,7,11,13]}\n",
    "\n",
    "knn = test_classifier(KNeighborsClassifier(),params,X_train,y_train,X_test,y_test)"
   ]
  },
  {
   "cell_type": "markdown",
   "metadata": {
    "pycharm": {
     "name": "#%% md\n"
    }
   },
   "source": [
    "## Decision Tree"
   ]
  },
  {
   "cell_type": "code",
   "execution_count": 44,
   "metadata": {},
   "outputs": [
    {
     "name": "stdout",
     "output_type": "stream",
     "text": [
      "{'criterion': 'gini', 'max_depth': 4}\n",
      "              precision    recall  f1-score   support\n",
      "\n",
      "           0       0.73      0.96      0.83      1525\n",
      "           1       0.61      0.16      0.25       651\n",
      "\n",
      "    accuracy                           0.72      2176\n",
      "   macro avg       0.67      0.56      0.54      2176\n",
      "weighted avg       0.69      0.72      0.65      2176\n",
      "\n"
     ]
    },
    {
     "data": {
      "image/png": "[encoded data removed]",
      "text/plain": [
       "<Figure size 432x288 with 2 Axes>"
      ]
     },
     "metadata": {
      "needs_background": "light"
     },
     "output_type": "display_data"
    }
   ],
   "source": [
    "from sklearn.tree import DecisionTreeClassifier\n",
    "\n",
    "params = {'criterion':['gini','entropy'],'max_depth':[4,5,6,7,8,9,10,11,12,15,20,30,40,50,70,90,120,150]}\n",
    "\n",
    "dt = test_classifier(DecisionTreeClassifier(),params,X_train,y_train,X_test,y_test)"
   ]
  },
  {
   "cell_type": "code",
   "execution_count": 55,
   "metadata": {},
   "outputs": [],
   "source": [
    "import graphviz\n",
    "import pydotplus\n",
    "from sklearn.tree import DecisionTreeClassifier,export_graphviz\n",
    "\n",
    "dot_data = export_graphviz(dt.best_estimator_, out_file=None, \n",
    "                     filled=True, rounded=True,  \n",
    "                     special_characters=True)\n",
    "\n",
    "graph = graphviz.Source(dot_data)  \n",
    "#graph.render(\"dt-vis\",view = True)\n",
    "#graph"
   ]
  },
  {
   "cell_type": "markdown",
   "metadata": {},
   "source": [
    "## Random Forest"
   ]
  },
  {
   "cell_type": "code",
   "execution_count": null,
   "metadata": {},
   "outputs": [
    {
     "name": "stderr",
     "output_type": "stream",
     "text": [
      "exception calling callback for <Future at 0x24f2399b670 state=finished raised TerminatedWorkerError>\n",
      "Traceback (most recent call last):\n",
      "  File \"c:\\users\\vitor\\appdata\\local\\programs\\python\\python38\\lib\\site-packages\\joblib\\externals\\loky\\_base.py\", line 625, in _invoke_callbacks\n",
      "    callback(self)\n",
      "  File \"c:\\users\\vitor\\appdata\\local\\programs\\python\\python38\\lib\\site-packages\\joblib\\parallel.py\", line 347, in __call__\n",
      "    self.parallel.dispatch_next()\n",
      "  File \"c:\\users\\vitor\\appdata\\local\\programs\\python\\python38\\lib\\site-packages\\joblib\\parallel.py\", line 780, in dispatch_next\n",
      "    if not self.dispatch_one_batch(self._original_iterator):\n",
      "  File \"c:\\users\\vitor\\appdata\\local\\programs\\python\\python38\\lib\\site-packages\\joblib\\parallel.py\", line 847, in dispatch_one_batch\n",
      "    self._dispatch(tasks)\n",
      "  File \"c:\\users\\vitor\\appdata\\local\\programs\\python\\python38\\lib\\site-packages\\joblib\\parallel.py\", line 765, in _dispatch\n",
      "    job = self._backend.apply_async(batch, callback=cb)\n",
      "  File \"c:\\users\\vitor\\appdata\\local\\programs\\python\\python38\\lib\\site-packages\\joblib\\_parallel_backends.py\", line 531, in apply_async\n",
      "    future = self._workers.submit(SafeFunction(func))\n",
      "  File \"c:\\users\\vitor\\appdata\\local\\programs\\python\\python38\\lib\\site-packages\\joblib\\externals\\loky\\reusable_executor.py\", line 177, in submit\n",
      "    return super(_ReusablePoolExecutor, self).submit(\n",
      "  File \"c:\\users\\vitor\\appdata\\local\\programs\\python\\python38\\lib\\site-packages\\joblib\\externals\\loky\\process_executor.py\", line 1102, in submit\n",
      "    raise self._flags.broken\n",
      "joblib.externals.loky.process_executor.TerminatedWorkerError: A worker process managed by the executor was unexpectedly terminated. This could be caused by a segmentation fault while calling the function or by an excessive memory usage causing the Operating System to kill the worker.\n",
      "\n"
     ]
    }
   ],
   "source": [
    "from sklearn.ensemble import RandomForestClassifier\n",
    "\n",
    "params = {'bootstrap': [True, False],\n",
    "          'max_depth': [10, 20, 30, None],\n",
    "          'max_features': ['auto', 'sqrt']}\n",
    "\n",
    "\n",
    "rf = test_classifier(RandomForestClassifier(),params,X_train,y_train,X_test,y_test)"
   ]
  },
  {
   "cell_type": "code",
   "execution_count": null,
   "metadata": {},
   "outputs": [],
   "source": []
  }
 ],
 "metadata": {
  "kernelspec": {
   "display_name": "Python 3",
   "language": "python",
   "name": "python3"
  },
  "language_info": {
   "codemirror_mode": {
    "name": "ipython",
    "version": 3
   },
   "file_extension": ".py",
   "mimetype": "text/x-python",
   "name": "python",
   "nbconvert_exporter": "python",
   "pygments_lexer": "ipython3",
   "version": "3.8.5"
  }
 },
 "nbformat": 4,
 "nbformat_minor": 1
}
