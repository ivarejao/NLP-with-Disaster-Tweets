{
 "cells": [
  {
   "cell_type": "code",
   "execution_count": 185,
   "metadata": {
    "pycharm": {
     "name": "#%%\n"
    }
   },
   "outputs": [],
   "source": [
    "#basics\n",
    "import pandas as pd\n",
    "import numpy as np\n",
    "import seaborn as sns\n",
    "import matplotlib.pyplot as plt\n",
    "\n",
    "#text process\n",
    "import nltk\n",
    "import unidecode\n",
    "import string\n",
    "from nltk import word_tokenize\n",
    "from nltk.corpus import stopwords\n",
    "from nltk.stem.porter import PorterStemmer\n",
    "from nltk.stem import WordNetLemmatizer"
   ]
  },
  {
   "cell_type": "markdown",
   "metadata": {
    "pycharm": {
     "name": "#%% md\n"
    }
   },
   "source": [
    "# Processamento dos dados\n",
    "\n",
    "Como existem dados textuais podemos usar as funções já utilizadas no trabalho anterior\n",
    "\n",
    "\n"
   ]
  },
  {
   "cell_type": "code",
   "execution_count": 186,
   "metadata": {},
   "outputs": [
    {
     "data": {
      "text/html": [
       "<div>\n",
       "<style scoped>\n",
       "    .dataframe tbody tr th:only-of-type {\n",
       "        vertical-align: middle;\n",
       "    }\n",
       "\n",
       "    .dataframe tbody tr th {\n",
       "        vertical-align: top;\n",
       "    }\n",
       "\n",
       "    .dataframe thead th {\n",
       "        text-align: right;\n",
       "    }\n",
       "</style>\n",
       "<table border=\"1\" class=\"dataframe\">\n",
       "  <thead>\n",
       "    <tr style=\"text-align: right;\">\n",
       "      <th></th>\n",
       "      <th>id</th>\n",
       "      <th>keyword</th>\n",
       "      <th>location</th>\n",
       "      <th>text</th>\n",
       "      <th>target</th>\n",
       "    </tr>\n",
       "  </thead>\n",
       "  <tbody>\n",
       "    <tr>\n",
       "      <th>0</th>\n",
       "      <td>0</td>\n",
       "      <td>NaN</td>\n",
       "      <td>NaN</td>\n",
       "      <td>Just happened a terrible car crash</td>\n",
       "      <td>0</td>\n",
       "    </tr>\n",
       "    <tr>\n",
       "      <th>1</th>\n",
       "      <td>1</td>\n",
       "      <td>NaN</td>\n",
       "      <td>NaN</td>\n",
       "      <td>Our Deeds are the Reason of this #earthquake M...</td>\n",
       "      <td>1</td>\n",
       "    </tr>\n",
       "    <tr>\n",
       "      <th>2</th>\n",
       "      <td>2</td>\n",
       "      <td>NaN</td>\n",
       "      <td>NaN</td>\n",
       "      <td>Heard about #earthquake is different cities, s...</td>\n",
       "      <td>0</td>\n",
       "    </tr>\n",
       "    <tr>\n",
       "      <th>3</th>\n",
       "      <td>3</td>\n",
       "      <td>NaN</td>\n",
       "      <td>NaN</td>\n",
       "      <td>there is a forest fire at spot pond, geese are...</td>\n",
       "      <td>0</td>\n",
       "    </tr>\n",
       "    <tr>\n",
       "      <th>4</th>\n",
       "      <td>4</td>\n",
       "      <td>NaN</td>\n",
       "      <td>NaN</td>\n",
       "      <td>Forest fire near La Ronge Sask. Canada</td>\n",
       "      <td>1</td>\n",
       "    </tr>\n",
       "  </tbody>\n",
       "</table>\n",
       "</div>"
      ],
      "text/plain": [
       "   id keyword location                                               text  \\\n",
       "0   0     NaN      NaN                 Just happened a terrible car crash   \n",
       "1   1     NaN      NaN  Our Deeds are the Reason of this #earthquake M...   \n",
       "2   2     NaN      NaN  Heard about #earthquake is different cities, s...   \n",
       "3   3     NaN      NaN  there is a forest fire at spot pond, geese are...   \n",
       "4   4     NaN      NaN             Forest fire near La Ronge Sask. Canada   \n",
       "\n",
       "   target  \n",
       "0       0  \n",
       "1       1  \n",
       "2       0  \n",
       "3       0  \n",
       "4       1  "
      ]
     },
     "execution_count": 186,
     "metadata": {},
     "output_type": "execute_result"
    }
   ],
   "source": [
    "with open('./data/dataset.csv', encoding=\"utf8\") as file:\n",
    "    df = pd.read_csv(file)\n",
    "    \n",
    "df.head()"
   ]
  },
  {
   "cell_type": "markdown",
   "metadata": {},
   "source": [
    "## Separação treino e teste"
   ]
  },
  {
   "cell_type": "code",
   "execution_count": 187,
   "metadata": {},
   "outputs": [],
   "source": [
    "from sklearn.model_selection import train_test_split\n",
    "\n",
    "df_train_raw, df_test_raw = train_test_split(df, test_size=0.2)"
   ]
  },
  {
   "cell_type": "code",
   "execution_count": 188,
   "metadata": {},
   "outputs": [
    {
     "name": "stdout",
     "output_type": "stream",
     "text": [
      "(8700, 5)\n"
     ]
    },
    {
     "data": {
      "text/html": [
       "<div>\n",
       "<style scoped>\n",
       "    .dataframe tbody tr th:only-of-type {\n",
       "        vertical-align: middle;\n",
       "    }\n",
       "\n",
       "    .dataframe tbody tr th {\n",
       "        vertical-align: top;\n",
       "    }\n",
       "\n",
       "    .dataframe thead th {\n",
       "        text-align: right;\n",
       "    }\n",
       "</style>\n",
       "<table border=\"1\" class=\"dataframe\">\n",
       "  <thead>\n",
       "    <tr style=\"text-align: right;\">\n",
       "      <th></th>\n",
       "      <th>id</th>\n",
       "      <th>keyword</th>\n",
       "      <th>location</th>\n",
       "      <th>text</th>\n",
       "      <th>target</th>\n",
       "    </tr>\n",
       "  </thead>\n",
       "  <tbody>\n",
       "    <tr>\n",
       "      <th>9691</th>\n",
       "      <td>9691</td>\n",
       "      <td>tornado</td>\n",
       "      <td>NaN</td>\n",
       "      <td>Marley Brinx gives a striptease and then sprea...</td>\n",
       "      <td>0</td>\n",
       "    </tr>\n",
       "    <tr>\n",
       "      <th>4607</th>\n",
       "      <td>4607</td>\n",
       "      <td>emergency%20services</td>\n",
       "      <td>NaN</td>\n",
       "      <td>Emergency Services Committee and Personnel Com...</td>\n",
       "      <td>0</td>\n",
       "    </tr>\n",
       "    <tr>\n",
       "      <th>8719</th>\n",
       "      <td>8719</td>\n",
       "      <td>sinking</td>\n",
       "      <td>NaN</td>\n",
       "      <td>HELP ME I'M SINKING</td>\n",
       "      <td>0</td>\n",
       "    </tr>\n",
       "    <tr>\n",
       "      <th>2660</th>\n",
       "      <td>2660</td>\n",
       "      <td>crush</td>\n",
       "      <td>San Antonio, TX</td>\n",
       "      <td>women crush ???? http://t.co/CFXhQHvbVB</td>\n",
       "      <td>0</td>\n",
       "    </tr>\n",
       "    <tr>\n",
       "      <th>2892</th>\n",
       "      <td>2892</td>\n",
       "      <td>damage</td>\n",
       "      <td>BGSU</td>\n",
       "      <td>@f_body95 never riding in the gaymaro ... Woul...</td>\n",
       "      <td>0</td>\n",
       "    </tr>\n",
       "  </tbody>\n",
       "</table>\n",
       "</div>"
      ],
      "text/plain": [
       "        id               keyword         location  \\\n",
       "9691  9691               tornado              NaN   \n",
       "4607  4607  emergency%20services              NaN   \n",
       "8719  8719               sinking              NaN   \n",
       "2660  2660                 crush  San Antonio, TX   \n",
       "2892  2892                damage             BGSU   \n",
       "\n",
       "                                                   text  target  \n",
       "9691  Marley Brinx gives a striptease and then sprea...       0  \n",
       "4607  Emergency Services Committee and Personnel Com...       0  \n",
       "8719                                HELP ME I'M SINKING       0  \n",
       "2660            women crush ???? http://t.co/CFXhQHvbVB       0  \n",
       "2892  @f_body95 never riding in the gaymaro ... Woul...       0  "
      ]
     },
     "execution_count": 188,
     "metadata": {},
     "output_type": "execute_result"
    }
   ],
   "source": [
    "print(df_train_raw.shape)\n",
    "df_train_raw.head()"
   ]
  },
  {
   "cell_type": "code",
   "execution_count": 189,
   "metadata": {},
   "outputs": [
    {
     "name": "stdout",
     "output_type": "stream",
     "text": [
      "(2176, 5)\n"
     ]
    },
    {
     "data": {
      "text/html": [
       "<div>\n",
       "<style scoped>\n",
       "    .dataframe tbody tr th:only-of-type {\n",
       "        vertical-align: middle;\n",
       "    }\n",
       "\n",
       "    .dataframe tbody tr th {\n",
       "        vertical-align: top;\n",
       "    }\n",
       "\n",
       "    .dataframe thead th {\n",
       "        text-align: right;\n",
       "    }\n",
       "</style>\n",
       "<table border=\"1\" class=\"dataframe\">\n",
       "  <thead>\n",
       "    <tr style=\"text-align: right;\">\n",
       "      <th></th>\n",
       "      <th>id</th>\n",
       "      <th>keyword</th>\n",
       "      <th>location</th>\n",
       "      <th>text</th>\n",
       "      <th>target</th>\n",
       "    </tr>\n",
       "  </thead>\n",
       "  <tbody>\n",
       "    <tr>\n",
       "      <th>4950</th>\n",
       "      <td>4950</td>\n",
       "      <td>exploded</td>\n",
       "      <td>Ìth Cliath, Ìäire</td>\n",
       "      <td>@rickoshea @AnthonySHead @NicholasBrendon @Dub...</td>\n",
       "      <td>0</td>\n",
       "    </tr>\n",
       "    <tr>\n",
       "      <th>5940</th>\n",
       "      <td>5940</td>\n",
       "      <td>hazard</td>\n",
       "      <td>Karma</td>\n",
       "      <td>Whoever got compared with Hazard faded away on...</td>\n",
       "      <td>0</td>\n",
       "    </tr>\n",
       "    <tr>\n",
       "      <th>2295</th>\n",
       "      <td>2295</td>\n",
       "      <td>cliff%20fall</td>\n",
       "      <td>NaN</td>\n",
       "      <td>Mega keen for hiking tomorrow! Hope i don't fa...</td>\n",
       "      <td>0</td>\n",
       "    </tr>\n",
       "    <tr>\n",
       "      <th>1263</th>\n",
       "      <td>1263</td>\n",
       "      <td>blood</td>\n",
       "      <td>NaN</td>\n",
       "      <td>Man . somebody gotta stop Sbee dude too fuckin...</td>\n",
       "      <td>0</td>\n",
       "    </tr>\n",
       "    <tr>\n",
       "      <th>3973</th>\n",
       "      <td>3973</td>\n",
       "      <td>devastation</td>\n",
       "      <td>Vancouver BC</td>\n",
       "      <td>Is This Country Latin America's Next 'Argentin...</td>\n",
       "      <td>0</td>\n",
       "    </tr>\n",
       "  </tbody>\n",
       "</table>\n",
       "</div>"
      ],
      "text/plain": [
       "        id       keyword            location  \\\n",
       "4950  4950      exploded  Ìth Cliath, Ìäire   \n",
       "5940  5940        hazard              Karma    \n",
       "2295  2295  cliff%20fall                 NaN   \n",
       "1263  1263         blood                 NaN   \n",
       "3973  3973   devastation        Vancouver BC   \n",
       "\n",
       "                                                   text  target  \n",
       "4950  @rickoshea @AnthonySHead @NicholasBrendon @Dub...       0  \n",
       "5940  Whoever got compared with Hazard faded away on...       0  \n",
       "2295  Mega keen for hiking tomorrow! Hope i don't fa...       0  \n",
       "1263  Man . somebody gotta stop Sbee dude too fuckin...       0  \n",
       "3973  Is This Country Latin America's Next 'Argentin...       0  "
      ]
     },
     "execution_count": 189,
     "metadata": {},
     "output_type": "execute_result"
    }
   ],
   "source": [
    "print(df_test_raw.shape)\n",
    "df_test_raw.head()"
   ]
  },
  {
   "cell_type": "markdown",
   "metadata": {},
   "source": [
    "## Limpeza dos textos dos tweets"
   ]
  },
  {
   "cell_type": "markdown",
   "metadata": {},
   "source": [
    "Um coisa interessante de se pensar é que os dados textuais se dão através de textos escritos por pessoas em sua rede social tweeter e podem existir erros de digitação assim é importante tentar corrigir as palavras mal escritas. Para isso podemos usar a biblioteca spell checker."
   ]
  },
  {
   "cell_type": "code",
   "execution_count": 190,
   "metadata": {},
   "outputs": [
    {
     "name": "stderr",
     "output_type": "stream",
     "text": [
      "[nltk_data] Downloading package punkt to\n",
      "[nltk_data]     C:\\Users\\vitor\\AppData\\Roaming\\nltk_data...\n",
      "[nltk_data]   Package punkt is already up-to-date!\n",
      "[nltk_data] Downloading package stopwords to\n",
      "[nltk_data]     C:\\Users\\vitor\\AppData\\Roaming\\nltk_data...\n",
      "[nltk_data]   Package stopwords is already up-to-date!\n",
      "[nltk_data] Downloading package wordnet to\n",
      "[nltk_data]     C:\\Users\\vitor\\AppData\\Roaming\\nltk_data...\n",
      "[nltk_data]   Package wordnet is already up-to-date!\n",
      "[nltk_data] Downloading package omw-1.4 to\n",
      "[nltk_data]     C:\\Users\\vitor\\AppData\\Roaming\\nltk_data...\n",
      "[nltk_data]   Package omw-1.4 is already up-to-date!\n"
     ]
    },
    {
     "data": {
      "text/plain": [
       "True"
      ]
     },
     "execution_count": 190,
     "metadata": {},
     "output_type": "execute_result"
    }
   ],
   "source": [
    "nltk.download('punkt')\n",
    "nltk.download('stopwords')\n",
    "nltk.download('wordnet')\n",
    "nltk.download('omw-1.4')"
   ]
  },
  {
   "cell_type": "markdown",
   "metadata": {},
   "source": [
    "Reutilizando funções do trabalho prático"
   ]
  },
  {
   "cell_type": "code",
   "execution_count": 191,
   "metadata": {},
   "outputs": [],
   "source": [
    "def remove_specials(tokens):\n",
    "    return [unidecode.unidecode(word) for word in tokens]\n",
    "\n",
    "def remove_punctuation(tokens):\n",
    "    table = str.maketrans(\"\",\"\",string.punctuation)\n",
    "    return [w.translate(table) for w in tokens]\n",
    "\n",
    "def array_lower(tokens):\n",
    "    return [w.lower() for w in tokens]\n",
    "\n",
    "def remove_no_words(tokens):\n",
    "    return [word for word in tokens if word.isalpha()]\n",
    "\n",
    "def remove_stop_words(tokens):\n",
    "    stop_words = set(stopwords.words('english'))\n",
    "    return [w for w in tokens if not w in stop_words]\n",
    "\n",
    "\n",
    "def text_cleaner(string):\n",
    "   \n",
    "    # Dividindo texto em tokens\n",
    "    string = word_tokenize(string)\n",
    "    #df_text_column = df_text_column.apply(word_tokenize)\n",
    "    \n",
    "    # Convertendo texto para minusculo\n",
    "    string = array_lower(string)\n",
    "    #df_text_column = df_text_column.apply(array_lower)\n",
    "\n",
    "    # Removendo pontuação\n",
    "    string = remove_punctuation(string)\n",
    "    #df_text_column = df_text_column.apply(remove_punctuation)\n",
    "    \n",
    "    # Removendo caracteres especiais\n",
    "    string = remove_specials(string)\n",
    "    #df_text_column = df_text_column.apply(remove_specials)\n",
    "\n",
    "    # Removendo tokens que não sao palavras\n",
    "    string = remove_no_words(string)\n",
    "    #df_text_column = df_text_column.apply(remove_no_words)\n",
    "\n",
    "    # Removendo tokens que são stop words\n",
    "    string = remove_stop_words(string)\n",
    "    #df_text_column = df_text_column.apply(remove_stop_words)\n",
    "    \n",
    "    return string"
   ]
  },
  {
   "cell_type": "code",
   "execution_count": 192,
   "metadata": {},
   "outputs": [],
   "source": [
    "from sklearn.pipeline import Pipeline\n",
    "from sklearn.preprocessing import FunctionTransformer\n",
    "from sklearn.decomposition import TruncatedSVD\n",
    "#from sklearn.feature_extraction.text import TfidfVectorizer\n",
    "\n",
    "#text_cleaner = FunctionTransformer(text_clean)\n",
    "\n",
    "#do_nothing = lambda x: x\n",
    "N_COMPONENTS = 1000 #Vimos com o PCA diminuindo metade das featues tinha uma variancia explicada alta\n",
    "\n",
    "wordnet_lemmatizer = WordNetLemmatizer()\n",
    "lemmazation = lambda words: [wordnet_lemmatizer.lemmatize(tk) for tk in words]\n",
    "\n",
    "\n",
    "tfidf = TfidfVectorizer(tokenizer = lemmazation,lowercase=False, preprocessor=text_cleaner, ngram_range=(1, 2),min_df=10,max_df=0.95)\n",
    "\n",
    "text_process_pipe = Pipeline([\n",
    "                             (\"tfidf\",tfidf),\n",
    "                             (\"pca\", TruncatedSVD(n_components=N_COMPONENTS))\n",
    "                             ])\n"
   ]
  },
  {
   "cell_type": "code",
   "execution_count": 193,
   "metadata": {},
   "outputs": [],
   "source": [
    "X_train = text_process_pipe.fit_transform(df_train_raw['text'])\n",
    "y_train = df_train['target']"
   ]
  },
  {
   "cell_type": "code",
   "execution_count": 194,
   "metadata": {},
   "outputs": [],
   "source": [
    "X_test = text_process_pipe.transform(df_test['text'])\n",
    "y_test = df_test_raw['target']"
   ]
  },
  {
   "cell_type": "code",
   "execution_count": 195,
   "metadata": {},
   "outputs": [
    {
     "name": "stdout",
     "output_type": "stream",
     "text": [
      "Total variance explained: 89.34%\n"
     ]
    }
   ],
   "source": [
    "print(f\"Total variance explained: {text_process_pipe['pca'].explained_variance_ratio_.sum()*100:.2f}%\")"
   ]
  },
  {
   "cell_type": "code",
   "execution_count": 196,
   "metadata": {},
   "outputs": [
    {
     "data": {
      "text/html": [
       "<div>\n",
       "<style scoped>\n",
       "    .dataframe tbody tr th:only-of-type {\n",
       "        vertical-align: middle;\n",
       "    }\n",
       "\n",
       "    .dataframe tbody tr th {\n",
       "        vertical-align: top;\n",
       "    }\n",
       "\n",
       "    .dataframe thead th {\n",
       "        text-align: right;\n",
       "    }\n",
       "</style>\n",
       "<table border=\"1\" class=\"dataframe\">\n",
       "  <thead>\n",
       "    <tr style=\"text-align: right;\">\n",
       "      <th></th>\n",
       "      <th>0</th>\n",
       "      <th>1</th>\n",
       "      <th>2</th>\n",
       "      <th>3</th>\n",
       "      <th>4</th>\n",
       "      <th>5</th>\n",
       "      <th>6</th>\n",
       "      <th>7</th>\n",
       "      <th>8</th>\n",
       "      <th>9</th>\n",
       "      <th>...</th>\n",
       "      <th>990</th>\n",
       "      <th>991</th>\n",
       "      <th>992</th>\n",
       "      <th>993</th>\n",
       "      <th>994</th>\n",
       "      <th>995</th>\n",
       "      <th>996</th>\n",
       "      <th>997</th>\n",
       "      <th>998</th>\n",
       "      <th>999</th>\n",
       "    </tr>\n",
       "  </thead>\n",
       "  <tbody>\n",
       "    <tr>\n",
       "      <th>0</th>\n",
       "      <td>0.134945</td>\n",
       "      <td>-0.012386</td>\n",
       "      <td>0.002839</td>\n",
       "      <td>-0.052351</td>\n",
       "      <td>-0.039074</td>\n",
       "      <td>-0.103056</td>\n",
       "      <td>0.017163</td>\n",
       "      <td>-0.087189</td>\n",
       "      <td>0.153572</td>\n",
       "      <td>0.028995</td>\n",
       "      <td>...</td>\n",
       "      <td>-0.001412</td>\n",
       "      <td>0.003934</td>\n",
       "      <td>0.013095</td>\n",
       "      <td>0.005963</td>\n",
       "      <td>-0.004575</td>\n",
       "      <td>-0.007870</td>\n",
       "      <td>-0.003663</td>\n",
       "      <td>-0.004565</td>\n",
       "      <td>0.009701</td>\n",
       "      <td>0.017705</td>\n",
       "    </tr>\n",
       "    <tr>\n",
       "      <th>1</th>\n",
       "      <td>0.135708</td>\n",
       "      <td>-0.004142</td>\n",
       "      <td>0.017327</td>\n",
       "      <td>-0.017604</td>\n",
       "      <td>-0.017638</td>\n",
       "      <td>-0.044038</td>\n",
       "      <td>-0.048296</td>\n",
       "      <td>0.035042</td>\n",
       "      <td>-0.063227</td>\n",
       "      <td>-0.007516</td>\n",
       "      <td>...</td>\n",
       "      <td>0.001044</td>\n",
       "      <td>-0.007432</td>\n",
       "      <td>0.014773</td>\n",
       "      <td>-0.011939</td>\n",
       "      <td>-0.000252</td>\n",
       "      <td>-0.010965</td>\n",
       "      <td>0.015790</td>\n",
       "      <td>-0.002758</td>\n",
       "      <td>-0.017101</td>\n",
       "      <td>0.023952</td>\n",
       "    </tr>\n",
       "    <tr>\n",
       "      <th>2</th>\n",
       "      <td>0.022956</td>\n",
       "      <td>0.035855</td>\n",
       "      <td>-0.001173</td>\n",
       "      <td>-0.012159</td>\n",
       "      <td>-0.004983</td>\n",
       "      <td>0.005072</td>\n",
       "      <td>0.015725</td>\n",
       "      <td>0.008690</td>\n",
       "      <td>-0.013280</td>\n",
       "      <td>-0.008573</td>\n",
       "      <td>...</td>\n",
       "      <td>-0.001683</td>\n",
       "      <td>0.008444</td>\n",
       "      <td>0.007919</td>\n",
       "      <td>0.001960</td>\n",
       "      <td>0.000314</td>\n",
       "      <td>0.003200</td>\n",
       "      <td>0.007671</td>\n",
       "      <td>0.005577</td>\n",
       "      <td>0.005820</td>\n",
       "      <td>-0.001406</td>\n",
       "    </tr>\n",
       "    <tr>\n",
       "      <th>3</th>\n",
       "      <td>0.198812</td>\n",
       "      <td>-0.033981</td>\n",
       "      <td>-0.033280</td>\n",
       "      <td>0.000788</td>\n",
       "      <td>-0.019726</td>\n",
       "      <td>0.016334</td>\n",
       "      <td>-0.011328</td>\n",
       "      <td>-0.004121</td>\n",
       "      <td>0.007457</td>\n",
       "      <td>-0.014672</td>\n",
       "      <td>...</td>\n",
       "      <td>-0.005099</td>\n",
       "      <td>0.008928</td>\n",
       "      <td>-0.003865</td>\n",
       "      <td>-0.004053</td>\n",
       "      <td>-0.002000</td>\n",
       "      <td>-0.000080</td>\n",
       "      <td>-0.004377</td>\n",
       "      <td>-0.009335</td>\n",
       "      <td>0.005878</td>\n",
       "      <td>0.002946</td>\n",
       "    </tr>\n",
       "    <tr>\n",
       "      <th>4</th>\n",
       "      <td>0.028891</td>\n",
       "      <td>0.090854</td>\n",
       "      <td>-0.010136</td>\n",
       "      <td>-0.036667</td>\n",
       "      <td>0.000451</td>\n",
       "      <td>0.010646</td>\n",
       "      <td>0.009547</td>\n",
       "      <td>0.001250</td>\n",
       "      <td>-0.031698</td>\n",
       "      <td>0.018809</td>\n",
       "      <td>...</td>\n",
       "      <td>0.004705</td>\n",
       "      <td>0.008587</td>\n",
       "      <td>-0.007700</td>\n",
       "      <td>-0.003240</td>\n",
       "      <td>-0.010932</td>\n",
       "      <td>0.006250</td>\n",
       "      <td>0.004576</td>\n",
       "      <td>-0.002783</td>\n",
       "      <td>0.000868</td>\n",
       "      <td>0.003349</td>\n",
       "    </tr>\n",
       "  </tbody>\n",
       "</table>\n",
       "<p>5 rows × 1000 columns</p>\n",
       "</div>"
      ],
      "text/plain": [
       "        0         1         2         3         4         5         6    \\\n",
       "0  0.134945 -0.012386  0.002839 -0.052351 -0.039074 -0.103056  0.017163   \n",
       "1  0.135708 -0.004142  0.017327 -0.017604 -0.017638 -0.044038 -0.048296   \n",
       "2  0.022956  0.035855 -0.001173 -0.012159 -0.004983  0.005072  0.015725   \n",
       "3  0.198812 -0.033981 -0.033280  0.000788 -0.019726  0.016334 -0.011328   \n",
       "4  0.028891  0.090854 -0.010136 -0.036667  0.000451  0.010646  0.009547   \n",
       "\n",
       "        7         8         9    ...       990       991       992       993  \\\n",
       "0 -0.087189  0.153572  0.028995  ... -0.001412  0.003934  0.013095  0.005963   \n",
       "1  0.035042 -0.063227 -0.007516  ...  0.001044 -0.007432  0.014773 -0.011939   \n",
       "2  0.008690 -0.013280 -0.008573  ... -0.001683  0.008444  0.007919  0.001960   \n",
       "3 -0.004121  0.007457 -0.014672  ... -0.005099  0.008928 -0.003865 -0.004053   \n",
       "4  0.001250 -0.031698  0.018809  ...  0.004705  0.008587 -0.007700 -0.003240   \n",
       "\n",
       "        994       995       996       997       998       999  \n",
       "0 -0.004575 -0.007870 -0.003663 -0.004565  0.009701  0.017705  \n",
       "1 -0.000252 -0.010965  0.015790 -0.002758 -0.017101  0.023952  \n",
       "2  0.000314  0.003200  0.007671  0.005577  0.005820 -0.001406  \n",
       "3 -0.002000 -0.000080 -0.004377 -0.009335  0.005878  0.002946  \n",
       "4 -0.010932  0.006250  0.004576 -0.002783  0.000868  0.003349  \n",
       "\n",
       "[5 rows x 1000 columns]"
      ]
     },
     "execution_count": 196,
     "metadata": {},
     "output_type": "execute_result"
    }
   ],
   "source": [
    "#Transforma as features em um Dataframe\n",
    "X_train_view = pd.DataFrame(data=X_train, columns=list(range(N_COMPONENTS)))\n",
    "X_train_view.head()"
   ]
  },
  {
   "cell_type": "code",
   "execution_count": 197,
   "metadata": {},
   "outputs": [
    {
     "data": {
      "text/plain": [
       "Text(0, 0.5, 'Variancia explicada')"
      ]
     },
     "execution_count": 197,
     "metadata": {},
     "output_type": "execute_result"
    },
    {
     "data": {
      "image/png": "[encoded data removed]",
      "text/plain": [
       "<Figure size 432x288 with 1 Axes>"
      ]
     },
     "metadata": {
      "needs_background": "light"
     },
     "output_type": "display_data"
    }
   ],
   "source": [
    "plt.plot(np.cumsum(text_process_pipe['pca'].explained_variance_ratio_))\n",
    "plt.xlabel('Numero de componentes')\n",
    "plt.ylabel('Variancia explicada')"
   ]
  },
  {
   "cell_type": "markdown",
   "metadata": {},
   "source": [
    "# Analise exploratoria de cada classe"
   ]
  },
  {
   "cell_type": "markdown",
   "metadata": {},
   "source": [
    "Os dados possuem 2 classes são elas:\n",
    "\n",
    "0 - Tweets sobre desastres que são fake (Não Desastre)\n",
    "\n",
    "1 - Tweets sobre desastres que são reais (Desastre)"
   ]
  },
  {
   "cell_type": "code",
   "execution_count": 198,
   "metadata": {},
   "outputs": [
    {
     "data": {
      "text/plain": [
       "[Text(0, 0, 'Não Desastre'), Text(1, 0, 'Desastre')]"
      ]
     },
     "execution_count": 198,
     "metadata": {},
     "output_type": "execute_result"
    },
    {
     "data": {
      "image/png": "[encoded data removed]",
      "text/plain": [
       "<Figure size 432x288 with 1 Axes>"
      ]
     },
     "metadata": {
      "needs_background": "light"
     },
     "output_type": "display_data"
    }
   ],
   "source": [
    "ax = sns.countplot(x='target',data = df)\n",
    "\n",
    "ax.set_title('Distribuição por classe de Todos Dados')\n",
    "ax.set_ylabel('Quantidade')\n",
    "ax.set_xlabel('Classe')\n",
    "ax.set_xticklabels([\"Não Desastre\",\"Desastre\"])"
   ]
  },
  {
   "cell_type": "markdown",
   "metadata": {},
   "source": [
    "Podemos comparar algumas caracteristicas do texto, como tamanho do texto e a quantidade de tokens geradas por cada."
   ]
  },
  {
   "cell_type": "code",
   "execution_count": 199,
   "metadata": {},
   "outputs": [
    {
     "data": {
      "text/plain": [
       "Text(0.5, 1.05, 'Distribuição da quantidade de caracteres do tweet por classe')"
      ]
     },
     "execution_count": 199,
     "metadata": {},
     "output_type": "execute_result"
    },
    {
     "data": {
      "image/png": "[encoded data removed]",
      "text/plain": [
       "<Figure size 762.375x360 with 2 Axes>"
      ]
     },
     "metadata": {
      "needs_background": "light"
     },
     "output_type": "display_data"
    }
   ],
   "source": [
    "ax = sns.displot(x=df['text'].str.len(),data = df,col='target',hue='target',kde=True)\n",
    "\n",
    "ax.fig.suptitle('Distribuição da quantidade de caracteres do tweet por classe',y=1.05)"
   ]
  },
  {
   "cell_type": "markdown",
   "metadata": {},
   "source": [
    "# Classificadores"
   ]
  },
  {
   "cell_type": "markdown",
   "metadata": {},
   "source": [
    "## Pipeline cria um pipeline para um classificador"
   ]
  },
  {
   "cell_type": "markdown",
   "metadata": {},
   "source": [
    "## Knn"
   ]
  },
  {
   "cell_type": "code",
   "execution_count": 204,
   "metadata": {},
   "outputs": [
    {
     "data": {
      "text/plain": [
       "GridSearchCV(estimator=KNeighborsClassifier(), n_jobs=-1,\n",
       "             param_grid={'n_neighbors': [3, 5, 7, 11, 13]})"
      ]
     },
     "execution_count": 204,
     "metadata": {},
     "output_type": "execute_result"
    }
   ],
   "source": [
    "from sklearn.neighbors import KNeighborsClassifier\n",
    "from sklearn.model_selection import GridSearchCV\n",
    "\n",
    "params = {'n_neighbors': [3,5,7,11,13]}\n",
    "\n",
    "clf = GridSearchCV(KNeighborsClassifier(), params, n_jobs = -1)\n",
    "clf.fit(X_train, y_train)"
   ]
  },
  {
   "cell_type": "code",
   "execution_count": 205,
   "metadata": {},
   "outputs": [
    {
     "data": {
      "text/plain": [
       "{'n_neighbors': 3}"
      ]
     },
     "execution_count": 205,
     "metadata": {},
     "output_type": "execute_result"
    }
   ],
   "source": [
    "clf.best_params_"
   ]
  },
  {
   "cell_type": "markdown",
   "metadata": {
    "pycharm": {
     "name": "#%% md\n"
    }
   },
   "source": [
    "## Test"
   ]
  },
  {
   "cell_type": "code",
   "execution_count": 206,
   "metadata": {
    "pycharm": {
     "name": "#%% raw\n"
    }
   },
   "outputs": [
    {
     "data": {
      "text/plain": [
       "array([0, 0, 0, ..., 0, 0, 0], dtype=int64)"
      ]
     },
     "execution_count": 206,
     "metadata": {},
     "output_type": "execute_result"
    }
   ],
   "source": [
    "y_predicted = clf.predict(X_test)\n",
    "y_predicted"
   ]
  },
  {
   "cell_type": "code",
   "execution_count": 207,
   "metadata": {
    "pycharm": {
     "name": "#%% raw\n"
    }
   },
   "outputs": [
    {
     "name": "stdout",
     "output_type": "stream",
     "text": [
      "              precision    recall  f1-score   support\n",
      "\n",
      "           0       0.70      0.85      0.77      1510\n",
      "           1       0.33      0.16      0.22       666\n",
      "\n",
      "    accuracy                           0.64      2176\n",
      "   macro avg       0.51      0.51      0.49      2176\n",
      "weighted avg       0.58      0.64      0.60      2176\n",
      "\n"
     ]
    }
   ],
   "source": [
    "from sklearn.metrics import classification_report\n",
    "print(classification_report(y_test, y_predicted))"
   ]
  },
  {
   "cell_type": "code",
   "execution_count": null,
   "metadata": {},
   "outputs": [],
   "source": []
  }
 ],
 "metadata": {
  "kernelspec": {
   "display_name": "Python 3",
   "language": "python",
   "name": "python3"
  },
  "language_info": {
   "codemirror_mode": {
    "name": "ipython",
    "version": 3
   },
   "file_extension": ".py",
   "mimetype": "text/x-python",
   "name": "python",
   "nbconvert_exporter": "python",
   "pygments_lexer": "ipython3",
   "version": "3.8.5"
  }
 },
 "nbformat": 4,
 "nbformat_minor": 1
}
