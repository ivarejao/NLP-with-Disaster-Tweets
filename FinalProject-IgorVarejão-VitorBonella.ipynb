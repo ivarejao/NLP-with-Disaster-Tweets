{
 "cells": [
  {
   "cell_type": "markdown",
   "source": [
    "# Instala dependências"
   ],
   "metadata": {
    "collapsed": false,
    "pycharm": {
     "name": "#%% md\n"
    }
   }
  },
  {
   "cell_type": "code",
   "execution_count": 79,
   "outputs": [
    {
     "name": "stdout",
     "output_type": "stream",
     "text": [
      "Requirement already satisfied: graphviz in c:\\users\\vitor\\appdata\\local\\programs\\python\\python38\\lib\\site-packages (0.14.1)\n",
      "Note: you may need to restart the kernel to use updated packages.\n"
     ]
    },
    {
     "name": "stderr",
     "output_type": "stream",
     "text": [
      "WARNING: Ignoring invalid distribution -illow (c:\\users\\vitor\\appdata\\local\\programs\\python\\python38\\lib\\site-packages)\n",
      "WARNING: Ignoring invalid distribution -illow (c:\\users\\vitor\\appdata\\local\\programs\\python\\python38\\lib\\site-packages)\n",
      "WARNING: Ignoring invalid distribution -illow (c:\\users\\vitor\\appdata\\local\\programs\\python\\python38\\lib\\site-packages)\n",
      "WARNING: Ignoring invalid distribution -illow (c:\\users\\vitor\\appdata\\local\\programs\\python\\python38\\lib\\site-packages)\n",
      "WARNING: Ignoring invalid distribution -illow (c:\\users\\vitor\\appdata\\local\\programs\\python\\python38\\lib\\site-packages)\n",
      "WARNING: Ignoring invalid distribution -illow (c:\\users\\vitor\\appdata\\local\\programs\\python\\python38\\lib\\site-packages)\n",
      "WARNING: You are using pip version 22.0.3; however, version 22.0.4 is available.\n",
      "You should consider upgrading via the 'c:\\users\\vitor\\appdata\\local\\programs\\python\\python38\\python.exe -m pip install --upgrade pip' command.\n"
     ]
    },
    {
     "name": "stdout",
     "output_type": "stream",
     "text": [
      "Requirement already satisfied: pydotplus in c:\\users\\vitor\\appdata\\local\\programs\\python\\python38\\lib\\site-packages (2.0.2)\n",
      "Requirement already satisfied: pyparsing>=2.0.1 in c:\\users\\vitor\\appdata\\local\\programs\\python\\python38\\lib\\site-packages (from pydotplus) (2.4.7)\n",
      "Note: you may need to restart the kernel to use updated packages.\n"
     ]
    },
    {
     "name": "stderr",
     "output_type": "stream",
     "text": [
      "WARNING: Ignoring invalid distribution -illow (c:\\users\\vitor\\appdata\\local\\programs\\python\\python38\\lib\\site-packages)\n",
      "WARNING: Ignoring invalid distribution -illow (c:\\users\\vitor\\appdata\\local\\programs\\python\\python38\\lib\\site-packages)\n",
      "WARNING: Ignoring invalid distribution -illow (c:\\users\\vitor\\appdata\\local\\programs\\python\\python38\\lib\\site-packages)\n",
      "WARNING: Ignoring invalid distribution -illow (c:\\users\\vitor\\appdata\\local\\programs\\python\\python38\\lib\\site-packages)\n",
      "WARNING: Ignoring invalid distribution -illow (c:\\users\\vitor\\appdata\\local\\programs\\python\\python38\\lib\\site-packages)\n",
      "WARNING: Ignoring invalid distribution -illow (c:\\users\\vitor\\appdata\\local\\programs\\python\\python38\\lib\\site-packages)\n",
      "WARNING: You are using pip version 22.0.3; however, version 22.0.4 is available.\n",
      "You should consider upgrading via the 'c:\\users\\vitor\\appdata\\local\\programs\\python\\python38\\python.exe -m pip install --upgrade pip' command.\n"
     ]
    }
   ],
   "source": [
    "%pip install graphviz\n",
    "%pip install pydotplus"
   ],
   "metadata": {
    "collapsed": false,
    "pycharm": {
     "name": "#%%\n"
    }
   }
  },
  {
   "cell_type": "code",
   "execution_count": 80,
   "outputs": [],
   "source": [
    "#basics\n",
    "import pandas as pd\n",
    "import numpy as np\n",
    "import seaborn as sns\n",
    "import matplotlib.pyplot as plt\n",
    "\n",
    "#text process\n",
    "import nltk\n",
    "import unidecode\n",
    "import string\n",
    "from nltk import word_tokenize\n",
    "from nltk.corpus import stopwords\n",
    "from nltk.stem.porter import PorterStemmer\n",
    "from nltk.stem import WordNetLemmatizer\n",
    "\n",
    "# Classification\n",
    "from sklearn.model_selection import GridSearchCV\n",
    "from sklearn.metrics import classification_report\n",
    "from sklearn.metrics import ConfusionMatrixDisplay\n",
    "from sklearn.neighbors import KNeighborsClassifier\n",
    "from sklearn.tree import DecisionTreeClassifier\n",
    "\n",
    "# Decision tree\n",
    "import graphviz\n",
    "import pydotplus\n",
    "from sklearn.tree import DecisionTreeClassifier,export_graphviz"
   ],
   "metadata": {
    "collapsed": false,
    "pycharm": {
     "name": "#%%\n"
    }
   }
  },
  {
   "cell_type": "markdown",
   "metadata": {
    "pycharm": {
     "name": "#%% md\n"
    }
   },
   "source": [
    "# Processamento dos dados\n",
    "\n",
    "Como existem dados textuais podemos usar as funções já utilizadas no trabalho anterior\n",
    "\n",
    "\n"
   ]
  },
  {
   "cell_type": "code",
   "execution_count": 81,
   "metadata": {},
   "outputs": [
    {
     "data": {
      "text/plain": "   id keyword location                                               text  \\\n0   0     NaN      NaN                 Just happened a terrible car crash   \n1   1     NaN      NaN  Our Deeds are the Reason of this #earthquake M...   \n2   2     NaN      NaN  Heard about #earthquake is different cities, s...   \n3   3     NaN      NaN  there is a forest fire at spot pond, geese are...   \n4   4     NaN      NaN             Forest fire near La Ronge Sask. Canada   \n\n   target  \n0       0  \n1       1  \n2       0  \n3       0  \n4       1  ",
      "text/html": "<div>\n<style scoped>\n    .dataframe tbody tr th:only-of-type {\n        vertical-align: middle;\n    }\n\n    .dataframe tbody tr th {\n        vertical-align: top;\n    }\n\n    .dataframe thead th {\n        text-align: right;\n    }\n</style>\n<table border=\"1\" class=\"dataframe\">\n  <thead>\n    <tr style=\"text-align: right;\">\n      <th></th>\n      <th>id</th>\n      <th>keyword</th>\n      <th>location</th>\n      <th>text</th>\n      <th>target</th>\n    </tr>\n  </thead>\n  <tbody>\n    <tr>\n      <th>0</th>\n      <td>0</td>\n      <td>NaN</td>\n      <td>NaN</td>\n      <td>Just happened a terrible car crash</td>\n      <td>0</td>\n    </tr>\n    <tr>\n      <th>1</th>\n      <td>1</td>\n      <td>NaN</td>\n      <td>NaN</td>\n      <td>Our Deeds are the Reason of this #earthquake M...</td>\n      <td>1</td>\n    </tr>\n    <tr>\n      <th>2</th>\n      <td>2</td>\n      <td>NaN</td>\n      <td>NaN</td>\n      <td>Heard about #earthquake is different cities, s...</td>\n      <td>0</td>\n    </tr>\n    <tr>\n      <th>3</th>\n      <td>3</td>\n      <td>NaN</td>\n      <td>NaN</td>\n      <td>there is a forest fire at spot pond, geese are...</td>\n      <td>0</td>\n    </tr>\n    <tr>\n      <th>4</th>\n      <td>4</td>\n      <td>NaN</td>\n      <td>NaN</td>\n      <td>Forest fire near La Ronge Sask. Canada</td>\n      <td>1</td>\n    </tr>\n  </tbody>\n</table>\n</div>"
     },
     "execution_count": 81,
     "metadata": {},
     "output_type": "execute_result"
    }
   ],
   "source": [
    "with open('./data/dataset.csv', encoding=\"utf8\") as file:\n",
    "    df = pd.read_csv(file)\n",
    "    \n",
    "df.head()"
   ]
  },
  {
   "cell_type": "code",
   "execution_count": 82,
   "outputs": [],
   "source": [
    "df.text = [c.lower() for c in df.text]"
   ],
   "metadata": {
    "collapsed": false,
    "pycharm": {
     "name": "#%%\n"
    }
   }
  },
  {
   "cell_type": "markdown",
   "metadata": {},
   "source": [
    "## Separação treino e teste"
   ]
  },
  {
   "cell_type": "markdown",
   "source": [
    "Ocorre a separação do dataset em treino em teste na proporção 80% pra 20%, respectivamente, além disso, a criação dos mesmo é feito de forma aleatória para não criarmos dataset enviesados, além de estar estratificado com o dataset."
   ],
   "metadata": {
    "collapsed": false,
    "pycharm": {
     "name": "#%% md\n"
    }
   }
  },
  {
   "cell_type": "code",
   "execution_count": 83,
   "metadata": {},
   "outputs": [],
   "source": [
    "from sklearn.model_selection import train_test_split\n",
    "\n",
    "df_train_raw, df_test_raw = train_test_split(df, test_size=0.2, shuffle=True, random_state=42, stratify=df['target'])\n",
    "\n",
    "df_train_raw = df_train_raw.sort_values(by=['id']).reset_index(drop=True)\n",
    "df_test_raw = df_test_raw.sort_values(by=['id']).reset_index(drop=True)\n",
    "\n",
    "df_train_raw = df_train_raw"
   ]
  },
  {
   "cell_type": "markdown",
   "source": [
    "# Trainset"
   ],
   "metadata": {
    "collapsed": false,
    "pycharm": {
     "name": "#%% md\n"
    }
   }
  },
  {
   "cell_type": "code",
   "execution_count": 84,
   "metadata": {},
   "outputs": [
    {
     "name": "stdout",
     "output_type": "stream",
     "text": [
      "(8700, 5)\n"
     ]
    },
    {
     "data": {
      "text/plain": "   id keyword location                                               text  \\\n0   0     NaN      NaN                 just happened a terrible car crash   \n1   1     NaN      NaN  our deeds are the reason of this #earthquake m...   \n2   2     NaN      NaN  heard about #earthquake is different cities, s...   \n3   3     NaN      NaN  there is a forest fire at spot pond, geese are...   \n4   4     NaN      NaN             forest fire near la ronge sask. canada   \n\n   target  \n0       0  \n1       1  \n2       0  \n3       0  \n4       1  ",
      "text/html": "<div>\n<style scoped>\n    .dataframe tbody tr th:only-of-type {\n        vertical-align: middle;\n    }\n\n    .dataframe tbody tr th {\n        vertical-align: top;\n    }\n\n    .dataframe thead th {\n        text-align: right;\n    }\n</style>\n<table border=\"1\" class=\"dataframe\">\n  <thead>\n    <tr style=\"text-align: right;\">\n      <th></th>\n      <th>id</th>\n      <th>keyword</th>\n      <th>location</th>\n      <th>text</th>\n      <th>target</th>\n    </tr>\n  </thead>\n  <tbody>\n    <tr>\n      <th>0</th>\n      <td>0</td>\n      <td>NaN</td>\n      <td>NaN</td>\n      <td>just happened a terrible car crash</td>\n      <td>0</td>\n    </tr>\n    <tr>\n      <th>1</th>\n      <td>1</td>\n      <td>NaN</td>\n      <td>NaN</td>\n      <td>our deeds are the reason of this #earthquake m...</td>\n      <td>1</td>\n    </tr>\n    <tr>\n      <th>2</th>\n      <td>2</td>\n      <td>NaN</td>\n      <td>NaN</td>\n      <td>heard about #earthquake is different cities, s...</td>\n      <td>0</td>\n    </tr>\n    <tr>\n      <th>3</th>\n      <td>3</td>\n      <td>NaN</td>\n      <td>NaN</td>\n      <td>there is a forest fire at spot pond, geese are...</td>\n      <td>0</td>\n    </tr>\n    <tr>\n      <th>4</th>\n      <td>4</td>\n      <td>NaN</td>\n      <td>NaN</td>\n      <td>forest fire near la ronge sask. canada</td>\n      <td>1</td>\n    </tr>\n  </tbody>\n</table>\n</div>"
     },
     "execution_count": 84,
     "metadata": {},
     "output_type": "execute_result"
    }
   ],
   "source": [
    "print(df_train_raw.shape)\n",
    "df_train_raw.head()"
   ]
  },
  {
   "cell_type": "code",
   "execution_count": 85,
   "outputs": [
    {
     "data": {
      "text/plain": "[Text(0, 0, 'Non Desaster'), Text(1, 0, 'Desaster')]"
     },
     "execution_count": 85,
     "metadata": {},
     "output_type": "execute_result"
    },
    {
     "data": {
      "text/plain": "<Figure size 432x288 with 1 Axes>",
      "image/png": "[encoded data removed]"
     },
     "metadata": {
      "needs_background": "light"
     },
     "output_type": "display_data"
    }
   ],
   "source": [
    "ax = sns.barplot(x='target', y='target',data = df_train_raw, estimator=lambda  x: len(x)/len(df_train_raw)*100)\n",
    "\n",
    "ax.set_title('Trainset Distribution')\n",
    "ax.set_ylabel('Percentage (%)')\n",
    "ax.set_xlabel('Class')\n",
    "ax.set_xticklabels([\"Non Desaster\",\"Desaster\"])"
   ],
   "metadata": {
    "collapsed": false,
    "pycharm": {
     "name": "#%%\n"
    }
   }
  },
  {
   "cell_type": "markdown",
   "source": [
    "# Testset"
   ],
   "metadata": {
    "collapsed": false,
    "pycharm": {
     "name": "#%% md\n"
    }
   }
  },
  {
   "cell_type": "code",
   "execution_count": 86,
   "metadata": {},
   "outputs": [
    {
     "name": "stdout",
     "output_type": "stream",
     "text": [
      "(2176, 5)\n"
     ]
    },
    {
     "data": {
      "text/plain": "   id keyword location                                           text  target\n0   9     NaN      NaN       apocalypse lighting. #spokane #wildfires       0\n1  11     NaN      NaN  typhoon soudelor kills 28 in china and taiwan       0\n2  12     NaN      NaN             we're shaking...it's an earthquake       0\n3  24     NaN      NaN                                  i love fruits       0\n4  31     NaN      NaN                         this is ridiculous....       0",
      "text/html": "<div>\n<style scoped>\n    .dataframe tbody tr th:only-of-type {\n        vertical-align: middle;\n    }\n\n    .dataframe tbody tr th {\n        vertical-align: top;\n    }\n\n    .dataframe thead th {\n        text-align: right;\n    }\n</style>\n<table border=\"1\" class=\"dataframe\">\n  <thead>\n    <tr style=\"text-align: right;\">\n      <th></th>\n      <th>id</th>\n      <th>keyword</th>\n      <th>location</th>\n      <th>text</th>\n      <th>target</th>\n    </tr>\n  </thead>\n  <tbody>\n    <tr>\n      <th>0</th>\n      <td>9</td>\n      <td>NaN</td>\n      <td>NaN</td>\n      <td>apocalypse lighting. #spokane #wildfires</td>\n      <td>0</td>\n    </tr>\n    <tr>\n      <th>1</th>\n      <td>11</td>\n      <td>NaN</td>\n      <td>NaN</td>\n      <td>typhoon soudelor kills 28 in china and taiwan</td>\n      <td>0</td>\n    </tr>\n    <tr>\n      <th>2</th>\n      <td>12</td>\n      <td>NaN</td>\n      <td>NaN</td>\n      <td>we're shaking...it's an earthquake</td>\n      <td>0</td>\n    </tr>\n    <tr>\n      <th>3</th>\n      <td>24</td>\n      <td>NaN</td>\n      <td>NaN</td>\n      <td>i love fruits</td>\n      <td>0</td>\n    </tr>\n    <tr>\n      <th>4</th>\n      <td>31</td>\n      <td>NaN</td>\n      <td>NaN</td>\n      <td>this is ridiculous....</td>\n      <td>0</td>\n    </tr>\n  </tbody>\n</table>\n</div>"
     },
     "execution_count": 86,
     "metadata": {},
     "output_type": "execute_result"
    }
   ],
   "source": [
    "print(df_test_raw.shape)\n",
    "df_test_raw.head()"
   ]
  },
  {
   "cell_type": "code",
   "execution_count": 87,
   "outputs": [
    {
     "data": {
      "text/plain": "[Text(0, 0, 'Non Desaster'), Text(1, 0, 'Desaster')]"
     },
     "execution_count": 87,
     "metadata": {},
     "output_type": "execute_result"
    },
    {
     "data": {
      "text/plain": "<Figure size 432x288 with 1 Axes>",
      "image/png": "[encoded data removed]"
     },
     "metadata": {
      "needs_background": "light"
     },
     "output_type": "display_data"
    }
   ],
   "source": [
    "ax = sns.barplot(x='target', y='target',data = df_test_raw, estimator=lambda  x: len(x)/len(df_test_raw)*100)\n",
    "\n",
    "ax.set_title('Testset Distribution')\n",
    "ax.set_ylabel('Percentage (%)')\n",
    "ax.set_xlabel('Class')\n",
    "ax.set_xticklabels([\"Non Desaster\",\"Desaster\"])"
   ],
   "metadata": {
    "collapsed": false,
    "pycharm": {
     "name": "#%%\n"
    }
   }
  },
  {
   "cell_type": "markdown",
   "source": [
    "## O impacto dos Hashtags nos tweets"
   ],
   "metadata": {
    "collapsed": false,
    "pycharm": {
     "name": "#%% md\n"
    }
   }
  },
  {
   "cell_type": "code",
   "execution_count": 88,
   "outputs": [],
   "source": [
    "def findHashtags(text: str):\n",
    "    return [tag.strip(\"#\") for tag in text.split() if tag.startswith(\"#\")]\n",
    "\n",
    "df_train_raw['hashtags'] = df_train_raw.text.copy()\n",
    "df_train_raw['hashtags'] = df_train_raw['hashtags'].apply(findHashtags)\n",
    "\n",
    "df_test_raw['hashtags'] = df_test_raw.text.copy()\n",
    "df_test_raw['hashtags'] = df_test_raw['hashtags'].apply(findHashtags)"
   ],
   "metadata": {
    "collapsed": false,
    "pycharm": {
     "name": "#%%\n"
    }
   }
  },
  {
   "cell_type": "markdown",
   "source": [
    "## Estudo da distribuição dos hashtags"
   ],
   "metadata": {
    "collapsed": false,
    "pycharm": {
     "name": "#%% md\n"
    }
   }
  },
  {
   "cell_type": "code",
   "execution_count": 89,
   "outputs": [],
   "source": [
    "hashtags_train = set()\n",
    "for i in df_train_raw.hashtags:\n",
    "    for j in i:\n",
    "        hashtags_train.add(j)\n",
    "hashtags_test=set()\n",
    "for i in df_train_raw.hashtags:\n",
    "    for j in i:\n",
    "        hashtags_test.add(j)"
   ],
   "metadata": {
    "collapsed": false,
    "pycharm": {
     "name": "#%%\n"
    }
   }
  },
  {
   "cell_type": "markdown",
   "source": [
    "### Find ocorrences of trainset"
   ],
   "metadata": {
    "collapsed": false,
    "pycharm": {
     "name": "#%% md\n"
    }
   }
  },
  {
   "cell_type": "code",
   "execution_count": 90,
   "outputs": [
    {
     "name": "stdout",
     "output_type": "stream",
     "text": [
      "{'news': 42, '???': 18, 'hiroshima': 18, '??': 16, 'earthquake': 16, 'best': 10, 'prebreak': 10, 'hot': 10, 'japan': 10, 'india': 9, 'sismo': 8, 'world': 8, 'terrorism': 7, 'islam': 7, 'abstorm': 7, 'worldnews': 7, 'fukushima': 6, 'wx': 6, 'yyc': 6, 'rohingya': 6, 'wildfire': 6, 'isis': 5, 'bestnaijamade:': 5, 'nuclear': 5, 'africa': 5, 'okwx': 5, 'sittwe': 5, 'myanmar': 5, 'cnn': 5, 'breaking': 5, 'wildfires': 5, 'photography': 4, 'japì_n': 4, 'somalia': 4, 'sandiego': 4, 'bbc': 4, 'libya': 4, 'hostages': 4, 'hailstorm': 4, 'phoenix': 4, 'wmata': 4, 'mh370': 4, '\\x89û_': 4, 'science': 3, 'idfire': 3, 'thunderstorm': 3, 'usnwsgov': 3, 'lies': 3, 'quran': 3, 'god': 3, 'truth': 3, 'gabon': 3, 'nytimes': 3, 'antioch': 3, 'guillermo': 3, 'hurricane': 3, 'bjp': 3, 'tdp': 3, 'trs': 3, 'nri': 3, 'ts': 3, 'ap': 3, 'iran': 3, 'boston': 3, 'arwx': 3, 'pakistan': 3, 'socialnews': 3, 'casper': 3, 'atlanta': 3, 'miami': 3, 'koin6news': 3, 'solar': 3, 'emergency': 3, 'drought': 3, 'genocide;': 3, 'strategicpatience': 3, 'genocide': 3, 'prison': 3, 'modiministry': 3, 'terrorist': 3, 'zionist': 3, '????': 3, 'preparedness': 3, 'usa': 3, 'irandeal': 3, 'nyc': 3, 'tcot': 3, 'palestine': 3, 'mumbai': 3, 'reuters': 3, 'votejkt48id': 3, 'kca': 3, 'accident': 3, 'breaking:': 3, 'manchester': 3, 'traffic': 3, 'california': 3, 'flooding': 3, 'disaster': 3, 'rockyfire': 3, 'kashmir': 2, 'ems': 2, 'volcano': 2, 'stormchase': 2, 'ok.': 2, 'nc': 2, 'ar': 2, 'thunder': 2, 'palestinians': 2, 'bookboost': 2, 'ibooklove': 2, 'aoms': 2, '???????': 2, '360wisenews': 2, 'reddit': 2, 'breakingnews': 2, 'guardian': 2, 'refugees': 2, 'mudslide': 2, 'gbbo': 2, 'abc': 2, 'obama': 2, 'pics': 2, 'landslide': 2, 'meteoearth?': 2, 'yazidis': 2, 'hellfire': 2, 'allah': 2, 'humanconsumption': 2, 'ban': 2, 'magginoodle': 2, 'nestleindia': 2, 'offers2go': 2, 'foodscare': 2, 'taiwan': 2, '1': 2, 'jamaicaplain': 2, 'calgary': 2, 'alberta': 2, 'yycstorm': 2, 'kotaweather': 2, 'indonesia': 2, 'routecomplex': 2, 'newyork': 2, 'nagasaki': 2, 'philippines': 2, 'hiroshima70': 2, 'saudi': 2, '9': 2, 'climatechange': 2, 'life': 2, 'war': 2, 'liveonk2': 2, 'prophetmuhammad': 2, 'nursing': 2, 'china': 2, 'pakistan#news': 2, 'quake': 2, 'usgs': 2, 'iphone': 2, 'nv': 2, 'mì¼sica': 2, 'topstories': 2, 'indiannews': 2, 'metro': 2, 'washingtonpost': 2, 'buffalo': 2, 'floods': 2, 'malaysia': 2, 'video': 2, 'mh370.': 2, 'follow': 2, 'cawx': 2, 'weather': 2, 'uk': 2, 'course': 2, 'ptbo.': 2, 'newswatch:': 2, 'business': 2, '6': 2, 'iraq': 2, 'tweetlikeitsseptember11th2001': 2, 'generalnews': 2, 'australia': 2, 'palestinian': 2, 'bioterrorism': 2, 'avalanche': 2, 'udhampur': 2, 'countynews': 2, 'kisii': 2, 'newsintweets': 2, 'russia': 2, 'til_now': 2, 'yugvani': 2, 'airplane': 2, 'crash': 2, 'mlb': 2, 'rip': 2, 'flood': 2, 'cafire': 2, 'la': 1, 'bathandnortheastsomerset': 1, 'nws': 1, 'tnwx': 1, 'malaysiaairlines': 1, 'najibrazak': 1, 'emmerdale': 1, 'shoalstraffic': 1, 'kashmirconflict': 1, 'freekashmir': 1, 'endconflict': 1, 'endoccupation': 1, 'jonathanferrell': 1, 'kerricktrial': 1, 'client': 1, 'an247': 1, 'besafe': 1, 'windstorm': 1, 'yyc!': 1, 'fire': 1, 'insurance': 1, 'paramedic': 1, 'calwildfires': 1, 'lancaster': 1, 'utfire': 1, 'wa': 1, 'firenews': 1, 'arts': 1, 'azwx': 1, 'fingerrockfire': 1, 'profittothepeople': 1, 'snooker': 1, 'drained': 1, 'whirlwind': 1, 'tubestrike': 1, 'cheyenne': 1, 'seattle': 1, 'rapidcity': 1, 'billings': 1, 'denver': 1, 'battlefield': 1, 'uswarcrimes': 1, 'syria.': 1, 'help!': 1, 'professional': 1, 'debatequestionswewanttohear': 1, 'csismica': 1, 'perspective': 1, 'aogashima': 1, 'bantrophyhunting': 1, 'badchoices': 1, 'cecilthelion': 1, 'amsterdam': 1, 'travel': 1, \"ferguson's\": 1, 'abcnews': 1, 'international': 1, 'acenewsdesk': 1, 'breaking144': 1, 'toronto': 1, 'blockchain': 1, 'bitcoing': 1, 'tech': 1, 'banking': 1, 'thanku': 1, 'nopower': 1, 'prez.': 1, 'trauma.': 1, 'childhood': 1, 'ptsdchat': 1, 'nissannews': 1, 'jamaica': 1, 'pod': 1, 'helsinki\\x89û_': 1, 'nature': 1, 'lightningstrike': 1, 'lightning': 1, 'skywarn': 1, 'gawx': 1, 'nlwx': 1, 'gander.': 1, 'udhampuragain': 1, 'achedin': 1, 'elections': 1, 'politics': 1, 'nuke': 1, 'coppednews': 1, 'nuclearweapons': 1, 'tbt': 1, 'otd': 1, 'nagasaki.': 1, 'healthinsurance': 1, 'autoinsurance': 1, 'books': 1, 'kuwait': 1, 'premonitions': 1, 'mercados': 1, 'deai': 1, 'tripoli': 1, 'grupdates': 1, 'stopevictions': 1, 'shoe': 1, 'shape': 1, 'adjust': 1, 'foot': 1, 'nasa': 1, 'ncwx': 1, 'twcnews': 1, 'storm:': 1, 'property': 1, 'snowstorm': 1, 'lakeeffect': 1, 'growingupincolorado\\x89û\\x9d': 1, 'treeporn': 1, 'tree': 1, 'art': 1, 'hampshire': 1, 'southdowns': 1, 'winter': 1, 'photo': 1, '20150613': 1, 'millcityio': 1, 'horror': 1, 'tribe': 1, 'yonews': 1, 'cadenadeseguidores': 1, 'lomasvisto': 1, 'algeria': 1, 'occasion2b': 1, 'rt': 1, 'image': 1, 'ifunny': 1, 'comedy': 1, 'lol': 1, 'funny': 1, 'gif': 1, 'oilandgas': 1, 'nochilllukehammings': 1, 'fierce': 1, 'tnn:': 1, 'forbesasia': 1, 'europe': 1, 'forbes': 1, 'uknews': 1, 'bhramabull': 1, 'undergroundrailraod': 1, 'yahistorical': 1, 'rioting': 1, 'baltimore': 1, 'rio2016': 1, 'news:': 1, 'roddypiperautos': 1, 'c4news': 1, 'presser': 1, 'dutton': 1, 'retweet': 1, 'zippednews': 1, 'northerncalifornia': 1, 'gn': 1, 'fb100%': 1, 'tafs': 1, 'deadgrassandflowers': 1, 'vancouver!!': 1, \"landslide'\": 1, 'alps': 1, 'italian': 1, 'rainstorm': 1, 'killed': 1, 'people': 1, 'triciaoneillphoto': 1, 'triciaoneill': 1, 'seagulls': 1, 'capeann': 1, 'gloucester': 1, 'sejorg': 1, 'policy': 1, 'content': 1, 'freespeech': 1, 'amageddon': 1, 'onlinecommunities': 1, 'smartnews': 1, 'breaking411': 1, 'check': 1, 'losangeles': 1, 'sebee': 1, 'muhamadjabal': 1, '????_?????': 1, 'kamloops': 1, 'latimes': 1, 'losangelestimes': 1, 'ksbynews': 1, 'trafficnetwork': 1, 'sydtraffic': 1, 'demonization': 1, 'ww3': 1, 'globalwarming!!': 1, 'michelebachman': 1, 'sizewell': 1, 'japanese': 1, 'navy': 1, 'annonymous': 1, 'failure.': 1, 'global': 1, 'disaster.': 1, 'wps': 1, 'afp': 1, 'irannucleardeal': 1, 'us': 1, 'japanjapan': 1, 'natural': 1, 'chernobyl': 1, 'gbbo2015': 1, 'mudslide...': 1, 'icelandreview': 1, 'greatbritishbakeoff': 1, 'wpo': 1, 'wsj': 1, 'cbs': 1, 'gop': 1, 'bush': 1, 'clinton': 1, '615!': 1, 'movietheatre': 1, \"gfz's:\": 1, 'gunsense': 1, 'faroeislands': 1, 'atombomb': 1, 'faroe': 1, 'pantherattack': 1, '365disasters': 1, 'flashflood': 1, 'g\\x89û_': 1, 'emsc': 1, 'france': 1, 'sinkhole': 1, 'bangladeshflood': 1, 'bangladeshaffected': 1, 'wcvb': 1, 'ns': 1, 'nj36': 1, 'renew911health': 1, '8392': 1, 'suryaray': 1, 'simple': 1, 'kick': 1, 'snowden': 1, 'is': 1, 'yazidi': 1, 'sinjar:': 1, 'security': 1, 'tedcruz2016': 1, 'noirandeal': 1, 'sinjar': 1, 'aviationaddicts': 1, 'freeallfour': 1, 'freeamirnow': 1, 'sacramento': 1, 'latestnews:': 1, 'humanrights': 1, 'islam!': 1, 'wod': 1, 'reflect': 1, 'forever': 1, 'wealth': 1, 'afterlife': 1, 'ms': 1, 'jackson': 1, 'pizzarev': 1, 'revitup': 1, 'squad': 1, 'lawx': 1, 'special': 1, 'psd': 1, 'pdx911': 1, 'pp15000266858]': 1, 'gms': 1, 'dam': 1, 'ebola': 1, 'hailstorm...': 1, 'iamdowntown': 1, 'hailstorm\\x89û_': 1, 'sto\\x89û_': 1, 'captureyyc': 1, 'yycweather': 1, 'haildamage': 1, 'hail': 1, 'notgoingoutinthat': 1, 'round2': 1, 'killhard': 1, 'yycfringe': 1, 'rain': 1, 'mothernature': 1, 'youtube': 1, 'wrestleon': 1, 'goblue': 1, 'straightfire': 1, 'heartdisease': 1, 'vanpoli': 1, 'canpoli': 1, 'bcpoli': 1, 'forest': 1, 'palmoil': 1, 'naturaldisasters': 1, 'dua': 1, 'paraguay': 1, 'floods:': 1, 'quote': 1, 'farrakhan': 1, 'writingtips': 1, 'ocnj...': 1, 'vietnam': 1, 'valleywx': 1, 'ukfloods': 1, 'laos': 1, 'hunwx': 1, 'wxky': 1, 'funds': 1, 'grants': 1, 'alwx': 1, 'sigalert:': 1, 'prayforsaipan': 1, 'reno': 1, 'lovefood': 1, 'abha:': 1, \"seattle's\": 1, 'courts': 1, 'justice': 1, 'crimes': 1, 'nra': 1, 'gunfail': 1, 'hopeinchrist': 1, 'bluebell': 1, 'liveonkbak': 1, 'anarchy': 1, 'atomicbomb': 1, '16': 1, '17)': 1, 'imkeepingmydayjob': 1, 'medinah': 1, 'nb': 1, 'yzf': 1, 'nwt': 1, 'reidlake': 1, 'calfires': 1, 'roosevelt': 1, 'sr14': 1, 'manchesterlite': 1, 'walmart': 1, 'murfreesboro': 1, 'abandoned': 1, 'evacuation': 1, 'yemen': 1, 'evacuate': 1, 'tennews': 1, 'or': 1, 'co': 1, 'ut': 1, 'ca': 1, 'mets': 1, 'trafficalert': 1, 'houston': 1, 'hiring!': 1, 'olympia': 1, 'cochrane.': 1, 'homeless': 1, 'biztip': 1, 'protectdenaliwolves': 1, 'sirens\\x89û_': 1, 'summertime': 1, '911': 1, 'rescue': 1, 'firetruck': 1, 'firemen': 1, 'standforwolves': 1, 'extinction.': 1, 'archipelagowolves': 1, 'worstsummerjob': 1, 'marinelines': 1, 'lessonforlife': 1, 'mumbailocals': 1, 'saveti...': 1, 'tigers': 1, 'rowysolouisville': 1, 'columbus': 1, 'megaquake': 1, 'difficultpeople': 1, 'sm': 1, 'scseestapreparando': 1, 'anchorage': 1, 'cs': 1, '3novices': 1, 'earthquakenews': 1, 'idwx': 1, 'duststorm': 1, 'coke': 1, 'alameda': 1, 'ufo4ublogeurope': 1, 'droughtmonitor:': 1, 'iot': 1, 'cloud': 1, 'westerncanadadrought': 1, 'makewaterwork': 1, \"nevada's\": 1, 'syria': 1, 'refugeesmatter': 1, 'displaced': 1, 'msgdoing111welfareworks': 1, 'foxnews': 1, 'nitclub': 1, 'mexico': 1, 'metepec': 1, 'blowltan': 1, 'recipes': 1, 'theneeds': 1, 'mediterranean': 1, 'jakartapost': 1, 'newyear': 1, 'health': 1, 'yyj': 1, 'cndpoli': 1, 'idlenomore': 1, 'firstnations': 1, 'hungerarticles:': 1, 'cnbc': 1, 'latestnews': 1, 'georgecole': 1, 'chawalchorbjp': 1, 'modi': 1, 'mumbairiot92-93': 1, 'gujaratriot': 1, \"appy's\": 1, 'indie': 1, 'hiphop': 1, 'fiya!': 1, 'boulder': 1, 'putin': 1, 'cnv': 1, 'survived': 1, 'hiroshima\\x89ûó#bbc': 1, 'abomb': 1, 'semasirtalks': 1, 'everydaynaija': 1, 'ariz\\x89û_': 1, 'newep': 1, 'theconspiracytheory': 1, 'desolation': 1, 'comingsoon': 1, 'rock': 1, 'electro': 1, 'alt': 1, 'indiatv': 1, 'chicagoscanner': 1, 'followback': 1, 'teamfollowback': 1, 'ndtv': 1, 'deepthoughts': 1, 'kidscompany': 1, 'mumbai...': 1, 'gopdebate': 1, 'movie': 1, 'watch': 1, 'download': 1, 'israel': 1, 'bbsnews': 1, 'chargedup': 1, 'backtoback': 1, 'susiya': 1, 'avigdorliberman': 1, 'glimpses:': 1, 'childsexabuse': 1, 'kamindoz': 1, 'fun': 1, 'food': 1, 'love': 1, 'innocent': 1, 'tragedy': 1, 'sad': 1, 'exec': 1, 'aerospace': 1, 'notrocketscience': 1, 'opseaworld': 1, 'seaworld': 1, 'beclearoncancer': 1, 'blackpool.': 1, 'nghlth': 1, 'us?': 1, 'cdcwhistleblower': 1, 'physician': 1, 'insas!': 1, 'deaths': 1, 'children': 1, 'shipwreck': 1, 'palermo': 1, 'vra50\\x89û\\x9d': 1, 'vaxshill': 1, 'cyprus:': 1, 'coyi': 1, 'icd10': 1, 'jsunnews': 1, 'eyefacts': 1, 'eye': 1, 'glaucoma': 1, 'pt': 1, 'royals': 1, 'kyee': 1, 'komen': 1, 'programs': 1, 'bangladesh': 1, 'asia:': 1, 'comdev': 1, 'kurokobot': 1, 'vanuatu': 1, 'chicago': 1, 'skh': 1, 'mtvhottest': 1, 'weloveyoulouis': 1, 'heywood': 1, 'rochdale': 1, 'peritoengrafoscopia': 1, 'niagara.vehicles': 1, 'qew': 1, 'mapleridge': 1, 'colorado': 1, 'opp': 1, 'cambridge': 1, 'hwy401': 1, 'butgod': 1, 'thedoolinggroup': 1, 'bowe\\x89û_': 1, 'gemma': 1, 'tvjnews': 1, 'wish': 1, 'theashes': 1, 'bailout': 1, \"greece's\": 1, 'talkradio': 1, 'funnynews': 1, 'ijetalerts': 1, 'benews': 1, 'hazmat': 1, 'illinois:': 1, 'gravitymovie': 1, 'phuket': 1, 'nar': 1, 'mix': 1, 'boy': 1, 'endangered': 1, 'ftsnnewsdesk': 1, 'ftsn': 1, 'civilian': 1, '2015': 1, 'afghanistan:': 1, 'pbs': 1, '': 1, 'criticalmedia': 1, 'appreciativeinquiry': 1, 'blacklivesmatter': 1, '?x?:': 1, 'babies': 1, 'zionism': 1, 'myfitnesspal': 1, 'history': 1, 'montgomery': 1, 'manchester.': 1, 'nh1news': 1, 'langata': 1, 'kenya:': 1, 'newyork\\x89û_': 1, 'thestrain': 1, 'respect': 1, '9newsmornings': 1, 'sustainability': 1, 'slingnews': 1, 'gadgets': 1, 'computers': 1, 'ashes': 1, 'cricket': 1, 'pearlharbor': 1, 'entrepreneur': 1, 'smallbusiness': 1, 'setting4success': 1, 'banthebomb': 1, 'bombed': 1, 'bannukes': 1, 'turkish': 1, 'elephantintheroom': 1, 'enolagay': 1, 'womens': 1, 'handbag': 1, 'thisdayinhistory': 1, 'insomnia': 1, 'decisionsondecisions': 1, 'tattoo': 1, 'tweet4taiji': 1, 'israeli': 1, 'refugee': 1, 'infectiousdiseases': 1, 'virus': 1, 'anthrax': 1, 'fedex': 1, 'trucking': 1, 'rickperry': 1, 'bioterror': 1, 'frontpage:': 1, 'gardens': 1, 'les': 1, 'orchardalley': 1, 'nowplaying': 1, 'mobile': 1, 'apple': 1, 'phone': 1, 'radio': 1, 'listen': 1, 'nowplay': 1, 'coloradoavalanche': 1, 'pt:': 1, 'nwo': 1, 'cdnpoli': 1, 'ableg': 1, 'volleyball': 1, 'sanfrancisco': 1, '2minutemix': 1, 'nightbeat': 1, 'headlines:': 1, 'arsonist': 1, 'lesbian': 1, 'lgbt': 1, 'roberts': 1, 'brics': 1, 'armageddon?': 1, 'pbban': 1, 'collegeradi\\x89û_': 1, 'internetradio': 1, 'gilbert23': 1, 'dna': 1, 'emsne\\x89û_': 1, 'rodkiai': 1, 'g90': 1, 'boing': 1, 'turbojet': 1, 'jetengine': 1, 'omg!': 1, 'carfest': 1, 'death': 1, 'pilot': 1, 'aircraft': 1, 'binladen': 1, 'watchthevideo': 1, 'horrible': 1, 'bahrain': 1, 'whag': 1, 'hagerstown': 1, 'ashville': 1, 'fortworth': 1, 'truckcrash': 1, 'bayarea': 1, 'santaclara': 1, 'energy': 1, 'climate': 1, 'diyala': 1, 'kurds': 1, 'bridgetown': 1, 'africanbaze:': 1, 'we': 1, 'tampa': 1, 'tampabay': 1, 'florida': 1, 'raining': 1, 'alaska': 1}\n"
     ]
    }
   ],
   "source": [
    "m={}\n",
    "for i in range(df_train_raw.shape[0]):\n",
    "    for j in df_train_raw.hashtags[i]:\n",
    "        if df_train_raw['target'][i]:\n",
    "            if(j not in m):\n",
    "                m[j]=df_train_raw['target'][i]\n",
    "            else:\n",
    "                m[j]+=df_train_raw['target'][i]\n",
    "\n",
    "# Sort the freq dict\n",
    "freq_hashtags = {k: v for k, v in reversed(sorted(m.items(), key=lambda item: item[1]))}\n",
    "print(freq_hashtags)"
   ],
   "metadata": {
    "collapsed": false,
    "pycharm": {
     "name": "#%%\n"
    }
   }
  },
  {
   "cell_type": "markdown",
   "source": [
    "### Create a feature based in the hashtags"
   ],
   "metadata": {
    "collapsed": false,
    "pycharm": {
     "name": "#%% md\n"
    }
   }
  },
  {
   "cell_type": "markdown",
   "source": [
    "This feature will be 0 if any of the hashtags in the tweet has relevance to a disaster tweet, and will have a value greate than 0 if it has."
   ],
   "metadata": {
    "collapsed": false,
    "pycharm": {
     "name": "#%% md\n"
    }
   }
  },
  {
   "cell_type": "code",
   "execution_count": 91,
   "outputs": [
    {
     "data": {
      "text/plain": "   id keyword location                                               text  \\\n0   0     NaN      NaN                 just happened a terrible car crash   \n1   1     NaN      NaN  our deeds are the reason of this #earthquake m...   \n2   2     NaN      NaN  heard about #earthquake is different cities, s...   \n3   3     NaN      NaN  there is a forest fire at spot pond, geese are...   \n4   4     NaN      NaN             forest fire near la ronge sask. canada   \n\n   target      hashtags  mean_hashtags_target  \n0       0            []                     0  \n1       1  [earthquake]                     0  \n2       0  [earthquake]                     0  \n3       0            []                     0  \n4       1            []                     0  ",
      "text/html": "<div>\n<style scoped>\n    .dataframe tbody tr th:only-of-type {\n        vertical-align: middle;\n    }\n\n    .dataframe tbody tr th {\n        vertical-align: top;\n    }\n\n    .dataframe thead th {\n        text-align: right;\n    }\n</style>\n<table border=\"1\" class=\"dataframe\">\n  <thead>\n    <tr style=\"text-align: right;\">\n      <th></th>\n      <th>id</th>\n      <th>keyword</th>\n      <th>location</th>\n      <th>text</th>\n      <th>target</th>\n      <th>hashtags</th>\n      <th>mean_hashtags_target</th>\n    </tr>\n  </thead>\n  <tbody>\n    <tr>\n      <th>0</th>\n      <td>0</td>\n      <td>NaN</td>\n      <td>NaN</td>\n      <td>just happened a terrible car crash</td>\n      <td>0</td>\n      <td>[]</td>\n      <td>0</td>\n    </tr>\n    <tr>\n      <th>1</th>\n      <td>1</td>\n      <td>NaN</td>\n      <td>NaN</td>\n      <td>our deeds are the reason of this #earthquake m...</td>\n      <td>1</td>\n      <td>[earthquake]</td>\n      <td>0</td>\n    </tr>\n    <tr>\n      <th>2</th>\n      <td>2</td>\n      <td>NaN</td>\n      <td>NaN</td>\n      <td>heard about #earthquake is different cities, s...</td>\n      <td>0</td>\n      <td>[earthquake]</td>\n      <td>0</td>\n    </tr>\n    <tr>\n      <th>3</th>\n      <td>3</td>\n      <td>NaN</td>\n      <td>NaN</td>\n      <td>there is a forest fire at spot pond, geese are...</td>\n      <td>0</td>\n      <td>[]</td>\n      <td>0</td>\n    </tr>\n    <tr>\n      <th>4</th>\n      <td>4</td>\n      <td>NaN</td>\n      <td>NaN</td>\n      <td>forest fire near la ronge sask. canada</td>\n      <td>1</td>\n      <td>[]</td>\n      <td>0</td>\n    </tr>\n  </tbody>\n</table>\n</div>"
     },
     "execution_count": 91,
     "metadata": {},
     "output_type": "execute_result"
    }
   ],
   "source": [
    "df_train_raw['mean_hashtags_target'] = [0,] * df_train_raw.shape[0]\n",
    "df_test_raw['mean_hashtags_target'] = [0,] * df_test_raw.shape[0]\n",
    "\n",
    "df_train_raw.head()"
   ],
   "metadata": {
    "collapsed": false,
    "pycharm": {
     "name": "#%%\n"
    }
   }
  },
  {
   "cell_type": "code",
   "execution_count": 92,
   "outputs": [
    {
     "data": {
      "text/plain": "    id keyword location                                               text  \\\n0    0     NaN      NaN                 just happened a terrible car crash   \n1    1     NaN      NaN  our deeds are the reason of this #earthquake m...   \n2    2     NaN      NaN  heard about #earthquake is different cities, s...   \n3    3     NaN      NaN  there is a forest fire at spot pond, geese are...   \n4    4     NaN      NaN             forest fire near la ronge sask. canada   \n5    5     NaN      NaN  all residents asked to 'shelter in place' are ...   \n6    6     NaN      NaN  13,000 people receive #wildfires evacuation or...   \n7    7     NaN      NaN  just got sent this photo from ruby #alaska as ...   \n8    8     NaN      NaN  #rockyfire update => california hwy. 20 closed...   \n9   10     NaN      NaN  #flood #disaster heavy rain causes flash flood...   \n10  13     NaN      NaN  i'm on top of the hill and i can see a fire in...   \n11  14     NaN      NaN  there's an emergency evacuation happening now ...   \n12  15     NaN      NaN  i'm afraid that the tornado is coming to our a...   \n13  16     NaN      NaN        three people died from the heat wave so far   \n14  17     NaN      NaN  haha south tampa is getting flooded hah- wait ...   \n\n    target                        hashtags  mean_hashtags_target  \n0        0                              []              0.000000  \n1        1                    [earthquake]             16.000000  \n2        0                    [earthquake]             16.000000  \n3        0                              []              0.000000  \n4        1                              []              0.000000  \n5        1                              []              0.000000  \n6        1                     [wildfires]              5.000000  \n7        1             [alaska, wildfires]              3.000000  \n8        1  [rockyfire, cafire, wildfires]              3.333333  \n9        1               [flood, disaster]              2.500000  \n10       1                              []              0.000000  \n11       1                              []              0.000000  \n12       1                              []              0.000000  \n13       1                              []              0.000000  \n14       1                      [flooding]              3.000000  ",
      "text/html": "<div>\n<style scoped>\n    .dataframe tbody tr th:only-of-type {\n        vertical-align: middle;\n    }\n\n    .dataframe tbody tr th {\n        vertical-align: top;\n    }\n\n    .dataframe thead th {\n        text-align: right;\n    }\n</style>\n<table border=\"1\" class=\"dataframe\">\n  <thead>\n    <tr style=\"text-align: right;\">\n      <th></th>\n      <th>id</th>\n      <th>keyword</th>\n      <th>location</th>\n      <th>text</th>\n      <th>target</th>\n      <th>hashtags</th>\n      <th>mean_hashtags_target</th>\n    </tr>\n  </thead>\n  <tbody>\n    <tr>\n      <th>0</th>\n      <td>0</td>\n      <td>NaN</td>\n      <td>NaN</td>\n      <td>just happened a terrible car crash</td>\n      <td>0</td>\n      <td>[]</td>\n      <td>0.000000</td>\n    </tr>\n    <tr>\n      <th>1</th>\n      <td>1</td>\n      <td>NaN</td>\n      <td>NaN</td>\n      <td>our deeds are the reason of this #earthquake m...</td>\n      <td>1</td>\n      <td>[earthquake]</td>\n      <td>16.000000</td>\n    </tr>\n    <tr>\n      <th>2</th>\n      <td>2</td>\n      <td>NaN</td>\n      <td>NaN</td>\n      <td>heard about #earthquake is different cities, s...</td>\n      <td>0</td>\n      <td>[earthquake]</td>\n      <td>16.000000</td>\n    </tr>\n    <tr>\n      <th>3</th>\n      <td>3</td>\n      <td>NaN</td>\n      <td>NaN</td>\n      <td>there is a forest fire at spot pond, geese are...</td>\n      <td>0</td>\n      <td>[]</td>\n      <td>0.000000</td>\n    </tr>\n    <tr>\n      <th>4</th>\n      <td>4</td>\n      <td>NaN</td>\n      <td>NaN</td>\n      <td>forest fire near la ronge sask. canada</td>\n      <td>1</td>\n      <td>[]</td>\n      <td>0.000000</td>\n    </tr>\n    <tr>\n      <th>5</th>\n      <td>5</td>\n      <td>NaN</td>\n      <td>NaN</td>\n      <td>all residents asked to 'shelter in place' are ...</td>\n      <td>1</td>\n      <td>[]</td>\n      <td>0.000000</td>\n    </tr>\n    <tr>\n      <th>6</th>\n      <td>6</td>\n      <td>NaN</td>\n      <td>NaN</td>\n      <td>13,000 people receive #wildfires evacuation or...</td>\n      <td>1</td>\n      <td>[wildfires]</td>\n      <td>5.000000</td>\n    </tr>\n    <tr>\n      <th>7</th>\n      <td>7</td>\n      <td>NaN</td>\n      <td>NaN</td>\n      <td>just got sent this photo from ruby #alaska as ...</td>\n      <td>1</td>\n      <td>[alaska, wildfires]</td>\n      <td>3.000000</td>\n    </tr>\n    <tr>\n      <th>8</th>\n      <td>8</td>\n      <td>NaN</td>\n      <td>NaN</td>\n      <td>#rockyfire update =&gt; california hwy. 20 closed...</td>\n      <td>1</td>\n      <td>[rockyfire, cafire, wildfires]</td>\n      <td>3.333333</td>\n    </tr>\n    <tr>\n      <th>9</th>\n      <td>10</td>\n      <td>NaN</td>\n      <td>NaN</td>\n      <td>#flood #disaster heavy rain causes flash flood...</td>\n      <td>1</td>\n      <td>[flood, disaster]</td>\n      <td>2.500000</td>\n    </tr>\n    <tr>\n      <th>10</th>\n      <td>13</td>\n      <td>NaN</td>\n      <td>NaN</td>\n      <td>i'm on top of the hill and i can see a fire in...</td>\n      <td>1</td>\n      <td>[]</td>\n      <td>0.000000</td>\n    </tr>\n    <tr>\n      <th>11</th>\n      <td>14</td>\n      <td>NaN</td>\n      <td>NaN</td>\n      <td>there's an emergency evacuation happening now ...</td>\n      <td>1</td>\n      <td>[]</td>\n      <td>0.000000</td>\n    </tr>\n    <tr>\n      <th>12</th>\n      <td>15</td>\n      <td>NaN</td>\n      <td>NaN</td>\n      <td>i'm afraid that the tornado is coming to our a...</td>\n      <td>1</td>\n      <td>[]</td>\n      <td>0.000000</td>\n    </tr>\n    <tr>\n      <th>13</th>\n      <td>16</td>\n      <td>NaN</td>\n      <td>NaN</td>\n      <td>three people died from the heat wave so far</td>\n      <td>1</td>\n      <td>[]</td>\n      <td>0.000000</td>\n    </tr>\n    <tr>\n      <th>14</th>\n      <td>17</td>\n      <td>NaN</td>\n      <td>NaN</td>\n      <td>haha south tampa is getting flooded hah- wait ...</td>\n      <td>1</td>\n      <td>[flooding]</td>\n      <td>3.000000</td>\n    </tr>\n  </tbody>\n</table>\n</div>"
     },
     "execution_count": 92,
     "metadata": {},
     "output_type": "execute_result"
    }
   ],
   "source": [
    "def computeMeanHashtags(df_func):\n",
    "    aux = np.zeros(df_func.shape[0])\n",
    "    for i in range(df_func.shape[0]):\n",
    "        for j in df_func.hashtags[i]:\n",
    "            if j in m:\n",
    "                aux[i] += m[j]\n",
    "        if len(df_func.hashtags[i]) != 0:\n",
    "            aux[i] /= len(df_func.hashtags[i])\n",
    "    df_func['mean_hashtags_target'] = aux\n",
    "\n",
    "computeMeanHashtags(df_train_raw)\n",
    "computeMeanHashtags(df_test_raw)\n",
    "df_train_raw.head(15)"
   ],
   "metadata": {
    "collapsed": false,
    "pycharm": {
     "name": "#%%\n"
    }
   }
  },
  {
   "cell_type": "markdown",
   "source": [
    "## Limpeza dos textos dos tweets"
   ],
   "metadata": {
    "collapsed": false
   }
  },
  {
   "cell_type": "markdown",
   "source": [
    "Um coisa interessante de se pensar é que os dados textuais se dão através de textos escritos por pessoas em sua rede social tweeter e podem existir erros de digitação assim é importante tentar corrigir as palavras mal escritas. Para isso podemos usar a biblioteca spell checker."
   ],
   "metadata": {
    "collapsed": false
   }
  },
  {
   "cell_type": "code",
   "execution_count": 93,
   "outputs": [
    {
     "name": "stderr",
     "output_type": "stream",
     "text": [
      "[nltk_data] Downloading package punkt to\n",
      "[nltk_data]     C:\\Users\\vitor\\AppData\\Roaming\\nltk_data...\n",
      "[nltk_data]   Package punkt is already up-to-date!\n",
      "[nltk_data] Downloading package stopwords to\n",
      "[nltk_data]     C:\\Users\\vitor\\AppData\\Roaming\\nltk_data...\n",
      "[nltk_data]   Package stopwords is already up-to-date!\n",
      "[nltk_data] Downloading package wordnet to\n",
      "[nltk_data]     C:\\Users\\vitor\\AppData\\Roaming\\nltk_data...\n",
      "[nltk_data]   Package wordnet is already up-to-date!\n",
      "[nltk_data] Downloading package omw-1.4 to\n",
      "[nltk_data]     C:\\Users\\vitor\\AppData\\Roaming\\nltk_data...\n",
      "[nltk_data]   Package omw-1.4 is already up-to-date!\n"
     ]
    },
    {
     "data": {
      "text/plain": "True"
     },
     "execution_count": 93,
     "metadata": {},
     "output_type": "execute_result"
    }
   ],
   "source": [
    "nltk.download('punkt')\n",
    "nltk.download('stopwords')\n",
    "nltk.download('wordnet')\n",
    "nltk.download('omw-1.4')"
   ],
   "metadata": {
    "collapsed": false,
    "pycharm": {
     "name": "#%%\n"
    }
   }
  },
  {
   "cell_type": "markdown",
   "source": [
    "Reutilizando funções do trabalho prático"
   ],
   "metadata": {
    "collapsed": false
   }
  },
  {
   "cell_type": "code",
   "execution_count": 94,
   "metadata": {},
   "outputs": [],
   "source": [
    "def remove_specials(tokens):\n",
    "    return [unidecode.unidecode(word) for word in tokens]\n",
    "\n",
    "def remove_punctuation(tokens):\n",
    "    table = str.maketrans(\"\",\"\",string.punctuation)\n",
    "    return [w.translate(table) for w in tokens]\n",
    "\n",
    "def array_lower(tokens):\n",
    "    return [w.lower() for w in tokens]\n",
    "\n",
    "def remove_no_words(tokens):\n",
    "    return [word for word in tokens if word.isalpha()]\n",
    "\n",
    "def remove_stop_words(tokens):\n",
    "    stop_words = set(stopwords.words('english'))\n",
    "    return [w for w in tokens if not w in stop_words]\n",
    "\n",
    "\n",
    "def text_cleaner(string):\n",
    "   \n",
    "    # Dividindo texto em tokens\n",
    "    string = word_tokenize(string)\n",
    "    #df_text_column = df_text_column.apply(word_tokenize)\n",
    "    \n",
    "    # Convertendo texto para minusculo\n",
    "    string = array_lower(string)\n",
    "    #df_text_column = df_text_column.apply(array_lower)\n",
    "\n",
    "    # Removendo pontuação\n",
    "    string = remove_punctuation(string)\n",
    "    #df_text_column = df_text_column.apply(remove_punctuation)\n",
    "    \n",
    "    # Removendo caracteres especiais\n",
    "    string = remove_specials(string)\n",
    "    #df_text_column = df_text_column.apply(remove_specials)\n",
    "\n",
    "    # Removendo tokens que não sao palavras\n",
    "    string = remove_no_words(string)\n",
    "    #df_text_column = df_text_column.apply(remove_no_words)\n",
    "\n",
    "    # Removendo tokens que são stop words\n",
    "    string = remove_stop_words(string)\n",
    "    #df_text_column = df_text_column.apply(remove_stop_words)\n",
    "    \n",
    "    return string"
   ]
  },
  {
   "cell_type": "code",
   "execution_count": 95,
   "metadata": {},
   "outputs": [],
   "source": [
    "from sklearn.pipeline import Pipeline\n",
    "from sklearn.decomposition import TruncatedSVD\n",
    "from sklearn.feature_extraction.text import TfidfVectorizer\n",
    "\n",
    "#do_nothing = lambda x: x\n",
    "N_COMPONENTS = 1000 #Vimos com o PCA diminuindo metade das featues tinha uma variancia explicada alta\n",
    "\n",
    "wordnet_lemmatizer = WordNetLemmatizer()\n",
    "lemmazation = lambda words: [wordnet_lemmatizer.lemmatize(tk) for tk in words]\n",
    "\n",
    "\n",
    "tfidf = TfidfVectorizer(tokenizer = lemmazation,lowercase=False, preprocessor=text_cleaner, ngram_range=(1, 2),min_df=10,max_df=0.95)\n",
    "\n",
    "text_process_pipe = Pipeline([\n",
    "                             (\"tfidf\",tfidf),\n",
    "                             (\"pca\", TruncatedSVD(n_components=N_COMPONENTS))\n",
    "                             ])\n"
   ]
  },
  {
   "cell_type": "code",
   "execution_count": 96,
   "metadata": {},
   "outputs": [],
   "source": [
    "X_train = text_process_pipe.fit_transform(df_train_raw['text'])\n",
    "#X_train = np.c_[X_train, df_train_raw['mean_hashtags_target']]\n",
    "y_train = df_train_raw['target']"
   ]
  },
  {
   "cell_type": "code",
   "execution_count": 97,
   "metadata": {},
   "outputs": [],
   "source": [
    "X_test = text_process_pipe.transform(df_test_raw['text'])\n",
    "#X_test = np.c_[X_test, df_test_raw['mean_hashtags_target']]\n",
    "y_test = df_test_raw['target']"
   ]
  },
  {
   "cell_type": "code",
   "execution_count": 98,
   "metadata": {},
   "outputs": [
    {
     "name": "stdout",
     "output_type": "stream",
     "text": [
      "Total variance explained: 89.71%\n"
     ]
    }
   ],
   "source": [
    "print(f\"Total variance explained: {text_process_pipe['pca'].explained_variance_ratio_.sum()*100:.2f}%\")"
   ]
  },
  {
   "cell_type": "code",
   "execution_count": 99,
   "outputs": [
    {
     "data": {
      "text/plain": "(2176, 1000)"
     },
     "execution_count": 99,
     "metadata": {},
     "output_type": "execute_result"
    }
   ],
   "source": [
    "X_test.shape"
   ],
   "metadata": {
    "collapsed": false,
    "pycharm": {
     "name": "#%%\n"
    }
   }
  },
  {
   "cell_type": "code",
   "execution_count": 100,
   "metadata": {},
   "outputs": [
    {
     "data": {
      "text/plain": "        0         1         2         3         4         5         6    \\\n0  0.027389  0.023884  0.002444  0.018444  0.009593  0.002070  0.011601   \n1  0.058016  0.073551  0.002261  0.034070 -0.019065 -0.016369 -0.122046   \n2  0.024883  0.030208  0.006755  0.017865 -0.003076 -0.001520 -0.010396   \n3  0.048726  0.081896  0.290821 -0.111858 -0.012932  0.017581 -0.046255   \n4  0.051358  0.079297  0.313714 -0.122388 -0.017218  0.021087 -0.070999   \n\n        7         8         9    ...       990       991       992       993  \\\n0  0.017625 -0.020172 -0.002026  ... -0.001434 -0.009536 -0.018039  0.017681   \n1 -0.037951 -0.083589 -0.011425  ... -0.005128 -0.003816 -0.001624  0.001042   \n2 -0.001097 -0.018971  0.014374  ...  0.015317 -0.027650  0.021444  0.009798   \n3 -0.055929  0.054285 -0.128578  ...  0.009300  0.000585  0.035564 -0.020815   \n4 -0.055730  0.075089 -0.147684  ...  0.024258 -0.028731 -0.020692  0.028049   \n\n        994       995       996       997       998       999  \n0 -0.025088  0.020344 -0.045330  0.048526  0.040683  0.003308  \n1 -0.005589 -0.000613 -0.010373 -0.003783 -0.007407  0.009493  \n2 -0.018750  0.014400 -0.016583  0.050521  0.006632  0.009217  \n3 -0.001053  0.034096  0.003032  0.008726 -0.042974 -0.005467  \n4  0.023425 -0.027998  0.017469 -0.043639  0.005611  0.010183  \n\n[5 rows x 1000 columns]",
      "text/html": "<div>\n<style scoped>\n    .dataframe tbody tr th:only-of-type {\n        vertical-align: middle;\n    }\n\n    .dataframe tbody tr th {\n        vertical-align: top;\n    }\n\n    .dataframe thead th {\n        text-align: right;\n    }\n</style>\n<table border=\"1\" class=\"dataframe\">\n  <thead>\n    <tr style=\"text-align: right;\">\n      <th></th>\n      <th>0</th>\n      <th>1</th>\n      <th>2</th>\n      <th>3</th>\n      <th>4</th>\n      <th>5</th>\n      <th>6</th>\n      <th>7</th>\n      <th>8</th>\n      <th>9</th>\n      <th>...</th>\n      <th>990</th>\n      <th>991</th>\n      <th>992</th>\n      <th>993</th>\n      <th>994</th>\n      <th>995</th>\n      <th>996</th>\n      <th>997</th>\n      <th>998</th>\n      <th>999</th>\n    </tr>\n  </thead>\n  <tbody>\n    <tr>\n      <th>0</th>\n      <td>0.027389</td>\n      <td>0.023884</td>\n      <td>0.002444</td>\n      <td>0.018444</td>\n      <td>0.009593</td>\n      <td>0.002070</td>\n      <td>0.011601</td>\n      <td>0.017625</td>\n      <td>-0.020172</td>\n      <td>-0.002026</td>\n      <td>...</td>\n      <td>-0.001434</td>\n      <td>-0.009536</td>\n      <td>-0.018039</td>\n      <td>0.017681</td>\n      <td>-0.025088</td>\n      <td>0.020344</td>\n      <td>-0.045330</td>\n      <td>0.048526</td>\n      <td>0.040683</td>\n      <td>0.003308</td>\n    </tr>\n    <tr>\n      <th>1</th>\n      <td>0.058016</td>\n      <td>0.073551</td>\n      <td>0.002261</td>\n      <td>0.034070</td>\n      <td>-0.019065</td>\n      <td>-0.016369</td>\n      <td>-0.122046</td>\n      <td>-0.037951</td>\n      <td>-0.083589</td>\n      <td>-0.011425</td>\n      <td>...</td>\n      <td>-0.005128</td>\n      <td>-0.003816</td>\n      <td>-0.001624</td>\n      <td>0.001042</td>\n      <td>-0.005589</td>\n      <td>-0.000613</td>\n      <td>-0.010373</td>\n      <td>-0.003783</td>\n      <td>-0.007407</td>\n      <td>0.009493</td>\n    </tr>\n    <tr>\n      <th>2</th>\n      <td>0.024883</td>\n      <td>0.030208</td>\n      <td>0.006755</td>\n      <td>0.017865</td>\n      <td>-0.003076</td>\n      <td>-0.001520</td>\n      <td>-0.010396</td>\n      <td>-0.001097</td>\n      <td>-0.018971</td>\n      <td>0.014374</td>\n      <td>...</td>\n      <td>0.015317</td>\n      <td>-0.027650</td>\n      <td>0.021444</td>\n      <td>0.009798</td>\n      <td>-0.018750</td>\n      <td>0.014400</td>\n      <td>-0.016583</td>\n      <td>0.050521</td>\n      <td>0.006632</td>\n      <td>0.009217</td>\n    </tr>\n    <tr>\n      <th>3</th>\n      <td>0.048726</td>\n      <td>0.081896</td>\n      <td>0.290821</td>\n      <td>-0.111858</td>\n      <td>-0.012932</td>\n      <td>0.017581</td>\n      <td>-0.046255</td>\n      <td>-0.055929</td>\n      <td>0.054285</td>\n      <td>-0.128578</td>\n      <td>...</td>\n      <td>0.009300</td>\n      <td>0.000585</td>\n      <td>0.035564</td>\n      <td>-0.020815</td>\n      <td>-0.001053</td>\n      <td>0.034096</td>\n      <td>0.003032</td>\n      <td>0.008726</td>\n      <td>-0.042974</td>\n      <td>-0.005467</td>\n    </tr>\n    <tr>\n      <th>4</th>\n      <td>0.051358</td>\n      <td>0.079297</td>\n      <td>0.313714</td>\n      <td>-0.122388</td>\n      <td>-0.017218</td>\n      <td>0.021087</td>\n      <td>-0.070999</td>\n      <td>-0.055730</td>\n      <td>0.075089</td>\n      <td>-0.147684</td>\n      <td>...</td>\n      <td>0.024258</td>\n      <td>-0.028731</td>\n      <td>-0.020692</td>\n      <td>0.028049</td>\n      <td>0.023425</td>\n      <td>-0.027998</td>\n      <td>0.017469</td>\n      <td>-0.043639</td>\n      <td>0.005611</td>\n      <td>0.010183</td>\n    </tr>\n  </tbody>\n</table>\n<p>5 rows × 1000 columns</p>\n</div>"
     },
     "execution_count": 100,
     "metadata": {},
     "output_type": "execute_result"
    }
   ],
   "source": [
    "#Transforma as features em um Dataframe\n",
    "X_train_view = pd.DataFrame(data=X_train, columns=list(range(N_COMPONENTS)))\n",
    "X_train_view.head()"
   ]
  },
  {
   "cell_type": "code",
   "execution_count": 101,
   "metadata": {},
   "outputs": [
    {
     "data": {
      "text/plain": "Text(0, 0.5, 'Variancia explicada')"
     },
     "execution_count": 101,
     "metadata": {},
     "output_type": "execute_result"
    },
    {
     "data": {
      "text/plain": "<Figure size 432x288 with 1 Axes>",
      "image/png": "[encoded data removed]"
     },
     "metadata": {
      "needs_background": "light"
     },
     "output_type": "display_data"
    }
   ],
   "source": [
    "plt.plot(np.cumsum(text_process_pipe['pca'].explained_variance_ratio_))\n",
    "plt.xlabel('Numero de componentes')\n",
    "plt.ylabel('Variancia explicada')"
   ]
  },
  {
   "cell_type": "markdown",
   "metadata": {},
   "source": [
    "# Analise exploratória de cada classe"
   ]
  },
  {
   "cell_type": "markdown",
   "metadata": {},
   "source": [
    "Os dados possuem 2 classes são elas:\n",
    "\n",
    "0 - Tweets sobre desastres que são fake (Não Desastre)\n",
    "\n",
    "1 - Tweets sobre desastres que são reais (Desastre)"
   ]
  },
  {
   "cell_type": "code",
   "execution_count": 102,
   "metadata": {},
   "outputs": [
    {
     "data": {
      "text/plain": "[Text(0, 0, 'Não Desastre'), Text(1, 0, 'Desastre')]"
     },
     "execution_count": 102,
     "metadata": {},
     "output_type": "execute_result"
    },
    {
     "data": {
      "text/plain": "<Figure size 432x288 with 1 Axes>",
      "image/png": "[encoded data removed]"
     },
     "metadata": {
      "needs_background": "light"
     },
     "output_type": "display_data"
    }
   ],
   "source": [
    "ax = sns.countplot(x='target',data = df)\n",
    "\n",
    "ax.set_title('Distribuição por classe de Todos Dados')\n",
    "ax.set_ylabel('Quantidade')\n",
    "ax.set_xlabel('Classe')\n",
    "ax.set_xticklabels([\"Não Desastre\",\"Desastre\"])"
   ]
  },
  {
   "cell_type": "markdown",
   "metadata": {},
   "source": [
    "Podemos comparar algumas caracteristicas do texto, como tamanho do texto e a quantidade de tokens geradas por cada."
   ]
  },
  {
   "cell_type": "code",
   "execution_count": 103,
   "metadata": {},
   "outputs": [
    {
     "data": {
      "text/plain": "Text(0.5, 1.05, 'Distribuição da quantidade de caracteres do tweet por classe')"
     },
     "execution_count": 103,
     "metadata": {},
     "output_type": "execute_result"
    },
    {
     "data": {
      "text/plain": "<Figure size 762.375x360 with 2 Axes>",
      "image/png": "[encoded data removed]"
     },
     "metadata": {
      "needs_background": "light"
     },
     "output_type": "display_data"
    }
   ],
   "source": [
    "ax = sns.displot(x=df['text'].str.len(),data = df,col='target',hue='target',kde=True)\n",
    "\n",
    "ax.fig.suptitle('Distribuição da quantidade de caracteres do tweet por classe',y=1.05)"
   ]
  },
  {
   "cell_type": "markdown",
   "metadata": {},
   "source": [
    "# Classificadores"
   ]
  },
  {
   "cell_type": "code",
   "execution_count": 104,
   "metadata": {},
   "outputs": [],
   "source": [
    "def test_classifier(classifier,params, X_train,y_train,X_test,y_test):\n",
    "    if params:\n",
    "        clf = GridSearchCV(classifier, params, scoring = 'f1_macro',n_jobs = -1,cv=5, verbose=2)\n",
    "    else:\n",
    "        clf = classifier\n",
    "\n",
    "    clf.fit(X_train, y_train)\n",
    "    \n",
    "    print(clf.best_params_) if params else print(\"Done\")\n",
    "    \n",
    "    y_predicted = clf.predict(X_test)\n",
    "    \n",
    "    print(classification_report(y_test, y_predicted))\n",
    "    ConfusionMatrixDisplay.from_predictions(y_test, y_predicted);\n",
    "    \n",
    "    return clf"
   ]
  },
  {
   "cell_type": "markdown",
   "metadata": {},
   "source": [
    "## Knn"
   ]
  },
  {
   "cell_type": "code",
   "execution_count": 105,
   "metadata": {},
   "outputs": [
    {
     "name": "stdout",
     "output_type": "stream",
     "text": [
      "Fitting 5 folds for each of 5 candidates, totalling 25 fits\n",
      "{'n_neighbors': 3}\n",
      "              precision    recall  f1-score   support\n",
      "\n",
      "           0       0.76      0.89      0.82      1522\n",
      "           1       0.57      0.35      0.43       654\n",
      "\n",
      "    accuracy                           0.73      2176\n",
      "   macro avg       0.67      0.62      0.63      2176\n",
      "weighted avg       0.70      0.73      0.70      2176\n",
      "\n"
     ]
    },
    {
     "data": {
      "text/plain": "<Figure size 432x288 with 2 Axes>",
      "image/png": "[encoded data removed]"
     },
     "metadata": {
      "needs_background": "light"
     },
     "output_type": "display_data"
    }
   ],
   "source": [
    "params = {'n_neighbors': [3,5,7,11,13]}\n",
    "\n",
    "knn = test_classifier(KNeighborsClassifier(),params,X_train,y_train,X_test,y_test)"
   ]
  },
  {
   "cell_type": "markdown",
   "source": [
    "### KNN modified"
   ],
   "metadata": {
    "collapsed": false,
    "pycharm": {
     "name": "#%% md\n"
    }
   }
  },
  {
   "cell_type": "code",
   "execution_count": 106,
   "outputs": [
    {
     "data": {
      "text/plain": "\"\\nhashtag_importance = 0.6\\nauXtrain = X_train.copy()\\nauXtrain[0:999] *= 1-hashtag_importance\\nauXtrain[1000] *= hashtag_importance\\n\\nauxXtest = X_test.copy()\\nauxXtest[0:999] *= 1-hashtag_importance\\nauxXtest[1000] *= hashtag_importance\\n\\nparams = {'n_neighbors': [3,5,7,11,13]}\\n\\nknn = test_classifier(KNeighborsClassifier(),params,auXtrain,y_train,auxXtest,y_test)\\n\""
     },
     "execution_count": 106,
     "metadata": {},
     "output_type": "execute_result"
    }
   ],
   "source": [
    "'''\n",
    "hashtag_importance = 0.6\n",
    "auXtrain = X_train.copy()\n",
    "auXtrain[0:999] *= 1-hashtag_importance\n",
    "auXtrain[1000] *= hashtag_importance\n",
    "\n",
    "auxXtest = X_test.copy()\n",
    "auxXtest[0:999] *= 1-hashtag_importance\n",
    "auxXtest[1000] *= hashtag_importance\n",
    "\n",
    "params = {'n_neighbors': [3,5,7,11,13]}\n",
    "\n",
    "knn = test_classifier(KNeighborsClassifier(),params,auXtrain,y_train,auxXtest,y_test)\n",
    "'''"
   ],
   "metadata": {
    "collapsed": false,
    "pycharm": {
     "name": "#%%\n"
    }
   }
  },
  {
   "cell_type": "markdown",
   "metadata": {
    "pycharm": {
     "name": "#%% md\n"
    }
   },
   "source": [
    "## Decision Tree"
   ]
  },
  {
   "cell_type": "code",
   "execution_count": 107,
   "metadata": {},
   "outputs": [
    {
     "name": "stdout",
     "output_type": "stream",
     "text": [
      "Fitting 5 folds for each of 30 candidates, totalling 150 fits\n",
      "{'criterion': 'gini', 'max_depth': 10, 'max_features': 'auto'}\n",
      "              precision    recall  f1-score   support\n",
      "\n",
      "           0       0.75      0.82      0.78      1522\n",
      "           1       0.47      0.36      0.41       654\n",
      "\n",
      "    accuracy                           0.68      2176\n",
      "   macro avg       0.61      0.59      0.60      2176\n",
      "weighted avg       0.67      0.68      0.67      2176\n",
      "\n"
     ]
    },
    {
     "data": {
      "text/plain": "<Figure size 432x288 with 2 Axes>",
      "image/png": "[encoded data removed]"
     },
     "metadata": {
      "needs_background": "light"
     },
     "output_type": "display_data"
    }
   ],
   "source": [
    "params = {'criterion':['gini','entropy'],\n",
    "          'max_depth':[None,5,10,50,100],\n",
    "          'max_features':[\"auto\", \"sqrt\", \"log2\"]}\n",
    "\n",
    "dt = test_classifier(DecisionTreeClassifier(),params,X_train,y_train,X_test,y_test)"
   ]
  },
  {
   "cell_type": "code",
   "execution_count": 108,
   "metadata": {},
   "outputs": [],
   "source": [
    "dot_data = export_graphviz(dt.best_estimator_, out_file=None,\n",
    "                     filled=True, rounded=True,  \n",
    "                     special_characters=True)\n",
    "\n",
    "graph = graphviz.Source(dot_data)  \n",
    "#graph.render(\"dt-vis\",view = True)\n",
    "#graph"
   ]
  },
  {
   "cell_type": "markdown",
   "source": [
    "## SVM"
   ],
   "metadata": {
    "collapsed": false
   }
  },
  {
   "cell_type": "code",
   "execution_count": 110,
   "outputs": [
    {
     "name": "stdout",
     "output_type": "stream",
     "text": [
      "Fitting 5 folds for each of 1 candidates, totalling 5 fits\n",
      "{'C': 100, 'gamma': 0.01, 'kernel': 'rbf', 'probability': True}\n",
      "              precision    recall  f1-score   support\n",
      "\n",
      "           0       0.79      0.87      0.83      1522\n",
      "           1       0.60      0.46      0.52       654\n",
      "\n",
      "    accuracy                           0.75      2176\n",
      "   macro avg       0.70      0.67      0.68      2176\n",
      "weighted avg       0.73      0.75      0.74      2176\n",
      "\n"
     ]
    },
    {
     "data": {
      "text/plain": "<Figure size 432x288 with 2 Axes>",
      "image/png": "[encoded data removed]"
     },
     "metadata": {
      "needs_background": "light"
     },
     "output_type": "display_data"
    }
   ],
   "source": [
    "from sklearn.svm import SVC\n",
    "'''\n",
    "param_svm = {'C': [0.1,1, 10, 100],\n",
    "             'gamma': [1,0.1,0.01,0.001],\n",
    "             'kernel': ['rbf']}\n",
    "'''\n",
    "#Foi feita a busca com os parametros acima, para não ficar demorando muito oq deu melhor coloquei aqui\n",
    "param_svm = {'C': [100],\n",
    "             'gamma': [0.01],\n",
    "             'kernel': ['rbf'],\n",
    "             'probability': [True]}\n",
    "svm = test_classifier(SVC(),param_svm, X_train,y_train,X_test,y_test)"
   ],
   "metadata": {
    "collapsed": false,
    "pycharm": {
     "name": "#%%\n"
    }
   }
  },
  {
   "cell_type": "markdown",
   "source": [
    "# Junções classificadores"
   ],
   "metadata": {
    "collapsed": false,
    "pycharm": {
     "name": "#%% md\n"
    }
   }
  },
  {
   "cell_type": "markdown",
   "source": [
    "## Random Forest"
   ],
   "metadata": {
    "collapsed": false
   }
  },
  {
   "cell_type": "code",
   "execution_count": 111,
   "metadata": {},
   "outputs": [
    {
     "name": "stdout",
     "output_type": "stream",
     "text": [
      "Fitting 5 folds for each of 18 candidates, totalling 90 fits\n",
      "{'criterion': 'gini', 'max_features': 'auto', 'n_estimators': 10}\n",
      "              precision    recall  f1-score   support\n",
      "\n",
      "           0       0.75      0.90      0.82      1522\n",
      "           1       0.55      0.29      0.38       654\n",
      "\n",
      "    accuracy                           0.72      2176\n",
      "   macro avg       0.65      0.59      0.60      2176\n",
      "weighted avg       0.69      0.72      0.68      2176\n",
      "\n"
     ]
    },
    {
     "data": {
      "text/plain": "<Figure size 432x288 with 2 Axes>",
      "image/png": "[encoded data removed]"
     },
     "metadata": {
      "needs_background": "light"
     },
     "output_type": "display_data"
    }
   ],
   "source": [
    "from sklearn.ensemble import RandomForestClassifier\n",
    "\n",
    "params = {\n",
    "    'n_estimators': [10, 100,1000],\n",
    "    'max_features': ['auto', 'sqrt', 'log2'],\n",
    "    'criterion' :['gini', 'entropy']\n",
    "}\n",
    "\n",
    "rf = test_classifier(RandomForestClassifier(),params,X_train,y_train,X_test,y_test)"
   ]
  },
  {
   "cell_type": "markdown",
   "source": [
    "## Boosting"
   ],
   "metadata": {
    "collapsed": false,
    "pycharm": {
     "name": "#%% md\n"
    }
   }
  },
  {
   "cell_type": "code",
   "execution_count": 112,
   "outputs": [
    {
     "name": "stdout",
     "output_type": "stream",
     "text": [
      "Done\n",
      "              precision    recall  f1-score   support\n",
      "\n",
      "           0       0.74      0.82      0.78      1522\n",
      "           1       0.45      0.35      0.39       654\n",
      "\n",
      "    accuracy                           0.68      2176\n",
      "   macro avg       0.60      0.58      0.59      2176\n",
      "weighted avg       0.66      0.68      0.66      2176\n",
      "\n"
     ]
    },
    {
     "data": {
      "text/plain": "<Figure size 432x288 with 2 Axes>",
      "image/png": "[encoded data removed]"
     },
     "metadata": {
      "needs_background": "light"
     },
     "output_type": "display_data"
    }
   ],
   "source": [
    "from sklearn.ensemble import AdaBoostClassifier\n",
    "\n",
    "params_boost_dt = dt.best_params_\n",
    "dt_b=DecisionTreeClassifier(criterion=params_boost_dt['criterion'],max_depth=params_boost_dt['max_depth'],max_features=params_boost_dt['max_features'])\n",
    "boost = test_classifier(AdaBoostClassifier(base_estimator=dt_b, n_estimators=50, learning_rate=1), None,X_train,y_train,X_test,y_test)"
   ],
   "metadata": {
    "collapsed": false,
    "pycharm": {
     "name": "#%%\n"
    }
   }
  },
  {
   "cell_type": "markdown",
   "source": [
    "## Bagging"
   ],
   "metadata": {
    "collapsed": false
   }
  },
  {
   "cell_type": "code",
   "execution_count": 113,
   "outputs": [
    {
     "name": "stderr",
     "output_type": "stream",
     "text": [
      "[Parallel(n_jobs=6)]: Using backend LokyBackend with 6 concurrent workers.\n",
      "[Parallel(n_jobs=6)]: Done   2 out of   6 | elapsed:    2.6s remaining:    5.4s\n",
      "[Parallel(n_jobs=6)]: Done   3 out of   6 | elapsed:    2.9s remaining:    2.9s\n",
      "[Parallel(n_jobs=6)]: Done   4 out of   6 | elapsed:    3.2s remaining:    1.6s\n",
      "[Parallel(n_jobs=6)]: Done   6 out of   6 | elapsed:    4.1s remaining:    0.0s\n",
      "[Parallel(n_jobs=6)]: Done   6 out of   6 | elapsed:    4.1s finished\n",
      "[Parallel(n_jobs=6)]: Using backend LokyBackend with 6 concurrent workers.\n"
     ]
    },
    {
     "name": "stdout",
     "output_type": "stream",
     "text": [
      "Done\n"
     ]
    },
    {
     "name": "stderr",
     "output_type": "stream",
     "text": [
      "[Parallel(n_jobs=6)]: Done   2 out of   6 | elapsed:   11.4s remaining:   22.9s\n",
      "[Parallel(n_jobs=6)]: Done   3 out of   6 | elapsed:   12.5s remaining:   12.5s\n",
      "[Parallel(n_jobs=6)]: Done   4 out of   6 | elapsed:   16.2s remaining:    8.1s\n",
      "[Parallel(n_jobs=6)]: Done   6 out of   6 | elapsed:   22.4s remaining:    0.0s\n",
      "[Parallel(n_jobs=6)]: Done   6 out of   6 | elapsed:   22.4s finished\n"
     ]
    },
    {
     "name": "stdout",
     "output_type": "stream",
     "text": [
      "              precision    recall  f1-score   support\n",
      "\n",
      "           0       0.76      0.90      0.82      1522\n",
      "           1       0.60      0.35      0.44       654\n",
      "\n",
      "    accuracy                           0.73      2176\n",
      "   macro avg       0.68      0.62      0.63      2176\n",
      "weighted avg       0.71      0.73      0.71      2176\n",
      "\n"
     ]
    },
    {
     "data": {
      "text/plain": "<Figure size 432x288 with 2 Axes>",
      "image/png": "[encoded data removed]"
     },
     "metadata": {
      "needs_background": "light"
     },
     "output_type": "display_data"
    }
   ],
   "source": [
    "from sklearn.ensemble import BaggingClassifier\n",
    "\n",
    "knn_bag = KNeighborsClassifier(n_neighbors=knn.best_params_['n_neighbors'])\n",
    "bag = test_classifier(BaggingClassifier(base_estimator=knn_bag, n_estimators=20, verbose=10, n_jobs=6), None, X_train,y_train,X_test,y_test)"
   ],
   "metadata": {
    "collapsed": false,
    "pycharm": {
     "name": "#%%\n"
    }
   }
  },
  {
   "cell_type": "markdown",
   "source": [
    "## Comparando os classificadores binarios com a curva ROC"
   ],
   "metadata": {
    "collapsed": false
   }
  },
  {
   "cell_type": "code",
   "source": [
    "from sklearn.metrics import roc_curve\n",
    "from sklearn.metrics import roc_auc_score\n",
    "\n",
    "eq_probs = [0 for _ in range(len(y_test))] #Classificador equiprovavel , classifica com 50% de chance\n",
    "eq_fpr , eq_tpr , _ = roc_curve(y_test,eq_probs)\n",
    "plt.plot(eq_fpr,eq_tpr,linestyle='--',label = \"Random Classifier\")\n",
    "\n",
    "classifiers = [knn,dt,svm,rf,boost,bag]\n",
    "label = [\"KNN\",\"Decision Tree\",\"SVM\",\"Random Forest\",\"AdaBoost DT\",\"Bagging KNN\"]\n",
    "for classifier,label in zip(classifiers,label):\n",
    "    class_probs = classifier.predict_proba(X_test)\n",
    "    class_probs = class_probs[:,1] #apenas a chance de classificar a classe positiva\n",
    "\n",
    "    class_fpr , class_tpr , _ = roc_curve(y_test,class_probs)\n",
    "    plt.plot(class_fpr,class_tpr,marker='.',label = label)\n",
    "\n",
    "\n",
    "\n",
    "plt.xlabel('False Positive Rate')\n",
    "plt.ylabel('True Positive Rate')\n",
    "\n",
    "plt.legend()\n",
    "\n",
    "plt.show()"
   ],
   "metadata": {
    "collapsed": false,
    "pycharm": {
     "name": "#%%\n"
    }
   },
   "execution_count": 115,
   "outputs": [
    {
     "name": "stderr",
     "output_type": "stream",
     "text": [
      "[Parallel(n_jobs=6)]: Using backend LokyBackend with 6 concurrent workers.\n",
      "[Parallel(n_jobs=6)]: Done   2 out of   6 | elapsed:   14.9s remaining:   29.9s\n",
      "[Parallel(n_jobs=6)]: Done   3 out of   6 | elapsed:   15.7s remaining:   15.7s\n",
      "[Parallel(n_jobs=6)]: Done   4 out of   6 | elapsed:   17.9s remaining:    8.9s\n",
      "[Parallel(n_jobs=6)]: Done   6 out of   6 | elapsed:   21.0s remaining:    0.0s\n",
      "[Parallel(n_jobs=6)]: Done   6 out of   6 | elapsed:   21.0s finished\n"
     ]
    },
    {
     "data": {
      "text/plain": "<Figure size 432x288 with 1 Axes>",
      "image/png": "[encoded data removed]"
     },
     "metadata": {
      "needs_background": "light"
     },
     "output_type": "display_data"
    }
   ]
  }
 ],
 "metadata": {
  "kernelspec": {
   "display_name": "Python 3",
   "language": "python",
   "name": "python3"
  },
  "language_info": {
   "codemirror_mode": {
    "name": "ipython",
    "version": 3
   },
   "file_extension": ".py",
   "mimetype": "text/x-python",
   "name": "python",
   "nbconvert_exporter": "python",
   "pygments_lexer": "ipython3",
   "version": "3.8.5"
  }
 },
 "nbformat": 4,
 "nbformat_minor": 1
}